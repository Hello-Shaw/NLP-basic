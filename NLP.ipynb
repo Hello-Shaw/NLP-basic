{
 "cells": [
  {
   "cell_type": "code",
   "execution_count": 1,
   "metadata": {},
   "outputs": [],
   "source": [
    "import numpy as np\n",
    "import pandas as pd\n",
    "from pandas import Series,DataFrame"
   ]
  },
  {
   "cell_type": "code",
   "execution_count": 2,
   "metadata": {},
   "outputs": [
    {
     "data": {
      "text/html": [
       "<div>\n",
       "<style scoped>\n",
       "    .dataframe tbody tr th:only-of-type {\n",
       "        vertical-align: middle;\n",
       "    }\n",
       "\n",
       "    .dataframe tbody tr th {\n",
       "        vertical-align: top;\n",
       "    }\n",
       "\n",
       "    .dataframe thead th {\n",
       "        text-align: right;\n",
       "    }\n",
       "</style>\n",
       "<table border=\"1\" class=\"dataframe\">\n",
       "  <thead>\n",
       "    <tr style=\"text-align: right;\">\n",
       "      <th></th>\n",
       "      <th>tweet_id</th>\n",
       "      <th>airline_sentiment</th>\n",
       "      <th>airline_sentiment_confidence</th>\n",
       "      <th>negativereason</th>\n",
       "      <th>negativereason_confidence</th>\n",
       "      <th>airline</th>\n",
       "      <th>airline_sentiment_gold</th>\n",
       "      <th>name</th>\n",
       "      <th>negativereason_gold</th>\n",
       "      <th>retweet_count</th>\n",
       "      <th>text</th>\n",
       "      <th>tweet_coord</th>\n",
       "      <th>tweet_created</th>\n",
       "      <th>tweet_location</th>\n",
       "      <th>user_timezone</th>\n",
       "    </tr>\n",
       "  </thead>\n",
       "  <tbody>\n",
       "    <tr>\n",
       "      <th>0</th>\n",
       "      <td>570306133677760513</td>\n",
       "      <td>neutral</td>\n",
       "      <td>1.0000</td>\n",
       "      <td>NaN</td>\n",
       "      <td>NaN</td>\n",
       "      <td>Virgin America</td>\n",
       "      <td>NaN</td>\n",
       "      <td>cairdin</td>\n",
       "      <td>NaN</td>\n",
       "      <td>0</td>\n",
       "      <td>@VirginAmerica What @dhepburn said.</td>\n",
       "      <td>NaN</td>\n",
       "      <td>2015-02-24 11:35:52 -0800</td>\n",
       "      <td>NaN</td>\n",
       "      <td>Eastern Time (US &amp; Canada)</td>\n",
       "    </tr>\n",
       "    <tr>\n",
       "      <th>1</th>\n",
       "      <td>570301130888122368</td>\n",
       "      <td>positive</td>\n",
       "      <td>0.3486</td>\n",
       "      <td>NaN</td>\n",
       "      <td>0.0000</td>\n",
       "      <td>Virgin America</td>\n",
       "      <td>NaN</td>\n",
       "      <td>jnardino</td>\n",
       "      <td>NaN</td>\n",
       "      <td>0</td>\n",
       "      <td>@VirginAmerica plus you've added commercials t...</td>\n",
       "      <td>NaN</td>\n",
       "      <td>2015-02-24 11:15:59 -0800</td>\n",
       "      <td>NaN</td>\n",
       "      <td>Pacific Time (US &amp; Canada)</td>\n",
       "    </tr>\n",
       "    <tr>\n",
       "      <th>2</th>\n",
       "      <td>570301083672813571</td>\n",
       "      <td>neutral</td>\n",
       "      <td>0.6837</td>\n",
       "      <td>NaN</td>\n",
       "      <td>NaN</td>\n",
       "      <td>Virgin America</td>\n",
       "      <td>NaN</td>\n",
       "      <td>yvonnalynn</td>\n",
       "      <td>NaN</td>\n",
       "      <td>0</td>\n",
       "      <td>@VirginAmerica I didn't today... Must mean I n...</td>\n",
       "      <td>NaN</td>\n",
       "      <td>2015-02-24 11:15:48 -0800</td>\n",
       "      <td>Lets Play</td>\n",
       "      <td>Central Time (US &amp; Canada)</td>\n",
       "    </tr>\n",
       "    <tr>\n",
       "      <th>3</th>\n",
       "      <td>570301031407624196</td>\n",
       "      <td>negative</td>\n",
       "      <td>1.0000</td>\n",
       "      <td>Bad Flight</td>\n",
       "      <td>0.7033</td>\n",
       "      <td>Virgin America</td>\n",
       "      <td>NaN</td>\n",
       "      <td>jnardino</td>\n",
       "      <td>NaN</td>\n",
       "      <td>0</td>\n",
       "      <td>@VirginAmerica it's really aggressive to blast...</td>\n",
       "      <td>NaN</td>\n",
       "      <td>2015-02-24 11:15:36 -0800</td>\n",
       "      <td>NaN</td>\n",
       "      <td>Pacific Time (US &amp; Canada)</td>\n",
       "    </tr>\n",
       "    <tr>\n",
       "      <th>4</th>\n",
       "      <td>570300817074462722</td>\n",
       "      <td>negative</td>\n",
       "      <td>1.0000</td>\n",
       "      <td>Can't Tell</td>\n",
       "      <td>1.0000</td>\n",
       "      <td>Virgin America</td>\n",
       "      <td>NaN</td>\n",
       "      <td>jnardino</td>\n",
       "      <td>NaN</td>\n",
       "      <td>0</td>\n",
       "      <td>@VirginAmerica and it's a really big bad thing...</td>\n",
       "      <td>NaN</td>\n",
       "      <td>2015-02-24 11:14:45 -0800</td>\n",
       "      <td>NaN</td>\n",
       "      <td>Pacific Time (US &amp; Canada)</td>\n",
       "    </tr>\n",
       "  </tbody>\n",
       "</table>\n",
       "</div>"
      ],
      "text/plain": [
       "             tweet_id airline_sentiment  airline_sentiment_confidence  \\\n",
       "0  570306133677760513           neutral                        1.0000   \n",
       "1  570301130888122368          positive                        0.3486   \n",
       "2  570301083672813571           neutral                        0.6837   \n",
       "3  570301031407624196          negative                        1.0000   \n",
       "4  570300817074462722          negative                        1.0000   \n",
       "\n",
       "  negativereason  negativereason_confidence         airline  \\\n",
       "0            NaN                        NaN  Virgin America   \n",
       "1            NaN                     0.0000  Virgin America   \n",
       "2            NaN                        NaN  Virgin America   \n",
       "3     Bad Flight                     0.7033  Virgin America   \n",
       "4     Can't Tell                     1.0000  Virgin America   \n",
       "\n",
       "  airline_sentiment_gold        name negativereason_gold  retweet_count  \\\n",
       "0                    NaN     cairdin                 NaN              0   \n",
       "1                    NaN    jnardino                 NaN              0   \n",
       "2                    NaN  yvonnalynn                 NaN              0   \n",
       "3                    NaN    jnardino                 NaN              0   \n",
       "4                    NaN    jnardino                 NaN              0   \n",
       "\n",
       "                                                text tweet_coord  \\\n",
       "0                @VirginAmerica What @dhepburn said.         NaN   \n",
       "1  @VirginAmerica plus you've added commercials t...         NaN   \n",
       "2  @VirginAmerica I didn't today... Must mean I n...         NaN   \n",
       "3  @VirginAmerica it's really aggressive to blast...         NaN   \n",
       "4  @VirginAmerica and it's a really big bad thing...         NaN   \n",
       "\n",
       "               tweet_created tweet_location               user_timezone  \n",
       "0  2015-02-24 11:35:52 -0800            NaN  Eastern Time (US & Canada)  \n",
       "1  2015-02-24 11:15:59 -0800            NaN  Pacific Time (US & Canada)  \n",
       "2  2015-02-24 11:15:48 -0800      Lets Play  Central Time (US & Canada)  \n",
       "3  2015-02-24 11:15:36 -0800            NaN  Pacific Time (US & Canada)  \n",
       "4  2015-02-24 11:14:45 -0800            NaN  Pacific Time (US & Canada)  "
      ]
     },
     "execution_count": 2,
     "metadata": {},
     "output_type": "execute_result"
    }
   ],
   "source": [
    "data = pd.read_csv(\"Tweets.csv\")\n",
    "data.head()\n"
   ]
  },
  {
   "cell_type": "code",
   "execution_count": 3,
   "metadata": {},
   "outputs": [
    {
     "data": {
      "text/plain": [
       "(14640, 15)"
      ]
     },
     "execution_count": 3,
     "metadata": {},
     "output_type": "execute_result"
    }
   ],
   "source": [
    "data.shape\n"
   ]
  },
  {
   "cell_type": "code",
   "execution_count": 4,
   "metadata": {},
   "outputs": [
    {
     "data": {
      "text/html": [
       "<div>\n",
       "<style scoped>\n",
       "    .dataframe tbody tr th:only-of-type {\n",
       "        vertical-align: middle;\n",
       "    }\n",
       "\n",
       "    .dataframe tbody tr th {\n",
       "        vertical-align: top;\n",
       "    }\n",
       "\n",
       "    .dataframe thead th {\n",
       "        text-align: right;\n",
       "    }\n",
       "</style>\n",
       "<table border=\"1\" class=\"dataframe\">\n",
       "  <thead>\n",
       "    <tr style=\"text-align: right;\">\n",
       "      <th></th>\n",
       "      <th>airline_sentiment</th>\n",
       "      <th>airline_sentiment_confidence</th>\n",
       "      <th>negativereason</th>\n",
       "      <th>negativereason_confidence</th>\n",
       "      <th>airline</th>\n",
       "      <th>text</th>\n",
       "      <th>tweet_coord</th>\n",
       "      <th>tweet_created</th>\n",
       "      <th>tweet_location</th>\n",
       "      <th>user_timezone</th>\n",
       "    </tr>\n",
       "  </thead>\n",
       "  <tbody>\n",
       "    <tr>\n",
       "      <th>0</th>\n",
       "      <td>neutral</td>\n",
       "      <td>1.0000</td>\n",
       "      <td>NaN</td>\n",
       "      <td>NaN</td>\n",
       "      <td>Virgin America</td>\n",
       "      <td>@VirginAmerica What @dhepburn said.</td>\n",
       "      <td>NaN</td>\n",
       "      <td>2015-02-24 11:35:52 -0800</td>\n",
       "      <td>NaN</td>\n",
       "      <td>Eastern Time (US &amp; Canada)</td>\n",
       "    </tr>\n",
       "    <tr>\n",
       "      <th>1</th>\n",
       "      <td>positive</td>\n",
       "      <td>0.3486</td>\n",
       "      <td>NaN</td>\n",
       "      <td>0.0000</td>\n",
       "      <td>Virgin America</td>\n",
       "      <td>@VirginAmerica plus you've added commercials t...</td>\n",
       "      <td>NaN</td>\n",
       "      <td>2015-02-24 11:15:59 -0800</td>\n",
       "      <td>NaN</td>\n",
       "      <td>Pacific Time (US &amp; Canada)</td>\n",
       "    </tr>\n",
       "    <tr>\n",
       "      <th>2</th>\n",
       "      <td>neutral</td>\n",
       "      <td>0.6837</td>\n",
       "      <td>NaN</td>\n",
       "      <td>NaN</td>\n",
       "      <td>Virgin America</td>\n",
       "      <td>@VirginAmerica I didn't today... Must mean I n...</td>\n",
       "      <td>NaN</td>\n",
       "      <td>2015-02-24 11:15:48 -0800</td>\n",
       "      <td>Lets Play</td>\n",
       "      <td>Central Time (US &amp; Canada)</td>\n",
       "    </tr>\n",
       "    <tr>\n",
       "      <th>3</th>\n",
       "      <td>negative</td>\n",
       "      <td>1.0000</td>\n",
       "      <td>Bad Flight</td>\n",
       "      <td>0.7033</td>\n",
       "      <td>Virgin America</td>\n",
       "      <td>@VirginAmerica it's really aggressive to blast...</td>\n",
       "      <td>NaN</td>\n",
       "      <td>2015-02-24 11:15:36 -0800</td>\n",
       "      <td>NaN</td>\n",
       "      <td>Pacific Time (US &amp; Canada)</td>\n",
       "    </tr>\n",
       "    <tr>\n",
       "      <th>4</th>\n",
       "      <td>negative</td>\n",
       "      <td>1.0000</td>\n",
       "      <td>Can't Tell</td>\n",
       "      <td>1.0000</td>\n",
       "      <td>Virgin America</td>\n",
       "      <td>@VirginAmerica and it's a really big bad thing...</td>\n",
       "      <td>NaN</td>\n",
       "      <td>2015-02-24 11:14:45 -0800</td>\n",
       "      <td>NaN</td>\n",
       "      <td>Pacific Time (US &amp; Canada)</td>\n",
       "    </tr>\n",
       "  </tbody>\n",
       "</table>\n",
       "</div>"
      ],
      "text/plain": [
       "  airline_sentiment  airline_sentiment_confidence negativereason  \\\n",
       "0           neutral                        1.0000            NaN   \n",
       "1          positive                        0.3486            NaN   \n",
       "2           neutral                        0.6837            NaN   \n",
       "3          negative                        1.0000     Bad Flight   \n",
       "4          negative                        1.0000     Can't Tell   \n",
       "\n",
       "   negativereason_confidence         airline  \\\n",
       "0                        NaN  Virgin America   \n",
       "1                     0.0000  Virgin America   \n",
       "2                        NaN  Virgin America   \n",
       "3                     0.7033  Virgin America   \n",
       "4                     1.0000  Virgin America   \n",
       "\n",
       "                                                text tweet_coord  \\\n",
       "0                @VirginAmerica What @dhepburn said.         NaN   \n",
       "1  @VirginAmerica plus you've added commercials t...         NaN   \n",
       "2  @VirginAmerica I didn't today... Must mean I n...         NaN   \n",
       "3  @VirginAmerica it's really aggressive to blast...         NaN   \n",
       "4  @VirginAmerica and it's a really big bad thing...         NaN   \n",
       "\n",
       "               tweet_created tweet_location               user_timezone  \n",
       "0  2015-02-24 11:35:52 -0800            NaN  Eastern Time (US & Canada)  \n",
       "1  2015-02-24 11:15:59 -0800            NaN  Pacific Time (US & Canada)  \n",
       "2  2015-02-24 11:15:48 -0800      Lets Play  Central Time (US & Canada)  \n",
       "3  2015-02-24 11:15:36 -0800            NaN  Pacific Time (US & Canada)  \n",
       "4  2015-02-24 11:14:45 -0800            NaN  Pacific Time (US & Canada)  "
      ]
     },
     "execution_count": 4,
     "metadata": {},
     "output_type": "execute_result"
    }
   ],
   "source": [
    "a=data.drop(['tweet_id', 'airline_sentiment_gold','name','negativereason_gold','retweet_count'], axis=1)\n",
    "a.head()"
   ]
  },
  {
   "cell_type": "code",
   "execution_count": 5,
   "metadata": {},
   "outputs": [
    {
     "name": "stdout",
     "output_type": "stream",
     "text": [
      "<class 'pandas.core.frame.DataFrame'>\n",
      "RangeIndex: 14640 entries, 0 to 14639\n",
      "Data columns (total 15 columns):\n",
      "tweet_id                        14640 non-null int64\n",
      "airline_sentiment               14640 non-null object\n",
      "airline_sentiment_confidence    14640 non-null float64\n",
      "negativereason                  9178 non-null object\n",
      "negativereason_confidence       10522 non-null float64\n",
      "airline                         14640 non-null object\n",
      "airline_sentiment_gold          40 non-null object\n",
      "name                            14640 non-null object\n",
      "negativereason_gold             32 non-null object\n",
      "retweet_count                   14640 non-null int64\n",
      "text                            14640 non-null object\n",
      "tweet_coord                     1019 non-null object\n",
      "tweet_created                   14640 non-null object\n",
      "tweet_location                  9907 non-null object\n",
      "user_timezone                   9820 non-null object\n",
      "dtypes: float64(2), int64(2), object(11)\n",
      "memory usage: 1.7+ MB\n"
     ]
    }
   ],
   "source": [
    "data.info()"
   ]
  },
  {
   "cell_type": "code",
   "execution_count": 6,
   "metadata": {},
   "outputs": [
    {
     "data": {
      "text/plain": [
       "0     13873\n",
       "1       640\n",
       "2        66\n",
       "3        22\n",
       "4        17\n",
       "5         5\n",
       "7         3\n",
       "6         3\n",
       "22        2\n",
       "8         1\n",
       "32        1\n",
       "9         1\n",
       "31        1\n",
       "18        1\n",
       "15        1\n",
       "28        1\n",
       "44        1\n",
       "11        1\n",
       "Name: retweet_count, dtype: int64"
      ]
     },
     "execution_count": 6,
     "metadata": {},
     "output_type": "execute_result"
    }
   ],
   "source": [
    "data['retweet_count'].value_counts()"
   ]
  },
  {
   "cell_type": "code",
   "execution_count": 7,
   "metadata": {},
   "outputs": [
    {
     "data": {
      "text/html": [
       "<div>\n",
       "<style scoped>\n",
       "    .dataframe tbody tr th:only-of-type {\n",
       "        vertical-align: middle;\n",
       "    }\n",
       "\n",
       "    .dataframe tbody tr th {\n",
       "        vertical-align: top;\n",
       "    }\n",
       "\n",
       "    .dataframe thead th {\n",
       "        text-align: right;\n",
       "    }\n",
       "</style>\n",
       "<table border=\"1\" class=\"dataframe\">\n",
       "  <thead>\n",
       "    <tr style=\"text-align: right;\">\n",
       "      <th></th>\n",
       "      <th>tweet_id</th>\n",
       "      <th>airline_sentiment</th>\n",
       "      <th>airline_sentiment_confidence</th>\n",
       "      <th>negativereason</th>\n",
       "      <th>negativereason_confidence</th>\n",
       "      <th>airline</th>\n",
       "      <th>airline_sentiment_gold</th>\n",
       "      <th>name</th>\n",
       "      <th>negativereason_gold</th>\n",
       "      <th>retweet_count</th>\n",
       "      <th>text</th>\n",
       "      <th>tweet_coord</th>\n",
       "      <th>tweet_created</th>\n",
       "      <th>tweet_location</th>\n",
       "      <th>user_timezone</th>\n",
       "    </tr>\n",
       "  </thead>\n",
       "  <tbody>\n",
       "    <tr>\n",
       "      <th>1</th>\n",
       "      <td>570301130888122368</td>\n",
       "      <td>positive</td>\n",
       "      <td>0.3486</td>\n",
       "      <td>NaN</td>\n",
       "      <td>0.0</td>\n",
       "      <td>Virgin America</td>\n",
       "      <td>NaN</td>\n",
       "      <td>jnardino</td>\n",
       "      <td>NaN</td>\n",
       "      <td>0</td>\n",
       "      <td>@VirginAmerica plus you've added commercials t...</td>\n",
       "      <td>NaN</td>\n",
       "      <td>2015-02-24 11:15:59 -0800</td>\n",
       "      <td>NaN</td>\n",
       "      <td>Pacific Time (US &amp; Canada)</td>\n",
       "    </tr>\n",
       "    <tr>\n",
       "      <th>6</th>\n",
       "      <td>570300616901320704</td>\n",
       "      <td>positive</td>\n",
       "      <td>0.6745</td>\n",
       "      <td>NaN</td>\n",
       "      <td>0.0</td>\n",
       "      <td>Virgin America</td>\n",
       "      <td>NaN</td>\n",
       "      <td>cjmcginnis</td>\n",
       "      <td>NaN</td>\n",
       "      <td>0</td>\n",
       "      <td>@VirginAmerica yes, nearly every time I fly VX...</td>\n",
       "      <td>NaN</td>\n",
       "      <td>2015-02-24 11:13:57 -0800</td>\n",
       "      <td>San Francisco CA</td>\n",
       "      <td>Pacific Time (US &amp; Canada)</td>\n",
       "    </tr>\n",
       "    <tr>\n",
       "      <th>8</th>\n",
       "      <td>570299953286942721</td>\n",
       "      <td>positive</td>\n",
       "      <td>0.6559</td>\n",
       "      <td>NaN</td>\n",
       "      <td>NaN</td>\n",
       "      <td>Virgin America</td>\n",
       "      <td>NaN</td>\n",
       "      <td>dhepburn</td>\n",
       "      <td>NaN</td>\n",
       "      <td>0</td>\n",
       "      <td>@virginamerica Well, I didn't…but NOW I DO! :-D</td>\n",
       "      <td>NaN</td>\n",
       "      <td>2015-02-24 11:11:19 -0800</td>\n",
       "      <td>San Diego</td>\n",
       "      <td>Pacific Time (US &amp; Canada)</td>\n",
       "    </tr>\n",
       "    <tr>\n",
       "      <th>9</th>\n",
       "      <td>570295459631263746</td>\n",
       "      <td>positive</td>\n",
       "      <td>1.0000</td>\n",
       "      <td>NaN</td>\n",
       "      <td>NaN</td>\n",
       "      <td>Virgin America</td>\n",
       "      <td>NaN</td>\n",
       "      <td>YupitsTate</td>\n",
       "      <td>NaN</td>\n",
       "      <td>0</td>\n",
       "      <td>@VirginAmerica it was amazing, and arrived an ...</td>\n",
       "      <td>NaN</td>\n",
       "      <td>2015-02-24 10:53:27 -0800</td>\n",
       "      <td>Los Angeles</td>\n",
       "      <td>Eastern Time (US &amp; Canada)</td>\n",
       "    </tr>\n",
       "    <tr>\n",
       "      <th>11</th>\n",
       "      <td>570289724453216256</td>\n",
       "      <td>positive</td>\n",
       "      <td>1.0000</td>\n",
       "      <td>NaN</td>\n",
       "      <td>NaN</td>\n",
       "      <td>Virgin America</td>\n",
       "      <td>NaN</td>\n",
       "      <td>HyperCamiLax</td>\n",
       "      <td>NaN</td>\n",
       "      <td>0</td>\n",
       "      <td>@VirginAmerica I &amp;lt;3 pretty graphics. so muc...</td>\n",
       "      <td>NaN</td>\n",
       "      <td>2015-02-24 10:30:40 -0800</td>\n",
       "      <td>NYC</td>\n",
       "      <td>America/New_York</td>\n",
       "    </tr>\n",
       "  </tbody>\n",
       "</table>\n",
       "</div>"
      ],
      "text/plain": [
       "              tweet_id airline_sentiment  airline_sentiment_confidence  \\\n",
       "1   570301130888122368          positive                        0.3486   \n",
       "6   570300616901320704          positive                        0.6745   \n",
       "8   570299953286942721          positive                        0.6559   \n",
       "9   570295459631263746          positive                        1.0000   \n",
       "11  570289724453216256          positive                        1.0000   \n",
       "\n",
       "   negativereason  negativereason_confidence         airline  \\\n",
       "1             NaN                        0.0  Virgin America   \n",
       "6             NaN                        0.0  Virgin America   \n",
       "8             NaN                        NaN  Virgin America   \n",
       "9             NaN                        NaN  Virgin America   \n",
       "11            NaN                        NaN  Virgin America   \n",
       "\n",
       "   airline_sentiment_gold          name negativereason_gold  retweet_count  \\\n",
       "1                     NaN      jnardino                 NaN              0   \n",
       "6                     NaN    cjmcginnis                 NaN              0   \n",
       "8                     NaN      dhepburn                 NaN              0   \n",
       "9                     NaN    YupitsTate                 NaN              0   \n",
       "11                    NaN  HyperCamiLax                 NaN              0   \n",
       "\n",
       "                                                 text tweet_coord  \\\n",
       "1   @VirginAmerica plus you've added commercials t...         NaN   \n",
       "6   @VirginAmerica yes, nearly every time I fly VX...         NaN   \n",
       "8     @virginamerica Well, I didn't…but NOW I DO! :-D         NaN   \n",
       "9   @VirginAmerica it was amazing, and arrived an ...         NaN   \n",
       "11  @VirginAmerica I &lt;3 pretty graphics. so muc...         NaN   \n",
       "\n",
       "                tweet_created    tweet_location               user_timezone  \n",
       "1   2015-02-24 11:15:59 -0800               NaN  Pacific Time (US & Canada)  \n",
       "6   2015-02-24 11:13:57 -0800  San Francisco CA  Pacific Time (US & Canada)  \n",
       "8   2015-02-24 11:11:19 -0800         San Diego  Pacific Time (US & Canada)  \n",
       "9   2015-02-24 10:53:27 -0800       Los Angeles  Eastern Time (US & Canada)  \n",
       "11  2015-02-24 10:30:40 -0800               NYC            America/New_York  "
      ]
     },
     "execution_count": 7,
     "metadata": {},
     "output_type": "execute_result"
    }
   ],
   "source": [
    "positive=data[data.airline_sentiment=='positive']\n",
    "positive.head()"
   ]
  },
  {
   "cell_type": "code",
   "execution_count": 8,
   "metadata": {},
   "outputs": [
    {
     "data": {
      "text/plain": [
       "positive    2363\n",
       "Name: airline_sentiment, dtype: int64"
      ]
     },
     "execution_count": 8,
     "metadata": {},
     "output_type": "execute_result"
    }
   ],
   "source": [
    "positive.airline_sentiment.value_counts()"
   ]
  },
  {
   "cell_type": "code",
   "execution_count": 9,
   "metadata": {},
   "outputs": [
    {
     "data": {
      "text/plain": [
       "negative    9178\n",
       "Name: airline_sentiment, dtype: int64"
      ]
     },
     "execution_count": 9,
     "metadata": {},
     "output_type": "execute_result"
    }
   ],
   "source": [
    "negative=data[data.airline_sentiment=='negative']\n",
    "negative.airline_sentiment.value_counts()"
   ]
  },
  {
   "cell_type": "code",
   "execution_count": 10,
   "metadata": {},
   "outputs": [
    {
     "data": {
      "text/plain": [
       "neutral    3099\n",
       "Name: airline_sentiment, dtype: int64"
      ]
     },
     "execution_count": 10,
     "metadata": {},
     "output_type": "execute_result"
    }
   ],
   "source": [
    "neutral=data[data.airline_sentiment=='neutral']\n",
    "neutral.airline_sentiment.value_counts()"
   ]
  },
  {
   "cell_type": "code",
   "execution_count": 11,
   "metadata": {},
   "outputs": [],
   "source": [
    "import matplotlib.pyplot as plt"
   ]
  },
  {
   "cell_type": "code",
   "execution_count": 12,
   "metadata": {},
   "outputs": [],
   "source": [
    "%matplotlib inline"
   ]
  },
  {
   "cell_type": "code",
   "execution_count": 13,
   "metadata": {},
   "outputs": [
    {
     "data": {
      "text/plain": [
       "negative    9178\n",
       "neutral     3099\n",
       "positive    2363\n",
       "Name: airline_sentiment, dtype: int64"
      ]
     },
     "execution_count": 13,
     "metadata": {},
     "output_type": "execute_result"
    }
   ],
   "source": [
    "data['airline_sentiment'].value_counts()"
   ]
  },
  {
   "cell_type": "code",
   "execution_count": 14,
   "metadata": {},
   "outputs": [
    {
     "data": {
      "text/plain": [
       "<matplotlib.axes._subplots.AxesSubplot at 0x116c72518>"
      ]
     },
     "execution_count": 14,
     "metadata": {},
     "output_type": "execute_result"
    },
    {
     "data": {
      "image/png": "[encoded data removed]",
      "text/plain": [
       "<Figure size 432x288 with 1 Axes>"
      ]
     },
     "metadata": {},
     "output_type": "display_data"
    }
   ],
   "source": [
    "data['airline_sentiment'].value_counts().plot(kind='bar')"
   ]
  },
  {
   "cell_type": "code",
   "execution_count": 15,
   "metadata": {},
   "outputs": [
    {
     "data": {
      "text/plain": [
       "airline\n",
       "American          2759\n",
       "Delta             2222\n",
       "Southwest         2420\n",
       "US Airways        2913\n",
       "United            3822\n",
       "Virgin America     504\n",
       "dtype: int64"
      ]
     },
     "execution_count": 15,
     "metadata": {},
     "output_type": "execute_result"
    }
   ],
   "source": [
    "data.groupby('airline').size()"
   ]
  },
  {
   "cell_type": "code",
   "execution_count": 16,
   "metadata": {},
   "outputs": [
    {
     "data": {
      "image/png": "[encoded data removed]",
      "text/plain": [
       "<Figure size 432x288 with 1 Axes>"
      ]
     },
     "metadata": {},
     "output_type": "display_data"
    }
   ],
   "source": [
    "data['airline'].value_counts().plot(kind='pie');"
   ]
  },
  {
   "cell_type": "code",
   "execution_count": 17,
   "metadata": {},
   "outputs": [
    {
     "data": {
      "text/plain": [
       "<matplotlib.axes._subplots.AxesSubplot at 0x122607208>"
      ]
     },
     "execution_count": 17,
     "metadata": {},
     "output_type": "execute_result"
    },
    {
     "data": {
      "image/png": "[encoded data removed]",
      "text/plain": [
       "<Figure size 432x288 with 1 Axes>"
      ]
     },
     "metadata": {},
     "output_type": "display_data"
    }
   ],
   "source": [
    "g = data.groupby(['airline_sentiment','airline']).size().unstack('airline_sentiment',fill_value=0)\n",
    "g = g.sort_values(['positive','neutral','negative'],ascending=False)[['positive','neutral','negative']]\n",
    "g.plot(kind='bar')"
   ]
  },
  {
   "cell_type": "code",
   "execution_count": 18,
   "metadata": {},
   "outputs": [
    {
     "data": {
      "text/plain": [
       "Customer Service Issue         2910\n",
       "Late Flight                    1665\n",
       "Can't Tell                     1190\n",
       "Cancelled Flight                847\n",
       "Lost Luggage                    724\n",
       "Bad Flight                      580\n",
       "Flight Booking Problems         529\n",
       "Flight Attendant Complaints     481\n",
       "longlines                       178\n",
       "Damaged Luggage                  74\n",
       "Name: negativereason, dtype: int64"
      ]
     },
     "execution_count": 18,
     "metadata": {},
     "output_type": "execute_result"
    }
   ],
   "source": [
    "data['negativereason'].value_counts()"
   ]
  },
  {
   "cell_type": "code",
   "execution_count": 19,
   "metadata": {},
   "outputs": [
    {
     "data": {
      "text/plain": [
       "<matplotlib.axes._subplots.AxesSubplot at 0x1227f8f98>"
      ]
     },
     "execution_count": 19,
     "metadata": {},
     "output_type": "execute_result"
    },
    {
     "data": {
      "image/png": "[encoded data removed]",
      "text/plain": [
       "<Figure size 432x288 with 1 Axes>"
      ]
     },
     "metadata": {},
     "output_type": "display_data"
    }
   ],
   "source": [
    "m = data.groupby(['negativereason','airline']).size().unstack('negativereason',fill_value=0)\n",
    "m = m.sort_values(\n",
    "    ['Customer Service Issue','Late Flight','Can\\'t Tell','Cancelled Flight','Lost Luggage'],\n",
    "                  ascending=False)\n",
    "[['Customer Service Issue','Late Flight','Can\\'t Tell','Cancelled Flight','Lost Luggage']]\n",
    "m.plot(kind='bar')"
   ]
  },
  {
   "cell_type": "code",
   "execution_count": 20,
   "metadata": {
    "scrolled": true
   },
   "outputs": [
    {
     "data": {
      "text/plain": [
       "<matplotlib.axes._subplots.AxesSubplot at 0x1229e1ba8>"
      ]
     },
     "execution_count": 20,
     "metadata": {},
     "output_type": "execute_result"
    },
    {
     "data": {
      "image/png": "[encoded data removed]",
      "text/plain": [
       "<Figure size 432x288 with 1 Axes>"
      ]
     },
     "metadata": {},
     "output_type": "display_data"
    }
   ],
   "source": [
    "g = data.groupby(['negativereason','airline']).size().unstack('negativereason',fill_value=0)\n",
    "g = g.sort_values(['Customer Service Issue','Late Flight','Can\\'t Tell','Lost Luggage'],\n",
    "                  ascending=False)[['Customer Service Issue','Late Flight','Can\\'t Tell','Lost Luggage']]\n",
    "g.plot(kind='bar')"
   ]
  },
  {
   "cell_type": "code",
   "execution_count": 21,
   "metadata": {},
   "outputs": [
    {
     "data": {
      "text/plain": [
       "count    14640.000000\n",
       "mean         0.900169\n",
       "std          0.162830\n",
       "min          0.335000\n",
       "25%          0.692300\n",
       "50%          1.000000\n",
       "75%          1.000000\n",
       "max          1.000000\n",
       "Name: airline_sentiment_confidence, dtype: float64"
      ]
     },
     "execution_count": 21,
     "metadata": {},
     "output_type": "execute_result"
    }
   ],
   "source": [
    "a.airline_sentiment_confidence.describe()"
   ]
  },
  {
   "cell_type": "code",
   "execution_count": 22,
   "metadata": {},
   "outputs": [
    {
     "data": {
      "text/plain": [
       "count    10522.000000\n",
       "mean         0.638298\n",
       "std          0.330440\n",
       "min          0.000000\n",
       "25%          0.360600\n",
       "50%          0.670600\n",
       "75%          1.000000\n",
       "max          1.000000\n",
       "Name: negativereason_confidence, dtype: float64"
      ]
     },
     "execution_count": 22,
     "metadata": {},
     "output_type": "execute_result"
    }
   ],
   "source": [
    "a.negativereason_confidence.describe()"
   ]
  },
  {
   "cell_type": "code",
   "execution_count": 23,
   "metadata": {},
   "outputs": [
    {
     "data": {
      "text/html": [
       "<div>\n",
       "<style scoped>\n",
       "    .dataframe tbody tr th:only-of-type {\n",
       "        vertical-align: middle;\n",
       "    }\n",
       "\n",
       "    .dataframe tbody tr th {\n",
       "        vertical-align: top;\n",
       "    }\n",
       "\n",
       "    .dataframe thead th {\n",
       "        text-align: right;\n",
       "    }\n",
       "</style>\n",
       "<table border=\"1\" class=\"dataframe\">\n",
       "  <thead>\n",
       "    <tr style=\"text-align: right;\">\n",
       "      <th></th>\n",
       "      <th>airline_sentiment</th>\n",
       "      <th>airline_sentiment_confidence</th>\n",
       "      <th>negativereason</th>\n",
       "      <th>negativereason_confidence</th>\n",
       "      <th>airline</th>\n",
       "      <th>text</th>\n",
       "      <th>tweet_coord</th>\n",
       "      <th>tweet_created</th>\n",
       "      <th>tweet_location</th>\n",
       "      <th>user_timezone</th>\n",
       "      <th>senti_confi</th>\n",
       "      <th>nega_confi</th>\n",
       "    </tr>\n",
       "  </thead>\n",
       "  <tbody>\n",
       "    <tr>\n",
       "      <th>0</th>\n",
       "      <td>neutral</td>\n",
       "      <td>1.0000</td>\n",
       "      <td>NaN</td>\n",
       "      <td>NaN</td>\n",
       "      <td>Virgin America</td>\n",
       "      <td>@VirginAmerica What @dhepburn said.</td>\n",
       "      <td>NaN</td>\n",
       "      <td>2015-02-24 11:35:52 -0800</td>\n",
       "      <td>NaN</td>\n",
       "      <td>Eastern Time (US &amp; Canada)</td>\n",
       "      <td>high</td>\n",
       "      <td>NaN</td>\n",
       "    </tr>\n",
       "    <tr>\n",
       "      <th>1</th>\n",
       "      <td>positive</td>\n",
       "      <td>0.3486</td>\n",
       "      <td>NaN</td>\n",
       "      <td>0.0000</td>\n",
       "      <td>Virgin America</td>\n",
       "      <td>@VirginAmerica plus you've added commercials t...</td>\n",
       "      <td>NaN</td>\n",
       "      <td>2015-02-24 11:15:59 -0800</td>\n",
       "      <td>NaN</td>\n",
       "      <td>Pacific Time (US &amp; Canada)</td>\n",
       "      <td>low</td>\n",
       "      <td>NaN</td>\n",
       "    </tr>\n",
       "    <tr>\n",
       "      <th>2</th>\n",
       "      <td>neutral</td>\n",
       "      <td>0.6837</td>\n",
       "      <td>NaN</td>\n",
       "      <td>NaN</td>\n",
       "      <td>Virgin America</td>\n",
       "      <td>@VirginAmerica I didn't today... Must mean I n...</td>\n",
       "      <td>NaN</td>\n",
       "      <td>2015-02-24 11:15:48 -0800</td>\n",
       "      <td>Lets Play</td>\n",
       "      <td>Central Time (US &amp; Canada)</td>\n",
       "      <td>average</td>\n",
       "      <td>NaN</td>\n",
       "    </tr>\n",
       "    <tr>\n",
       "      <th>3</th>\n",
       "      <td>negative</td>\n",
       "      <td>1.0000</td>\n",
       "      <td>Bad Flight</td>\n",
       "      <td>0.7033</td>\n",
       "      <td>Virgin America</td>\n",
       "      <td>@VirginAmerica it's really aggressive to blast...</td>\n",
       "      <td>NaN</td>\n",
       "      <td>2015-02-24 11:15:36 -0800</td>\n",
       "      <td>NaN</td>\n",
       "      <td>Pacific Time (US &amp; Canada)</td>\n",
       "      <td>high</td>\n",
       "      <td>high</td>\n",
       "    </tr>\n",
       "    <tr>\n",
       "      <th>4</th>\n",
       "      <td>negative</td>\n",
       "      <td>1.0000</td>\n",
       "      <td>Can't Tell</td>\n",
       "      <td>1.0000</td>\n",
       "      <td>Virgin America</td>\n",
       "      <td>@VirginAmerica and it's a really big bad thing...</td>\n",
       "      <td>NaN</td>\n",
       "      <td>2015-02-24 11:14:45 -0800</td>\n",
       "      <td>NaN</td>\n",
       "      <td>Pacific Time (US &amp; Canada)</td>\n",
       "      <td>high</td>\n",
       "      <td>high</td>\n",
       "    </tr>\n",
       "  </tbody>\n",
       "</table>\n",
       "</div>"
      ],
      "text/plain": [
       "  airline_sentiment  airline_sentiment_confidence negativereason  \\\n",
       "0           neutral                        1.0000            NaN   \n",
       "1          positive                        0.3486            NaN   \n",
       "2           neutral                        0.6837            NaN   \n",
       "3          negative                        1.0000     Bad Flight   \n",
       "4          negative                        1.0000     Can't Tell   \n",
       "\n",
       "   negativereason_confidence         airline  \\\n",
       "0                        NaN  Virgin America   \n",
       "1                     0.0000  Virgin America   \n",
       "2                        NaN  Virgin America   \n",
       "3                     0.7033  Virgin America   \n",
       "4                     1.0000  Virgin America   \n",
       "\n",
       "                                                text tweet_coord  \\\n",
       "0                @VirginAmerica What @dhepburn said.         NaN   \n",
       "1  @VirginAmerica plus you've added commercials t...         NaN   \n",
       "2  @VirginAmerica I didn't today... Must mean I n...         NaN   \n",
       "3  @VirginAmerica it's really aggressive to blast...         NaN   \n",
       "4  @VirginAmerica and it's a really big bad thing...         NaN   \n",
       "\n",
       "               tweet_created tweet_location               user_timezone  \\\n",
       "0  2015-02-24 11:35:52 -0800            NaN  Eastern Time (US & Canada)   \n",
       "1  2015-02-24 11:15:59 -0800            NaN  Pacific Time (US & Canada)   \n",
       "2  2015-02-24 11:15:48 -0800      Lets Play  Central Time (US & Canada)   \n",
       "3  2015-02-24 11:15:36 -0800            NaN  Pacific Time (US & Canada)   \n",
       "4  2015-02-24 11:14:45 -0800            NaN  Pacific Time (US & Canada)   \n",
       "\n",
       "  senti_confi nega_confi  \n",
       "0        high        NaN  \n",
       "1         low        NaN  \n",
       "2     average        NaN  \n",
       "3        high       high  \n",
       "4        high       high  "
      ]
     },
     "execution_count": 23,
     "metadata": {},
     "output_type": "execute_result"
    }
   ],
   "source": [
    "bins=[0.3,0.6,0.9,1]\n",
    "bin2=[0,0.3,0.6,1]\n",
    "group_names=['low','average','high']\n",
    "a['senti_confi']=pd.cut(a['airline_sentiment_confidence'],bins,labels=group_names)\n",
    "a['nega_confi']=pd.cut(a['negativereason_confidence'],bin2,labels=group_names)\n",
    "a.head()"
   ]
  },
  {
   "cell_type": "code",
   "execution_count": 24,
   "metadata": {},
   "outputs": [],
   "source": [
    "\n",
    "group_names=['low','average','high']\n",
    "\n"
   ]
  },
  {
   "cell_type": "code",
   "execution_count": 25,
   "metadata": {},
   "outputs": [
    {
     "data": {
      "text/plain": [
       "(14640, 12)"
      ]
     },
     "execution_count": 25,
     "metadata": {},
     "output_type": "execute_result"
    }
   ],
   "source": [
    "a.shape\n"
   ]
  },
  {
   "cell_type": "code",
   "execution_count": 26,
   "metadata": {},
   "outputs": [],
   "source": [
    "a=a.drop(['airline_sentiment_confidence', 'negativereason_confidence','tweet_location',], axis=1)\n"
   ]
  },
  {
   "cell_type": "code",
   "execution_count": 27,
   "metadata": {},
   "outputs": [
    {
     "data": {
      "text/plain": [
       "(14640, 9)"
      ]
     },
     "execution_count": 27,
     "metadata": {},
     "output_type": "execute_result"
    }
   ],
   "source": [
    "a.shape"
   ]
  },
  {
   "cell_type": "code",
   "execution_count": 28,
   "metadata": {},
   "outputs": [],
   "source": [
    "#Count vectorization"
   ]
  },
  {
   "cell_type": "code",
   "execution_count": 29,
   "metadata": {},
   "outputs": [],
   "source": [
    "import pandas as pd\n",
    "import re\n",
    "import nltk\n",
    "import string\n",
    "\n",
    "stopwords = nltk.corpus.stopwords.words('english')\n",
    "wn=nltk.WordNetLemmatizer()\n",
    "airline_company=['virginamerica','american','americanair','delta','southwest','united','virginmedia']\n",
    "\n",
    "def clean_text(text):\n",
    "    text = \"\".join([word for word in text if word not in string.punctuation])\n",
    "    tokens = re.split('\\W+', text)\n",
    "    text = [word.lower() for word in tokens if word not in stopwords]\n",
    "    text = [word for word in text if word not in airline_company]\n",
    "    text = [wn.lemmatize(word) for word in text]\n",
    "    return text\n",
    "\n"
   ]
  },
  {
   "cell_type": "code",
   "execution_count": 30,
   "metadata": {},
   "outputs": [
    {
     "data": {
      "text/html": [
       "<div>\n",
       "<style scoped>\n",
       "    .dataframe tbody tr th:only-of-type {\n",
       "        vertical-align: middle;\n",
       "    }\n",
       "\n",
       "    .dataframe tbody tr th {\n",
       "        vertical-align: top;\n",
       "    }\n",
       "\n",
       "    .dataframe thead th {\n",
       "        text-align: right;\n",
       "    }\n",
       "</style>\n",
       "<table border=\"1\" class=\"dataframe\">\n",
       "  <thead>\n",
       "    <tr style=\"text-align: right;\">\n",
       "      <th></th>\n",
       "      <th></th>\n",
       "      <th>0</th>\n",
       "      <th>00</th>\n",
       "      <th>0011</th>\n",
       "      <th>0016</th>\n",
       "      <th>006</th>\n",
       "      <th>0162389030167</th>\n",
       "      <th>0162424965446</th>\n",
       "      <th>0162431184663</th>\n",
       "      <th>0167560070877</th>\n",
       "      <th>...</th>\n",
       "      <th>zkatcher</th>\n",
       "      <th>zombie</th>\n",
       "      <th>zone</th>\n",
       "      <th>zoom</th>\n",
       "      <th>zrh</th>\n",
       "      <th>zrhairport</th>\n",
       "      <th>zukes</th>\n",
       "      <th>zurich</th>\n",
       "      <th>zurichnew</th>\n",
       "      <th>ʖ</th>\n",
       "    </tr>\n",
       "  </thead>\n",
       "  <tbody>\n",
       "    <tr>\n",
       "      <th>0</th>\n",
       "      <td>0</td>\n",
       "      <td>0</td>\n",
       "      <td>0</td>\n",
       "      <td>0</td>\n",
       "      <td>0</td>\n",
       "      <td>0</td>\n",
       "      <td>0</td>\n",
       "      <td>0</td>\n",
       "      <td>0</td>\n",
       "      <td>0</td>\n",
       "      <td>...</td>\n",
       "      <td>0</td>\n",
       "      <td>0</td>\n",
       "      <td>0</td>\n",
       "      <td>0</td>\n",
       "      <td>0</td>\n",
       "      <td>0</td>\n",
       "      <td>0</td>\n",
       "      <td>0</td>\n",
       "      <td>0</td>\n",
       "      <td>0</td>\n",
       "    </tr>\n",
       "    <tr>\n",
       "      <th>1</th>\n",
       "      <td>0</td>\n",
       "      <td>0</td>\n",
       "      <td>0</td>\n",
       "      <td>0</td>\n",
       "      <td>0</td>\n",
       "      <td>0</td>\n",
       "      <td>0</td>\n",
       "      <td>0</td>\n",
       "      <td>0</td>\n",
       "      <td>0</td>\n",
       "      <td>...</td>\n",
       "      <td>0</td>\n",
       "      <td>0</td>\n",
       "      <td>0</td>\n",
       "      <td>0</td>\n",
       "      <td>0</td>\n",
       "      <td>0</td>\n",
       "      <td>0</td>\n",
       "      <td>0</td>\n",
       "      <td>0</td>\n",
       "      <td>0</td>\n",
       "    </tr>\n",
       "    <tr>\n",
       "      <th>2</th>\n",
       "      <td>0</td>\n",
       "      <td>0</td>\n",
       "      <td>0</td>\n",
       "      <td>0</td>\n",
       "      <td>0</td>\n",
       "      <td>0</td>\n",
       "      <td>0</td>\n",
       "      <td>0</td>\n",
       "      <td>0</td>\n",
       "      <td>0</td>\n",
       "      <td>...</td>\n",
       "      <td>0</td>\n",
       "      <td>0</td>\n",
       "      <td>0</td>\n",
       "      <td>0</td>\n",
       "      <td>0</td>\n",
       "      <td>0</td>\n",
       "      <td>0</td>\n",
       "      <td>0</td>\n",
       "      <td>0</td>\n",
       "      <td>0</td>\n",
       "    </tr>\n",
       "    <tr>\n",
       "      <th>3</th>\n",
       "      <td>0</td>\n",
       "      <td>0</td>\n",
       "      <td>0</td>\n",
       "      <td>0</td>\n",
       "      <td>0</td>\n",
       "      <td>0</td>\n",
       "      <td>0</td>\n",
       "      <td>0</td>\n",
       "      <td>0</td>\n",
       "      <td>0</td>\n",
       "      <td>...</td>\n",
       "      <td>0</td>\n",
       "      <td>0</td>\n",
       "      <td>0</td>\n",
       "      <td>0</td>\n",
       "      <td>0</td>\n",
       "      <td>0</td>\n",
       "      <td>0</td>\n",
       "      <td>0</td>\n",
       "      <td>0</td>\n",
       "      <td>0</td>\n",
       "    </tr>\n",
       "    <tr>\n",
       "      <th>4</th>\n",
       "      <td>0</td>\n",
       "      <td>0</td>\n",
       "      <td>0</td>\n",
       "      <td>0</td>\n",
       "      <td>0</td>\n",
       "      <td>0</td>\n",
       "      <td>0</td>\n",
       "      <td>0</td>\n",
       "      <td>0</td>\n",
       "      <td>0</td>\n",
       "      <td>...</td>\n",
       "      <td>0</td>\n",
       "      <td>0</td>\n",
       "      <td>0</td>\n",
       "      <td>0</td>\n",
       "      <td>0</td>\n",
       "      <td>0</td>\n",
       "      <td>0</td>\n",
       "      <td>0</td>\n",
       "      <td>0</td>\n",
       "      <td>0</td>\n",
       "    </tr>\n",
       "  </tbody>\n",
       "</table>\n",
       "<p>5 rows × 15690 columns</p>\n",
       "</div>"
      ],
      "text/plain": [
       "      0  00  0011  0016  006  0162389030167  0162424965446  0162431184663  \\\n",
       "0  0  0   0     0     0    0              0              0              0   \n",
       "1  0  0   0     0     0    0              0              0              0   \n",
       "2  0  0   0     0     0    0              0              0              0   \n",
       "3  0  0   0     0     0    0              0              0              0   \n",
       "4  0  0   0     0     0    0              0              0              0   \n",
       "\n",
       "   0167560070877 ...  zkatcher  zombie  zone  zoom  zrh  zrhairport  zukes  \\\n",
       "0              0 ...         0       0     0     0    0           0      0   \n",
       "1              0 ...         0       0     0     0    0           0      0   \n",
       "2              0 ...         0       0     0     0    0           0      0   \n",
       "3              0 ...         0       0     0     0    0           0      0   \n",
       "4              0 ...         0       0     0     0    0           0      0   \n",
       "\n",
       "   zurich  zurichnew  ʖ  \n",
       "0       0          0  0  \n",
       "1       0          0  0  \n",
       "2       0          0  0  \n",
       "3       0          0  0  \n",
       "4       0          0  0  \n",
       "\n",
       "[5 rows x 15690 columns]"
      ]
     },
     "execution_count": 30,
     "metadata": {},
     "output_type": "execute_result"
    }
   ],
   "source": [
    "from sklearn.feature_extraction.text import CountVectorizer\n",
    "\n",
    "count_vect = CountVectorizer(analyzer=clean_text)\n",
    "X_counts = count_vect.fit_transform(a.text)\n",
    "X_counts_df = pd.DataFrame(X_counts.toarray())\n",
    "X_counts_df.columns = count_vect.get_feature_names()\n",
    "X_counts_df.head()"
   ]
  },
  {
   "cell_type": "code",
   "execution_count": 31,
   "metadata": {},
   "outputs": [],
   "source": [
    "#TF-IDF"
   ]
  },
  {
   "cell_type": "code",
   "execution_count": 32,
   "metadata": {},
   "outputs": [
    {
     "name": "stdout",
     "output_type": "stream",
     "text": [
      "(14640, 15690)\n",
      "['', '0', '00', '0011', '0016', '006', '0162389030167', '0162424965446', '0162431184663', '0167560070877', '0214', '021mbps', '022015', '0223', '02272015', '02282015', '03', '0303', '03032015', '0316', '0372389047497', '0400', '0510', '0530', '0600', '0638', '0671', '0736', '0769', '0xjareds', '1', '10', '100', '1000', '10000', '10000lbs', '1000cost', '1000p', '1000pm', '1001', '1001pm', '1002', '1005am', '1005pm', '1007', '1007p', '1008', '100pm', '101', '1010', '101030', '1014am', '1015', '1015am', '1016', '1019', '102', '1020', '1020pm', '10215', '1024', '1025', '1027', '1028', '103', '1030', '1030a', '1030pm', '1031', '1032', '1035', '1038', '1039', '104', '1041', '1045', '1045pm', '1046', '105', '1050', '1050am', '1051', '1051pm', '1055', '1055pm', '1058', '106', '1065', '1071', '1074', '1079871763', '108', '1080', '1081', '1086', '108639', '1089', '1098', '1099', '10a', '10am', '10d', '10f', '10hour', '10hrs', '10m', '10min', '10mins', '10minute', '10p', '10pm', '10th', '10voucherwhatajoke', '10x', '10x9x17', '10yr', '11', '110', '1100', '1100pm', '1101', '1102', '1106', '1108', '1109', '1110p', '11132012', '1114', '1115', '1115p', '1117', '1119', '112', '1120', '1120am', '1121p', '1123', '1125', '1130', '1130a', '1130am', '1130pm', '1131', '1133', '1135', '1136', '1137', '1138', '1140', '1140am', '1142', '1145am', '1146', '1147', '115', '1150', '1150pm', '1151', '1152', '1155am', '1156', '1159', '1161', '117', '1170', '1171', '1172', '118', '1180', '1181', '1183', '11a', '11am', '11c', '11pm', '11th', '12', '120', '1200', '1200dont', '1202', '1205', '1208', '1212', '1213ewrlax', '1215', '1215pm', '1217', '1217pm', '1219', '122', '1220', '1222', '122322', '1225', '1226', '1226pm', '1228', '1229', '123', '1230', '1230am', '1235ordlga', '1239', '1240', '1242', '1245am', '1247', '1249', '125', '12500', '1250pm', '1254', '125k', '1261', '1265', '127', '1272', '1274', '1278', '128', '1285', '12888155964', '129', '1299', '12a', '12amsound', '12amtoday', '12b', '12h30am', '12month', '12pm', '12th', '12thman', '13', '130', '1300', '13001408092', '13001885409', '13015', '130am', '130if', '130pm', '1310', '1316', '1318', '132', '1320oranything', '1326', '1330', '13341', '1337', '1338', '134', '1348', '135', '1357', '1359', '1359helpaa', '136', '1366', '1373', '138', '1384', '1388', '1389', '13cant', '13th', '14', '140', '1401', '1408', '140pm', '1415', '1416', '1418', '1427', '1447', '1449', '145', '1457', '145pm', '1463', '1472', '1491', '1491plane', '14a', '14am', '14hrs', '14th', '15', '150', '1500', '150000', '150202000419', '150219000114', '1503', '1504', '150am', '1510', '1512', '1514', '1518', '152', '152202', '1528', '1530', '1531', '1533', '1534', '1535', '15369214203', '154', '1542', '1544', '1547', '1552', '1553', '1555', '1557', '1558', '1562', '1565', '1568', '157', '1572', '1576', '1579', '1580', '1581', '1583', '1584', '1589', '159', '1591', '1599', '15hr', '15hrs', '15lb', '15min', '15mins', '15minsits', '15minutes', '15th', '15year', '15yr', '16', '160', '1600', '16000', '1601', '1605', '1610', '1612', '1613', '16132440', '1614', '1618', '162', '1620', '1623', '1625', '1627', '1629', '1632', '1636', '1640', '1641', '1642', '1644', '165', '1651', '1657', '1665', '1669', '167', '1672', '1675', '1679', '1680', '1684', '16866853', '1687', '1689', '1691', '16a', '16h', '16hr', '16mont', '16th', '17', '170', '1700', '1701', '1702', '1703', '17034640200', '1706', '1707', '1708', '1712', '1715', '1729', '1735', '174', '1748', '175', '1750', '1758', '1761', '1769', '1773', '1776', '1777', '1783', '1786', '179', '1791', '1796', '1797', '1798', '17a', '17monthold', '17mph', '17th', '18', '180', '1800', '18004337300', '18009174929', '1800flowers', '1800iflyswa', '1801', '1802', '1808', '1815', '1818', '1820', '1826', '1831', '1836', '1838', '1839', '184', '1843', '1848', '1851', '1855', '1856', '1857', '1861', '1870', '1874get', '1875', '188', '1881', '1891', '1898', '1899', '18feb', '18gal', '18hrs', '18th', '19', '190', '1903', '1907', '1914', '1917', '1918', '192', '1923', '1925', '1937', '1943', '1945', '1946', '195', '1951', '1970', '1971', '1997', '1999', '19b', '19jun6sep', '1a', '1am', '1amp2', '1at', '1b', '1f', '1h', '1h08', '1h40m', '1h45m', '1hour', '1hr', '1k', '1k2mm', '1ker', '1lesscustomer', '1m', '1mnth', '1of', '1other', '1perhr', '1person', '1pm', '1pm1015', '1st', '1stclass', '1sttimeflyer', '1the', '1thingafteranother', '1tix', '1way', '1world', '2', '20', '200', '2000', '20000', '2007', '2008', '2009', '200pm', '200trip', '2010', '2011', '2012', '2013', '2014', '2015', '2016', '2017', '20171', '2020', '2022', '2023', '20288', '2030', '2031', '2033823312', '2034', '2046', '2053', '206', '2062', '2063', '2065', '2066', '2069', '2070', '20748', '2078', '2086', '209', '20feb15', '20hrs', '20k', '20l', '20min', '20mins', '20minute', '20minutes', '20th', '20th30th', '20x157x87', '20years', '20yr', '21', '210', '2100', '2102', '210pm', '211', '21115', '2118', '2119', '211ord', '211pilot', '212', '2120', '21215', '213', '2133', '2139', '214', '21415', '2147251966', '215', '21515', '2155', '216', '2160', '2168', '217', '218', '219', '219221', '21feb15', '21l', '21st', '22', '220', '2202', '2208', '221', '2212015', '2214', '2218', '222', '22214', '22215', '2222', '2224', '222i', '222mdw', '223', '22315', '2238', '224', '224227', '2244', '225', '2251', '22515', '2258', '226', '22614', '226th', '227', '2275', '227just', '228', '2284', '229', '2293', '2298', '22nd', '23', '230', '2301', '2302', '230am', '2312', '2321', '2324', '2330', '2334', '2339', '23483499', '235', '2350', '235pm', '236', '2373', '2386', '2390', '2396', '23oct', '23rd', '24', '240', '2401', '240minute', '2413', '2416', '2417', '2424', '2426', '2448', '245', '245hrs', '2463', '2464', '247', '2470', '2488', '249', '24951170', '2498', '24h', '24hours', '24hr', '24hrs', '24th', '25', '250', '2500', '25000', '250pm', '25100', '2513', '2516', '2522', '2526th', '253', '25367', '255', '2559', '255pm', '256746438028', '2586', '259', '2595', '25a', '25bag', '25hours', '25hrs', '25m', '25min', '25mins', '25mn', '25oct', '25th', '25yrs', '26', '2600', '2601', '261093929756', '261633561838', '2646', '266', '2672', '2692', '2696', '26f', '26min', '26th', '27', '27000', '2702', '2705', '2707', '275', '276', '277', '2792125083854', '27a', '27d', '27l', '27th', '28', '280', '285', '2851', '28apr', '28hrs', '28mar', '28th', '29', '290', '29115', '2917', '293', '2934', '2954', '2955', '295lav', '296', '2962', '297', '298033455', '299', '29daystogo', '2a', '2am', '2ambut', '2b', '2bestfriends', '2bwi', '2check', '2chng', '2d', '2day', '2days', '2dayslate', '2daysofhell', '2daysofunitedfailures', '2emailed', '2fails', '2gether', '2go', '2h30m', '2hours', '2hourwaitsucks', '2hr', '2hr15min', '2hr30', '2hr30min', '2hrs', '2hrs35minonhold', '2jul', '2k', '2k424j0', '2littlebirds', '2maro', '2min', '2mins', '2morrow', '2morrw', '2nd', '2ndary', '2nite', '2nt', '2of2', '2oz', '2plains', '2pm', '2rent', '2rsw', '2spooky', '2wks', '2x', '2xdaily', '2xday', '2xmost', '2y', '2yo', '2yr', '3', '30', '300', '3000', '30000ft', '300am', '300rt', '300s', '304', '304min', '305', '3056', '305pm', '3060', '307', '3075', '3076', '3078', '30k', '30min', '30mins', '30th', '30timesenough', '31', '310', '3100', '3104', '3107952210', '3111', '3113', '312', '3121', '3127', '3130', '31317', '3138', '314505529', '315', '317', '319', '319323', '3198', '31daysofoscar', '31f', '32', '320', '3200', '320008a', '322', '3231dtw', '324', '325', '3252', '3260', '3267', '32742', '3277', '33', '330', '33036', '330am', '330pm', '33115', '3322', '333', '3336', '3349', '335', '3359', '336', '3367', '337', '338', '3387', '3389', '3397', '33for', '34', '340', '3403', '3415', '343', '3444', '345', '3458', '3466', '3472', '348', '3487', '3494', '35', '350', '35000', '3500pts', '350pm', '3511', '3526665682', '353', '354', '355', '355pm', '356', '3574', '358', '3586', '3589', '359', '35a', '35hrs', '35k', '35x', '36', '360', '3611', '3618', '362', '3636gt606gt36', '3659', '3670', '36min', '37', '37000ft', '3709', '3710', '372', '3729but', '3739', '374', '3744', '3745', '375', '3750', '3751', '376', '3763', '3768', '3781', '3797', '37d', '38', '380', '381', '3818', '382', '3825', '3837', '384', '3841', '3854', '386', '3866', '3867', '3870', '3875', '3883', '38950', '3899', '38a', '38e', '39', '390', '3900', '3913', '3923', '3933', '3935', '3937', '395', '3960', '3970', '3999', '39way', '3a', '3am', '3d', '3days', '3hourdelay', '3hours', '3hr', '3hr30min', '3hrdelay', '3hrs', '3m', '3min', '3months', '3pm', '3rd', '3rdtimethishashappened', '3thparty', '3ticketsforjax', '3x', '3xdaily', '3xs', '3xweekly', '3yr', '3yrold', '3yroldtwins', '4', '40', '400', '4000', '40000', '4001', '4007', '4009', '400a', '400ticket', '400we', '4011', '4016', '4016688561', '402', '4028', '403', '4035', '404', '4040', '4047', '405', '4050', '4053', '407', '408', '409', '4097', '40k', '40min', '40mins', '40th', '410', '411', '4110', '411541715', '4124', '4125', '413', '4146', '415', '4158', '416', '41715', '4179', '417pm', '419', '4199', '41cgqueen', '41g', '41min', '42', '420', '4200', '4210', '4223', '4229', '423', '4232', '424', '42415', '4251', '425pm', '4275', '4278', '428', '4284322', '4285', '4297', '43', '430', '4302', '43055', '430am', '4315', '4322', '433', '4333', '4348', '435', '436', '4369', '437', '4372', '4386', '43rd', '44', '440', '44000', '4404gt36', '440pm', '441', '4411', '4420', '4424', '442998', '4435', '4438', '4439', '443min', '4443', '4443we', '445', '4454', '445pm', '4461', '4464', '4465', '4467', '4469', '4471', '4473', '4478', '4487', '449', '4491', '44stocker', '45', '450', '4500', '4505', '4524', '453', '4532', '454', '455', '4553', '456', '4565', '4567', '457', '4583gt36', '4591', '4595', '45min', '45minflight', '45minhour', '45mins', '45minutes', '46', '460', '4603', '4606', '4609', '462', '4628', '463', '464', '4649', '4651', '4663', '46hrs', '46min', '46mins', '47', '470', '471', '472', '4720', '475', '4781', '479', '48', '480', '4827', '4828', '4840', '48413', '486', '489', '48hrs', '49', '4914', '493', '494', '495', '496', '4968', '4972', '4994', '49min', '4am', '4c', '4daysampapologise', '4geiger', '4h2m', '4helped', '4hr', '4hrs', '4jun', '4me', '4minute', '4pm', '4q', '4th', '4ward', '4x', '4yr', '5', '50', '500', '5000', '50000', '5001', '500mile', '5012', '5015', '501c3', '501c3thanks', '502', '503', '504', '505', '5077', '5080', '5095', '5097', '50hrs', '50k', '50lbs', '50m', '50min', '50minssss', '50no', '50th', '51', '5102newflight', '510pm', '512', '5129', '5136', '5137', '513mph', '514', '5141', '515', '5163', '517', '5182', '5187', '518758', '519', '52', '5202', '5203', '521', '522', '5223', '5237', '5238', '525', '526', '5268', '528', '5283', '529557', '52week', '53', '530', '5302', '5320', '533', '5347', '5348', '5350', '539', '5392', '5396', '54', '540', '540pm', '5418', '5431', '544pm', '545', '547', '5491', '55', '550', '551', '5530', '5534', '5545', '5547', '555', '5559', '555phltoslc', '556', '558', '559', '5594', '559pm', '55hrs', '55min', '55mins', '56', '561', '5612', '5639', '5644', '5653', '56680', '57', '5713', '5721', '574', '577', '578', '58', '580815', '581', '584', '587', '587701925count', '589', '58pm', '59', '5903', '5957', '597', '5979', '599', '59way', '5a', '5am', '5ammisery', '5h2m', '5hours', '5hourwait', '5hr', '5hrs', '5hs', '5lbs', '5minute', '5pm', '5th', '5xweekly', '6', '60', '600', '6000', '600117', '600am', '600mph', '601', '603', '604', '605', '605pm', '606', '607', '6090', '60min', '60th', '610362749899', '610pm', '611', '614', '615', '616', '6166', '6170', '6176533040', '618', '619', '62', '620', '620still', '6212massive', '622', '623', '6232', '623544', '625', '628', '630', '630a', '630am', '6318915722', '633', '634', '63446373', '635', '636', '6373', '6377', '639', '639p', '64', '640', '644', '645', '6457', '647', '6475', '648', '6491', '64gb', '65', '6500', '65000', '650am', '651', '653', '6533', '654', '655am', '655but', '655pm', '656xx', '657', '65hr', '6600', '666', '667', '668', '669', '67', '670', '672', '673', '676', '68', '680', '681', '683', '684', '686', '689', '69', '691', '694', '695', '699', '6a', '6am', '6amp8', '6amstuck', '6delays', '6f', '6hour', '6hr', '6hrs', '6in', '6k', '6may23sep', '6mos', '6pm', '6so', '6th', '6wks', '6x', '6yearold', '6yo', '7', '70', '700', '702', '703', '704', '705', '70f', '70min', '70oz', '70plus', '71', '710', '711', '713', '714', '715', '716', '717', '719', '71a', '72', '720', '721', '723', '728', '728feb', '729', '72h', '73', '730', '730a', '730am', '730pmtold', '732', '734', '734pm', '736', '737', '737300', '737800', '7378h4', '737900s', '737s', '738', '74', '740', '7403607771', '740pm', '742', '744', '745', '746', '747', '747400s', '747s', '75', '750', '7500', '750pm', '751', '754pm', '755', '757', '757300', '757s', '759', '75each', '75yo', '763', '763s', '767', '767300', '768', '769', '77', '7700', '771', '77620', '777', '777200', '77770', '779', '77min', '78', '781', '787', '787s', '788', '79', '790', '791', '795', '799', '7a', '7am', '7apr', '7c', '7d', '7day', '7f', '7hour', '7hours', '7hrs', '7min', '7pm', '7th', '7unnecessary', '8', '80', '800', '8000', '8003352247', '8004284322', '8004337300', '80055558000', '800calledampit', '800iflyswa', '800number', '80100', '802', '803', '805', '805am', '806', '8088', '8090', '80sweresomuchfun', '80th', '810', '813', '815', '815p', '816', '8162', '82', '820', '820pm', '823', '825', '826', '8273993', '83', '830', '830a', '830am', '830pm', '833', '834', '835', '837', '838', '841am', '845am', '8465981', '8473573', '8477733', '849s', '85', '850', '851ticket', '8544484', '855', '855pm', '85681', '857am', '858', '85832', '86', '8602947', '863', '86d', '87', '871', '877', '878', '879', '87yearslate', '880', '882', '883', '889', '89', '890', '893', '894', '898', '899', '89ish', '8a', '8am', '8aug', '8b', '8c', '8d', '8e', '8fkqw', '8found', '8h', '8hh4p2', '8hr', '8hrs', '8hrsampwaiting', '8oz', '8pm', '8q6mfd', '8th', '8thapril', '8thtime5monthsold', '8uxzj2', '8x7xvm', '8yr', '9', '90', '900', '9000', '901', '904', '904am', '905', '905am', '905pm', '906', '908', '909', '90mins', '910', '911', '912', '9143290185', '9148445695', '915', '917', '918', '919', '919pm', '920', '925', '930', '930a', '930am', '930pm', '935pm', '94', '940pm', '945', '947', '948', '94lxa62', '95', '950', '950am', '950pm', '951pm', '952', '953', '955', '956', '958', '959', '96', '964012', '964077', '964078', '98', '989', '99', '992', '994', '9999999999', '9a', '9abcdef', '9am', '9c', '9h', '9hour', '9hours', '9hr', '9hrs', '9may5sep', '9news', '9newsbusiness', '9pm', '9year', '9º', 'a', 'a1', 'a15', 'a18', 'a20', 'a3', 'a30', 'a319', 'a320', 'a320s', 'a321', 'a330', 'a380s', 'a3zz0f', 'a4', 'a49', 'a587cw', 'a60', 'a8', 'a9', 'aa', 'aa104', 'aa106', 'aa1061', 'aa1103', 'aa111', 'aa1119', 'aa1224', 'aa1237', 'aa1344', 'aa138', 'aa1401', 'aa1457', 'aa1458', 'aa1469', 'aa153', 'aa157', 'aa1657', 'aa1675', 'aa1679', 'aa1691', 'aa199', 'aa200', 'aa215', 'aa2227', 'aa223', 'aa2334', 'aa2401', 'aa2402', 'aa2416', 'aa2444', 'aa2450', 'aa291', 'aa2924', 'aa3031so', 'aa304', 'aa3074', 'aa3181', 'aa3186', 'aa3195', 'aa3230', 'aa3370', 'aa3390', 'aa3465', 'aa3490', 'aa362', 'aa363', 'aa3688', 'aa375', 'aa4285', 'aa45', 'aa504', 'aa5411', 'aa5ba1506', 'aa65', 'aa67', 'aa76', 'aa91', 'aa919', 'aa951', 'aa953', 'aa973', 'aa977', 'aaaand', 'aaadvantage', 'aaalwayslate', 'aaba', 'aacom', 'aacustomerservice', 'aadavantage', 'aadelay', 'aadfw', 'aadv', 'aadvantage', 'aafail', 'aal', 'aal65', 'aampc', 'aano', 'aaron', 'aarp', 'aateam', 'aaus', 'ab', 'aback', 'abandon', 'abandoned', 'abandonment', 'abassinet', 'abbreve', 'abc', 'abc11wtvd', 'abc7newsbayarea', 'abcletjetbluestreamfeed', 'abcnetwork', 'abcnetworks', 'abcnews', 'abducted', 'abi', 'abidfw', 'abigailedge', 'ability', 'able', 'aboard', 'aboout', 'abounds', 'about', 'abq', 'abroad', 'absolute', 'absolutely', 'absorb', 'absorber', 'absoulutely', 'absurd', 'absurdity', 'absurdly', 'abt', 'abundance', 'abuse', 'abused', 'abysmal', 'ac', 'acarl4hotmailcom', 'acc', 'accelerate', 'accept', 'acceptable', 'accepted', 'accepting', 'acces', 'access', 'accessibility', 'accessible', 'accessing', 'accident', 'accidentally', 'accomidating', 'accommodate', 'accommodated', 'accommodates', 'accommodating', 'accommodation', 'accompaniment', 'accompany', 'accomplish', 'accomplished', 'according', 'accordingly', 'account', 'accountability', 'accountable', 'accrue', 'accruing', 'acct', 'acctits', 'accts', 'accumulation', 'accurate', 'accurately', 'accuratetraveltimes', 'accused', 'achieve', 'achieves', 'achieving', 'ack', 'acknowledge', 'acknowledgement', 'acknowledgment', 'acnewsguy', 'acosta', 'acoustic', 'acpt', 'acquire', 'acquired', 'acquisition', 'across', 'act', 'acted', 'acting', 'actingoutmgmnt', 'action', 'activate', 'activated', 'active', 'activealy', 'actively', 'activitiesprevention', 'activity', 'actual', 'actually', 'actualy', 'acu', 'acy', 'ad', 'ada', 'adam', 'adamkarren', 'adapted', 'add', 'addair', 'added', 'adding', 'addition', 'additional', 'additionally', 'additonal', 'addr', 'address', 'addressed', 'addressing', 'addressusername', 'addtl', 'adjacent', 'adjusting', 'adjustment', 'admin', 'admiral', 'admiralsclub', 'admit', 'admitted', 'adolfo', 'adopted', 'adopting', 'adore', 'adress', 'adult', 'adv', 'advan', 'advance', 'advantage', 'adventure', 'advertise', 'advertised', 'advertising', 'advice', 'advis', 'advise', 'advised', 'advising', 'advisory', 'advisorynow', 'advisoryreally', 'advsry', 'aegeanairlines', 'aerocivilcol', 'aerojobmarket', 'aeroport', 'aex', 'af', 'affair', 'affect', 'affected', 'affecting', 'affiliate', 'affiliated', 'afford', 'affordable', 'afiliates', 'aflame', 'aforementioned', 'afraid', 'african', 'aft', 'after', 'after2', 'afterall', 'afternoon', 'afterward', 'aftr', 'again', 'againestimated', 'againflying', 'againget', 'againlate', 'againlost', 'againto', 'agcommunity', 'age', 'aged', 'agency', 'agent', 'agentbooked', 'agenti', 'agentthen', 'agentwhats', 'aggiemensgolf', 'aggravated', 'aggravating', 'aggravation', 'aggressive', 'agianand', 'aging', 'agnt', 'ago', 'agotoday', 'agovacationfail', 'agoyet', 'agree', 'agreed', 'agreement', 'agt', 'agtb', 'agts', 'ah', 'aha', 'ahah', 'ahead', 'ahem', 'ahhhh', 'ahhhhh', 'ahold', 'ahoy', 'ai', 'aiecraft', 'aif2015', 'ailing', 'aim', 'aimed', 'aint', 'air', 'airat', 'airborne', 'airbus', 'airbus321seat14fproblems', 'airbusintheus', 'aircanada', 'aircargo', 'aircraft', 'aircraftrunways', 'aircrft', 'aire', 'aired', 'airfare', 'airfarewatchdog', 'airline', 'airlineadviser', 'airlinegave', 'airlinegeeks', 'airlineguys', 'airlinehate', 'airlinehave', 'airlineive', 'airlinequality', 'airliner', 'airlinesecurity', 'airlinesyour', 'airmiles', 'airnzusa', 'airplane', 'airplanemodewason', 'airport', 'airport2', 'airportcalledplease', 'airportcardio', 'airportfra', 'airporthave', 'airportheld', 'airports1st', 'airportwide', 'airpt', 'airserv', 'airside', 'airsouthwest', 'airspace', 'airstairs', 'airtahitinui', 'airtran', 'airway', 'airwe', 'aisle', 'aka', 'akron', 'al', 'ala', 'alabama', 'alamo', 'alan', 'alanbledsoe', 'alarm', 'alaska', 'alaskaair', 'alavera', 'alb', 'albany', 'albanyairport', 'albeit', 'albertbreer', 'album', 'albuquer', 'albuquerque', 'alcohol', 'alert', 'alerted', 'alex', 'alfamilyoffour', 'ali', 'alicia', 'alifestory', 'aligned', 'alison', 'alist', 'alistey', 'alistpreferred', 'alittle', 'alittlebetter', 'alive', 'all', 'allan', 'allegiantair', 'allegianttravel', 'allende', 'allergic', 'allergy', 'alleviate', 'allgood', 'alliance', 'allll', 'allow', 'allowabl', 'allowable', 'allowance', 'allowed', 'allowing', 'allows', 'allready', 'allrepresentativesbusy', 'allright', 'alls', 'allyoucanjetpass', 'almost', 'alone', 'along', 'alot', 'already', 'alreadycrowded', 'alreadygot', 'alreadyrebookedonce', 'alright', 'also', 'alsonodrinkcartcomingaround', 'alsoyayforsnacks', 'alstdi', 'alt', 'alternate', 'alternative', 'alternatively', 'although', 'altitude', 'altonbrownlive', 'alway', 'always', 'alwaysdelayed', 'alwaysdelayedonunited', 'alwayshappensthere', 'alwayslate', 'alynewton', 'am', 'amagrino', 'amarillo', 'amateur', 'amateurish', 'amazed', 'amazefor', 'amazing', 'amazingflightcrew', 'amazingly', 'amazings', 'amazon', 'ambassador', 'ambivalence', 'amen', 'amend', 'amenity', 'america', 'american', 'americanairbr', 'americanaireveryone', 'americanairif', 'americanairlines', 'americanairlinesfail', 'americanairlnes', 'americanairother', 'americanairs', 'americanairstill', 'americanairsucks', 'americandairlinessucks', 'americanforlife', 'americanisbetter', 'americanone', 'americant', 'americanview', 'amex', 'amexserve', 'ami', 'amid', 'amiga', 'amiltx3', 'aminaur', 'amirite', 'amm', 'amnt', 'among', 'amongst', 'amount', 'amp', 'amp250', 'ampamp', 'ampfeel', 'amponly', 'amppraying', 'ampsock', 'ampwait', 'ampwebsite', 'amshould', 'amso', 'amsterdam', 'amt', 'amtrak', 'amy', 'amybruni', 'amypoehler', 'an', 'ana', 'analyst', 'analystdoc', 'analytics', 'anamarketers', 'anaphylaxiswill', 'anarchy', 'anchorage', 'and', 'andchexmix', 'anderson', 'andor', 'andrew', 'andrewbiga', 'andrewfallis', 'andrewwasila', 'android', 'andthewinneris', 'andyellwood', 'angel', 'angeles', 'angelo', 'angering', 'angle', 'angriest', 'angry', 'angryairtravel', 'angryandsober', 'angrybird', 'angrycustomer', 'angrytraveler', 'angstiest', 'anhour', 'animal', 'anku', 'ann', 'anna', 'annamarie', 'annebevi', 'annettenaif', 'anni', 'anniversary', 'annnndddd', 'annnnddddd', 'annnnnd', 'announce', 'announced', 'announcement', 'announcementno', 'announcer', 'announces', 'announcing', 'annoyed', 'annoying', 'annricord', 'annual', 'another', 'anotherdisappointment', 'anotherfail', 'ansleyhutson', 'answer', 'answered', 'answering', 'answeringdont', 'answerphone', 'answersno', 'answerthephone', 'answerthis', 'ant', 'anthony', 'anticipate', 'anticipating', 'anticipation', 'anticonsumer', 'antigua', 'antitrust', 'antkneee', 'antonio', 'anxiety', 'anxious', 'any', 'any1', 'anybody', 'anyhelp', 'anymore', 'anyone', 'anyone40min', 'anyones', 'anyonethere', 'anythin', 'anything', 'anythingjust', 'anytime', 'anyway', 'anyways', 'anywhere', 'aok', 'ap', 'apart', 'apathetic', 'apathy', 'apeared', 'api', 'apnea', 'apollochplayers', 'apologise', 'apologize', 'apologized', 'apologizes', 'apologizing', 'apology', 'apology25', 'apostrophe', 'apostrophefail', 'app', 'appalled', 'appalling', 'apparent', 'apparently', 'appealing', 'appear', 'appeared', 'appears', 'appease', 'applaud', 'applauded', 'applause', 'apple', 'applepay', 'appleton', 'applicable', 'application', 'applied', 'applies', 'apply', 'applying', 'appointed', 'appointment', 'appreciate', 'appreciated', 'appreciates', 'appreciation', 'approach', 'approaching', 'appropriate', 'appropriately', 'appropriation', 'approproately', 'approval', 'approve', 'approved', 'approx', 'approximate', 'approximately', 'apps', 'appt', 'april', 'aprilmay', 'apron', 'apt', 'apx', 'aquadilla', 'ar', 'arab', 'arbitrarily', 'arbitrary', 'arc', 'archaic', 'ardent', 'are', 'area', 'arehis', 'arena', 'arent', 'areyounew', 'argentina', 'argentinaclaiming', 'argg', 'argh', 'argue', 'argued', 'argueing', 'arguing', 'argument', 'arizona', 'arkansas', 'arm', 'arminrosen', 'armrest', 'army', 'arose', 'around', 'arpt', 'arrange', 'arranged', 'arrangement', 'arrival', 'arrive', 'arrived', 'arrives', 'arriving', 'arrogant', 'art', 'article', 'artisanal', 'artluggage', 'aruba', 'arubaairport', 'aruna', 'arvls', 'as', 'asap', 'asarcoesar', 'ase', 'ase24766m', 'asgmnt', 'ash', 'asha', 'ashamed', 'ashevilleair', 'ashley', 'ashleykatherton', 'asia', 'aside', 'ask', 'askamex', 'asked', 'asking', 'askpaypal', 'asks', 'asleep', 'aspen', 'aspenbaggagefail', 'ass', 'assaulted', 'assed', 'asset', 'asshole', 'assign', 'assigned', 'assignment', 'assist', 'assistance', 'assistanceyou', 'assistant', 'assisted', 'assisting', 'associated', 'assuage', 'assult', 'assume', 'assumed', 'assuming', 'assurance', 'assure', 'assured', 'assuring', 'astoria', 'astounded', 'astounding', 'astounds', 'asus', 'at', 'atc', 'atct', 'atgate', 'ath', 'athlete', 'atl', 'atlanta', 'atlantic', 'atlaus', 'atleast', 'atlhou', 'atlno', 'atlord', 'atrocious', 'att', 'attach', 'attached', 'attackingbabymomma', 'attained', 'attdt', 'attempt', 'attempted', 'attempting', 'attend', 'attendant', 'attendantcan', 'attendanteliz', 'attendanttrue', 'attended', 'attendee', 'attendent', 'attendents', 'attending', 'attention', 'attentive', 'attentiveness', 'attire', 'attitude', 'attitudeissues', 'attitudycustomer', 'attndt', 'atwonline', 'atx', 'au', 'au1066', 'auciello', 'auckland', 'auction', 'audience', 'audio', 'audition', 'auditorium1118', 'auf', 'aug', 'august', 'auh', 'aumilo1', 'aunt', 'aunty', 'aurorabiz', 'auscun', 'aussie', 'austic', 'austin', 'austinairport', 'austinbergstrom', 'austindallas', 'australia', 'austrian', 'author', 'authoritative', 'authority', 'authorize', 'auto', 'autoapplied', 'automated', 'automatic', 'automatically', 'automobile', 'autorebooked', 'autoreflight', 'autoresponse', 'av', 'av8b', 'avail', 'availab', 'availability', 'available', 'availableyour', 'avalible', 'avalonhollywood', 'avatar', 'avduffy', 'avenue', 'average', 'averaging', 'averted', 'avgeek', 'aviation', 'avios', 'avis', 'aviv', 'avoid', 'avoidable', 'avoided', 'avoiding', 'avon', 'avp', 'aw', 'await', 'awaiting', 'awake', 'award', 'aware', 'away', 'awayhere', 'awaynow', 'awaywhy', 'awe', 'awe1701', 'awe474', 'aweful', 'awesome', 'awesomebright', 'awesomeee', 'awesomeness', 'awful', 'awfulcustomerservice', 'awfully', 'awfulness', 'awheelchair', 'awhile', 'awkward', 'awol', 'awrd', 'aww', 'awww', 'awwweesssooomee', 'ay', 'aye', 'ayyy', 'az', 'b', 'b1', 'b11', 'b12', 'b13', 'b15', 'b16', 'b18', 'b3', 'b36a', 'b4', 'b40', 'b44', 'b46', 'b6', 'b737700', 'b737800w', 'b737900', 'b738', 'b767300er', 'b767400er', 'b777200er', 'b787', 'b787fans', 'b8', 'b91', 'ba', 'ba1551', 'baby', 'babyfood', 'bach', 'bachelorpartymishap', 'back', 'backanother', 'backattempt', 'backed', 'backend', 'backended', 'backfas', 'backhome', 'backing', 'backlog', 'backpack', 'backroads', 'backtodelta', 'backtowinter', 'backup', 'backwards', 'backyard', 'bad', 'bad4business', 'badairline', 'badbadbad', 'badbusiness', 'badbussiness', 'badcustomerexperience', 'badcustomerservice', 'badcustomersrvice', 'bademployeeproblem', 'badge', 'badly', 'badmaybe', 'badmgmt', 'badpolicy', 'badservice', 'badwebsite', 'bae', 'baejet', 'bafore', 'baftz', 'bag', 'bagage', 'bagawim', 'bagcould', 'bagdisgutedindenver', 'baggage', 'baggagedrama', 'baggagefail', 'baggagefind', 'baggageissues', 'baggagelost', 'baggageridiculous', 'bagits', 'bagsflyfree', 'bagsflyfreebutnotwithme', 'bagsno', 'bagswhich', 'bagtag', 'bagyet', 'bahamas', 'bailed', 'bailey', 'bait', 'baitampswitch', 'baitandswitch', 'baked', 'baking', 'balance', 'balancing', 'baldordash', 'baldwin', 'ball', 'ballbag', 'ballin', 'balloon', 'ballsturn', 'balt', 'baltimore', 'banana', 'band', 'bandie', 'bandwidth', 'bangkok', 'bank', 'bankrupt', 'bankruptcy', 'banned', 'banning', 'bar', 'barbados', 'barbara', 'barclay', 'barclaycardus', 'barclays', 'barcodes', 'barely', 'barelyexpired', 'barking', 'barklays', 'barnum', 'barrel', 'barrettkarabis', 'barrier', 'barzegar', 'base', 'based', 'bashing', 'basic', 'basically', 'basket', 'basketball', 'bass', 'bastard', 'bathroom', 'batman', 'battery', 'battierccipuppy', 'batting', 'battle', 'battling', 'bausa', 'bay', 'bayespecially', 'bbbmedia', 'bbbnesdksia', 'bc', 'bcn', 'bcs', 'bcuz', 'bcz', 'bd', 'bday', 'bdindallas', 'bdl', 'bdldca', 'bdng', 'bdsm', 'be', 'be4', 'beach', 'beamske', 'bean', 'beanie', 'beantownmatty', 'bear', 'bearable', 'beareavement', 'beat', 'beating', 'beatriz', 'beatsmusic', 'beatstheothers', 'beautiful', 'beautifull', 'beautifully', 'beauty', 'bebetter', 'bec', 'became', 'because', 'becky', 'become', 'becomes', 'becoming', 'becuase', 'becuz', 'bed', 'bedofroses', 'beefjerky', 'been', 'been3hours', 'beer', 'befor', 'before', 'beforeafter', 'beg', 'began', 'begging', 'begin', 'beginning', 'begrudgingly', 'begun', 'behalf', 'behave', 'behaves', 'behavior', 'behind', 'beijing', 'bein', 'being', 'beingsuckontarmacsucks', 'beis', 'belabor', 'belfast', 'belfastairport', 'belief', 'believable', 'believe', 'believing', 'belize', 'bellagio', 'belligerent', 'belong', 'belonging', 'beloved', 'belt', 'belti', 'belttoolong', 'ben', 'benadryl', 'bench', 'beneficial', 'benefit', 'benes', 'benjaminokeefe', 'bensonhenderson', 'beought', 'bereavement', 'bergstrom', 'berlin', 'bernhardtjh', 'bershawnjackson', 'besides', 'best', 'bestairline', 'bestairlineever', 'bestcrew', 'bestdressed', 'bestemployees', 'bestflightever', 'bestfriend', 'bestinclass', 'bestinclasssocial', 'bestplanesever', 'besty', 'bet', 'beta', 'betch', 'bethonors', 'betsy', 'better', 'betterfrom', 'betterother', 'betting', 'bettween', 'betty', 'between', 'beverage', 'bevy', 'beware', 'bewhat', 'beyond', 'bf', 'bff', 'bffs', 'bfs', 'bg', 'bg0kwm', 'bgm', 'bgr', 'bgr1061', 'bham', 'bhm', 'bhxofficial', 'bible', 'biceps', 'bicycle', 'bid', 'big', 'bigger', 'biggest', 'biggie', 'bike', 'bil', 'bila', 'bill', 'billed', 'billing', 'billion', 'billmelate', 'bin', 'bingo', 'bio', 'bird', 'birder', 'birmingham', 'birth', 'birthdate', 'birthday', 'biscuit', 'bish', 'bit', 'bitch', 'bitchslapped', 'bitchy', 'bitcoin', 'bite', 'bitty', 'biz', 'bizarre', 'bizness', 'biztravel', 'bk', 'bked', 'bkk', 'black', 'blackberry10', 'blacked', 'blackhistorymonth', 'blacklist', 'blacklivesmatter', 'blackmailed', 'blade', 'blah', 'blame', 'blamed', 'blameshiftoverload', 'blaming', 'blanc', 'blank', 'blanket', 'blast', 'blasting', 'blatant', 'blatantly', 'blatimore', 'blazer', 'bleed', 'blegh', 'bleh', 'bless', 'blessed', 'blew', 'blind', 'blindsided', 'bliss', 'blizzard', 'blizzue', 'bloated', 'block', 'blocked', 'blocking', 'blog', 'blood', 'bloody', 'bloodymary', 'bloombergnews', 'bloombergradio', 'blow', 'blowing', 'blown', 'blue', 'blueblackish', 'bluecarpet', 'blueheros', 'bluemanity', 'bluetiful', 'blumanity', 'blushing', 'bmi', 'bna', 'bnagt', 'bnardu', 'bnasnow', 'bng', 'board', 'boarddeplane', 'boarded', 'boarding', 'boardingpass', 'boat', 'boatstyle', 'bobbi', 'bobwesson', 'body', 'boeing', 'boeingairplanes', 'boggling', 'bogota', 'bogotáhouston', 'bohnjai', 'bohol', 'boiled', 'boise', 'bold', 'boldflavors', 'bom', 'bone', 'bonnie', 'bonsinthesky', 'bonus', 'boo', 'boofin', 'book', 'bookable', 'booked', 'bookin', 'booking', 'booklet', 'bookofnegroes', 'booksampmedicine', 'bool', 'boom', 'booo', 'boooo', 'boost', 'booster', 'boot', 'booted', 'booze', 'boozefood', 'bop', 'bora', 'border', 'borderline', 'bored', 'born', 'borrow', 'bos', 'bosbna', 'bosclt', 'bosdca', 'bosfll', 'bosgtjfk', 'bosgtlas', 'boslas', 'bosmco', 'bosnia', 'boson', 'bosphl', 'bossan', 'bossf', 'bossju', 'boston', 'bostonbbb', 'bostondenver', 'bostongarden', 'bostonlogan', 'bot', 'botched', 'both', 'bother', 'bothered', 'bottle', 'bottom', 'bought', 'bougth', 'bounce', 'bounced', 'bouncer', 'bound', 'boundless', 'bourbon', 'bout', 'bowl', 'box', 'boy', 'boycott', 'boyfriend', 'bozo', 'bpdfpp', 'bqn', 'bqonpa', 'bracket', 'bradley', 'bradleyairport', 'brag', 'bragged', 'bragging', 'brain', 'brancato', 'brand', 'brandi', 'branding', 'brandloveaffair', 'brandmance', 'brandssayingbae', 'branson', 'brave', 'braved', 'braving', 'bravo', 'brazil', 'brd', 'breach', 'bread', 'break', 'breakdown', 'breaker', 'breakfast', 'breaking', 'breakup', 'breast', 'breastfeeding', 'breath', 'breathe', 'breathing', 'breavement', 'breeze', 'breezy', 'brendan', 'brendanpshannon', 'brent', 'bretharold', 'brewcrewfan8', 'brian', 'brianregancomic', 'briansumers', 'bride', 'bridesmaid', 'bridge', 'bridgewaitingforbagsunitedewr', 'briefing', 'bright', 'brighter', 'brilliant', 'bring', 'bringbackrealstaff', 'bringbacktheluvtordu', 'bringin', 'bringing', 'brings', 'bringyourown', 'brink', 'brisk', 'britishairways', 'brittany', 'brittanyobx11', 'briughy', 'brizzyberg27', 'bro', 'broad', 'broadway', 'brochure', 'broinlaw', 'broke', 'broken', 'brokeni', 'brokenpromises', 'brokenstolen', 'brokenwheel', 'brooding', 'brooklyn', 'bros', 'brotha', 'brothaaaaaa', 'brother', 'brought', 'brownsville', 'browser', 'brrr', 'bruh', 'bruhreal', 'bruin', 'brush', 'brushing', 'brussels', 'brutal', 'bryantmelton', 'bshave', 'bso', 'bsuxlu', 'bt', 'btr', 'bttr', 'btv', 'btw', 'btwn', 'bubbly', 'buck', 'bucket', 'bucketobolts', 'budapest', 'buddy', 'budget', 'budweiserduels', 'bueno', 'buenos', 'buf', 'bufclt', 'buffalo', 'buffaloairport', 'buffaloniagara', 'bug', 'bugging', 'buggy', 'build', 'building', 'built', 'buisness', 'bulb', 'bulkhead', 'bull', 'bullshit', 'bully', 'bullying', 'bum', 'bummed', 'bummer', 'bump', 'bumped', 'bumper', 'bumphigh', 'bumping', 'bunch', 'bundle', 'bundleup', 'bur', 'burbank', 'burden', 'bureau', 'burger', 'burgundy', 'burlington', 'burn', 'burned', 'burning', 'burningman', 'burrito', 'burroughs', 'burst', 'bus', 'busads', 'busfirst', 'bush', 'bushleague', 'bushug', 'busiest', 'business', 'businessfirst', 'businessmodel', 'businessso', 'businesstravel', 'businesstrip', 'bussey', 'bussines', 'busted', 'busy', 'but', 'butnot', 'butt', 'button', 'button4thatcalled', 'buy', 'buyback', 'buyer', 'buying', 'buytransfer', 'buzz', 'buzzkill', 'bwahahaha', 'bwi', 'bwiairport', 'bwiand', 'bwibos', 'bwiboston', 'bwiewrmco', 'bwilax', 'bwisjd', 'bwood', 'by', 'bye', 'byebyejetblue', 'byebyeusairline', 'byod', 'bypass', 'bz', 'bze', 'c', 'c11', 'c12', 'c130', 'c14', 'c16', 'c17', 'c19', 'c22', 'c25', 'c26', 'c29', 'c2next', 'c38', 'c4', 'c42', 'c47', 'c68ld9', 'c9', 'ca', 'cab', 'cabaret', 'cabcelled', 'cabin', 'cabine', 'cabinfever', 'cable', 'cableinternet', 'cabo', 'cac', 'cache', 'caching', 'cae', 'caexhibitions', 'cafe', 'caffeine', 'cak', 'cakairport', 'cake', 'cakendeath', 'cal', 'calamity', 'calderon', 'calendar', 'calf', 'calgary', 'cali', 'calibrated', 'california', 'call', 'callah', 'callback', 'callbackthe', 'callbag', 'callcentre', 'called', 'callemail', 'caller', 'callguys', 'callif', 'calling', 'callmestanley7', 'callnow', 'callplan', 'callwhats', 'calming', 'came', 'camera', 'cameragear', 'cameronroe', 'camp', 'campaign', 'campilley', 'campus', 'can', 'cana', 'canada', 'canadaair', 'canadian', 'cancelled', 'cancer', 'cancld', 'cancun', 'candace', 'candice', 'candy', 'caned', 'canister', 'canld', 'canned', 'cannedtweet', 'cannot', 'canplease', 'cant', 'cantblametheweather', 'canthurtasking', 'cantlike', 'cantlogoutofunitedwifi', 'canx', 'cap', 'capaaviation', 'capability', 'capable', 'capacity', 'capeairs', 'capital', 'capitalized', 'capn', 'capt', 'captain', 'captive', 'captiveaudience', 'capture', 'captured', 'car', 'caravannyc', 'card', 'cardholder', 'care', 'cared', 'career', 'careless', 'caren', 'carerespond', 'careyon', 'cargo', 'caribbean', 'caribbejan', 'caring', 'carlton', 'carlw1980', 'carmen', 'carol', 'carolina', 'caroline', 'carousel', 'carpet', 'carrie', 'carried', 'carrier', 'carrieunderwood', 'carry', 'carrying', 'carryon', 'carryonbagssloweverybodydown', 'carryons', 'carseat', 'carsl', 'cart', 'carta', 'cartagena', 'cartago', 'case', 'case8719519', 'cash', 'casimir', 'casleah', 'casual', 'cat', 'catch', 'catching', 'category', 'cater', 'catered', 'catering', 'caterobbie', 'catfoodbeerglue', 'cathay', 'cathaypacific', 'cathaypacificus', 'cathy', 'catsanddogslivingtogether', 'cattle', 'cattle2slaughter', 'caucasity', 'caught', 'cause', 'caused', 'causing', 'caution', 'cavalli', 'cavan', 'cave', 'cavs', 'caymanislands', 'cb', 'cbarrows', 'cbcallinaday', 'cbcnews', 'cbsbaltimore', 'cbsnews', 'cbsphilly', 'cbssoxfan', 'cc', 'ccicanine', 'ccndjp', 'ccwhy', 'cdg', 'cdglas', 'cdn', 'cdt', 'ce3k', 'cease', 'cebu', 'celebrate', 'celebrates', 'celebrating', 'celebration', 'celebs', 'cell', 'cellphone', 'cement', 'cent', 'center', 'centerl', 'centerworst', 'central', 'centre', 'centric', 'centricity', 'century', 'ceo', 'cert', 'certain', 'certainly', 'certificate', 'cessnas', 'cesspool', 'cflanagian', 'cgjase', 'cgroup', 'cha', 'chaching', 'chain', 'chair', 'chairman', 'chairmanlove', 'chalk', 'challemann', 'challenge', 'challenging', 'champagne', 'championship', 'chance', 'change', 'changed', 'changemassive', 'changer', 'changesdeval', 'changing', 'channel', 'chantilly', 'chaos', 'chaotic', 'chaperone', 'chapman', 'chapter', 'char', 'charac', 'character', 'characterize', 'charge', 'charged', 'charger', 'chargersclothescoatcontact', 'chargesi', 'charging', 'chariot', 'charity', 'charles', 'charleston', 'charlestonvery', 'charlote', 'charlotte', 'charm', 'chart', 'charter', 'chartering', 'charttopping', 'chase', 'chasefoster', 'chasing', 'chat', 'chathes', 'chatted', 'chatting', 'cheap', 'cheap1', 'cheaper', 'cheapest', 'cheapflights', 'cheapoair', 'cheapoairchat', 'cheapslogannotmotto', 'cheat', 'cheatcustomers', 'cheated', 'check', 'checkbaggage', 'checked', 'checker', 'checkin', 'checkinbag', 'checkinbut', 'checkincorrect', 'checking', 'checkinout', 'checkins', 'checkout', 'checkouterror', 'checkpoint', 'cheer', 'cheertymedad', 'cheerupdates', 'cheese', 'cheesy', 'cheeze', 'chef', 'chemistry', 'cheque', 'cherry', 'chewey', 'chg', 'chgd', 'chge', 'chging', 'chi', 'chiberia', 'chibuf', 'chicago', 'chicagolaxphx', 'chicagomidway', 'chicagosmayor', 'chicagothanks', 'chicagotribune', 'chicken', 'chickenidiot', 'chief', 'child', 'childish', 'childrens', 'childridiculous', 'chill', 'chillpill', 'chilly', 'chillycvz', 'chimid', 'china', 'chinese', 'chip', 'chipper', 'chitocle', 'chk', 'chkd', 'chkin', 'chking', 'chkout12flt5no', 'chkpreboardnotcomingback', 'chl', 'chmom', 'chnge', 'cho', 'chocked', 'choclt', 'chocolate', 'choice', 'choose', 'choosechicago', 'choosekind', 'choosing', 'choppiest', 'choppy', 'chose', 'chosen', 'chrishasmadeusblush', 'christine', 'christinebpc', 'christmas', 'chrome', 'chromefirefox', 'chronicleherald', 'chronological', 'chrysichrysic', 'chs', 'chuckhole', 'churchmouse', 'churn', 'ciddfw', 'cigarette', 'cinci', 'cincinnati', 'cincy', 'cincyjust', 'cinedrones', 'cinnabon', 'cinnabons', 'cinziannap', 'circle', 'circling', 'circuit', 'circulation', 'circumstance', 'ciscojimfrench', 'cisnerosmedia', 'cistudios', 'citi', 'citing', 'citizen', 'city', 'cityandsand', 'citynot', 'citystrangeand', 'civilized', 'cjdjpdx', 'ckin', 'cl', 'claim', 'claimed', 'claiming', 'clarence', 'clarification', 'clarify', 'clarifying', 'clarion', 'clarita', 'clarkey19', 'clarkhoward', 'class', 'classed', 'classic', 'classiq', 'classwrite', 'classy', 'claudia', 'claudoakeshott', 'cld', 'cldnt', 'cle', 'clean', 'cleaned', 'cleaning', 'cleanliness', 'clear', 'clearance', 'cleared', 'clearing', 'clearly', 'clearvision', 'clehelp', 'clesfo', 'cleveland', 'clever', 'clewould', 'click', 'clicked', 'clicking', 'client', 'clientnothappy', 'clifton', 'clincher', 'cling', 'clinicpolly', 'cll', 'clockwork', 'clog', 'close', 'closed', 'closepwcs', 'closer', 'closest', 'closet', 'closetoverhead', 'closing', 'closure', 'clothes', 'clothessuit', 'clothing', 'cloud', 'clown', 'clt', 'cltbna', 'cltdouglas', 'cltgtsfo', 'cltnyc', 'club', 'clue', 'cluecould', 'clueless', 'clunky', 'cluster', 'clusterfucks', 'clutch', 'cmfat35000feet', 'cmh', 'cmhiad', 'cmhoak', 'cmhord', 'cmon', 'cnbc', 'cncdld', 'cnceld', 'cncld', 'cncled', 'cng', 'cnn', 'cnnbrk', 'cnnmoney', 'cnx', 'cnxn', 'cnxns', 'co', 'coach', 'coached', 'coachgs', 'coast', 'coastcoast', 'coat', 'coathanging', 'cobedien', 'cockpit', 'cockroach', 'cocktail', 'cocktailor', 'cockup', 'code', 'coded', 'codeshare', 'codycleverly', 'coffee', 'coffeeat', 'coffeemaker', 'coffeeneeded', 'coffin', 'coin', 'coincidence', 'coke', 'cokenice', 'cold', 'colder', 'coldly', 'cole', 'colleague', 'collect', 'collection', 'collectively', 'college', 'colliding', 'colo', 'colombia', 'colombian', 'colonist', 'color', 'colored', 'colossal', 'colour', 'coltsmissingbags', 'columbia', 'columbian', 'columbus', 'coma', 'combat', 'combative', 'combination', 'combine', 'combined', 'combo', 'comcast', 'comclassic', 'come', 'comedian', 'comedic', 'comedy', 'comenity', 'comeon', 'comeonpeople', 'comethis', 'cometoaustin', 'comfort', 'comfortable', 'comfortably', 'comforting', 'comically', 'comin', 'coming', 'comm', 'command', 'commence', 'commend', 'comment', 'commented', 'commercial', 'commission', 'commit', 'commitment', 'committed', 'common', 'comms', 'communicate', 'communicated', 'communicateor', 'communicating', 'communication', 'communicationcompetition', 'communicationdetails', 'communicationfail', 'communicationiskey', 'communist', 'community', 'commutation', 'commute', 'comp', 'compact', 'companion', 'companionpass', 'companionpasses', 'company', 'companyi', 'comparable', 'compare', 'compared', 'comparing', 'comparison', 'compartment', 'compassion', 'compassionate', 'compatible', 'compd', 'comped', 'compensate', 'compensated', 'compensates', 'compensating', 'compensation', 'compete', 'competent', 'competes', 'competing', 'competition', 'competitively', 'competitor', 'comping', 'complain', 'complained', 'complainer', 'complaining', 'complains', 'complaint', 'complaintquestions', 'complete', 'completed', 'completely', 'completing', 'complex', 'compliant', 'complicated', 'compliment', 'complimentary', 'complimentarybeveragesneeded', 'complimenting', 'complt', 'compmech', 'compounded', 'compounding', 'compton', 'computer', 'computersweredown', 'con', 'concentrate', 'concept', 'concern', 'concerned', 'concerning', 'concert', 'concierge', 'concourse', 'concrete', 'cond', 'condescending', 'condescension', 'condition', 'conditioning', 'condo', 'condolence', 'condomrito', 'conection', 'conf', 'conference', 'conferencewe', 'conffgkxv5', 'confidence', 'confident', 'config', 'confirm', 'confirmation', 'confirmed', 'confirmedso', 'confirming', 'conflict', 'conflicting', 'confrontational', 'confs', 'confused', 'confuses', 'confusing', 'confusion', 'confusionno', 'congested', 'congrats', 'congratulation', 'conjunction', 'conn', 'connect', 'connected', 'connectfor', 'connecticut', 'connectin', 'connecting', 'connection', 'connectionand', 'connectns', 'connector', 'connects', 'connetion', 'connex', 'connolly', 'consecutive', 'consider', 'considerable', 'considerably', 'considerate', 'consideration', 'considered', 'considering', 'consistency', 'consistent', 'consistently', 'consolation', 'consoled', 'constant', 'constantly', 'constitution', 'construction', 'constructive', 'consult', 'consultant', 'consumer', 'consumermarketing', 'consumption', 'cont', 'contaced', 'contact', 'contactcej', 'contacted', 'contacting', 'contactless', 'contagious', 'contain', 'container', 'contains', 'contd', 'contempt', 'contend', 'content', 'contentmarketing', 'contest', 'context', 'continental', 'continentalair1', 'continentalairlines', 'continentals', 'continentalunited', 'contingency', 'continually', 'continue', 'continued', 'continues', 'continuesstill', 'continuing', 'continuous', 'contract', 'contractor', 'contradictory', 'contributiontopool', 'control', 'controllable', 'controllableirregularity', 'controlled', 'controller', 'controllove', 'conv', 'convenience', 'convenient', 'conveniently', 'conversation', 'conversational', 'conversed', 'conversion', 'convey', 'conveyer', 'conveyor', 'convince', 'convinced', 'convo', 'cooker', 'cookie', 'cookjaycook123', 'cooky', 'cool', 'cooler', 'coordinate', 'cop', 'copa', 'copay', 'copilot', 'copy', 'copypaste', 'core', 'corevalues', 'corner', 'corny', 'corp', 'corpgreed', 'corporate', 'corporatepaid', 'corporation', 'correct', 'corrected', 'correctly', 'correctness', 'correlate', 'correspondence', 'corrupt', 'cory', 'corybronze', 'coshared', 'cosmetic', 'cosmopolitan', 'cost', 'costa', 'costarica', 'costing', 'costumer', 'costumerservice', 'costwhy', 'cot', 'cough', 'coughed', 'could', 'couldnt', 'couldve', 'couldwanted', 'count', 'counted', 'counter', 'counterpart', 'counting', 'countingdown', 'countingphoto', 'countingthanks', 'countless', 'country', 'countryshes', 'county', 'couple', 'coupled', 'coupon', 'couponsi', 'courier', 'courrier', 'course', 'court', 'courteous', 'courteroy', 'courtesy', 'courtney', 'courtsey', 'courtsnod', 'cousin', 'cover', 'coverage', 'covered', 'covering', 'covert', 'cowardly', 'cowboy', 'cowboycerrone', 'cowgirl', 'coworker', 'coworkers', 'cozy', 'cp', 'cpap', 'cpu', 'cr', 'crabby', 'cracker', 'crackerjack', 'crackersnabisco', 'craft', 'craftbeer', 'cramming', 'cramped', 'cranky', 'crap', 'crappiest', 'crappy', 'crash', 'crashed', 'crashedeverywhere', 'crashing', 'crated', 'craving', 'crawling', 'craziness', 'crazinessintherockies', 'crazy', 'crazybitch', 'cream', 'create', 'created', 'creates', 'creating', 'creative', 'credential', 'credibility', 'credit', 'creditcardsales', 'credited', 'creditwhats', 'crew', 'crewand', 'crewe', 'crewi', 'crewmember', 'crewmembers', 'crewnow', 'crewsignage', 'crewtells', 'cri', 'crib', 'cricket', 'cried', 'criminal', 'crisis', 'cristiannot', 'criterion', 'criticism', 'crjs', 'crook', 'crooked', 'cross', 'crossbrowser', 'crossed', 'crossing', 'crosswind', 'crossword', 'crowd', 'crowded', 'crucial', 'cruel', 'cruise', 'crumb', 'crummyservice', 'crutch', 'cruz', 'cry', 'crystal', 'crâpe', 'cs', 'csfail', 'csm', 'cspkcats', 'csr', 'csrs', 'cst', 'cstmr', 'cstsvc', 'ct', 'cteam', 'ctg', 'ctl', 'ctr', 'cty', 'cu', 'cuba', 'cud', 'cudtomers', 'cue', 'cultural', 'culture', 'cun', 'cunewr', 'cup', 'curb', 'curbside', 'curfew', 'curiosity', 'curious', 'current', 'currently', 'currentlysittingontarmac', 'curse', 'curt', 'curtesy', 'curvygirltravels', 'cushion', 'cushy', 'cussed', 'cust', 'custexp', 'custom', 'customary', 'customer', 'customerappreciation', 'customercant', 'customerexperience', 'customerfriendly', 'customerits', 'customerloyalty', 'customerrelationsaacom', 'customerservice', 'customerservicefail', 'customerservicenot', 'customerservices', 'customerservicewin', 'customersfirst', 'customersshafted', 'customerstime', 'customersyou', 'custs', 'custserv', 'custservicehasnonumber', 'custy', 'cut', 'cute', 'cutest', 'cutoff', 'cutting', 'cuz', 'cuzco', 'cvg', 'cvgairport', 'cx', 'cxd', 'cxed', 'cxl', 'cxld', 'cxldprotection', 'cxp', 'cyberattack', 'cycle', 'cyncyn661', 'cyndi', 'czamkoff', 'd', 'd1mqf5', 'd4', 'd6', 'd9', 'da', 'dad', 'dadboner', 'daddy', 'daddyshome', 'dadeland', 'dadoralive', 'daiber', 'daily', 'daipresident', 'dakota', 'dal', 'dalaus', 'daldca', 'dale', 'dallas', 'dallasairporti', 'dallasaustin', 'dallasfort', 'dallaslovefield', 'dallaslovefieldaustinairport', 'dallasnews', 'dallasnext', 'dallasraisenow', 'dallastx', 'dalmdw', 'damage', 'damaged', 'damageluggage', 'damion', 'damionflight4223', 'damn', 'damper', 'dan', 'danahajek', 'danbury', 'dance', 'dancing', 'dandy', 'dang', 'danger', 'dangerofgettingsnowedin', 'dangerous', 'dani', 'daniel', 'danihampton', 'danny', 'danroam', 'dare', 'dark', 'darn', 'darquenloveli', 'darrel', 'dart', 'dartmedia', 'daryl', 'data', 'date', 'datetime', 'dating', 'datingrev', 'daughter', 'david', 'davidson', 'dawn', 'dawndavis', 'day', 'daycare', 'daydelayed', 'daydreaming', 'dayi', 'dayjustgotworse', 'dayneed', 'daynot', 'dayreward', 'daysampcharging', 'daysand', 'daysinn', 'daysits', 'daysno', 'daysnone', 'daysnotahappytraveler', 'daysplans', 'daytona', 'daytonabeach', 'dc', 'dc10', 'dc9s', 'dca', 'dca48810m', 'dcabos', 'dcadsm', 'dcaewr', 'dcagthpn', 'dcamanual', 'dcapit', 'dcarsw', 'dcastl', 'dcazero', 'dcoadavon', 'ddean', 'de', 'deactivate', 'deactivated', 'dead', 'deadhead', 'deaf', 'deaffriendly', 'deal', 'dealing', 'dealsmay', 'dealt', 'deane', 'dear', 'death', 'debacle', 'debating', 'debbie', 'debit', 'deboards', 'deborah', 'dec', 'deceiving', 'december', 'decency', 'decent', 'deceptive', 'decide', 'decided', 'decides', 'deciding', 'decision', 'deck', 'declaration', 'declared', 'decline', 'declined', 'decorum', 'dedicated', 'dedication', 'deed', 'deedee', 'deemed', 'deep', 'deeply', 'def', 'defcon', 'defective', 'defend', 'deferring', 'defiantly', 'defibrillator', 'deficiency', 'definately', 'define', 'defines', 'definitely', 'definition', 'definitive', 'deflator', 'degree', 'dehli', 'dehydrated', 'deice', 'deiced', 'deicer', 'deicing', 'del', 'delacy', 'delaney', 'delay', 'delayconsequence', 'delayed', 'delayedagainevery', 'delayedbecause', 'delayedcancelled', 'delayedconnection', 'delayedl', 'delayedno', 'delayednot', 'delayedover', 'delayedovernight', 'delayedstill', 'delayedthats', 'delayedwow', 'delayforwhat', 'delaygreatcustomerservice', 'delaying', 'delaykilling', 'delaymissed', 'delaypending', 'delayscancelled', 'delayshandling', 'delayua53', 'delete', 'deleted', 'delewr', 'delhi', 'deli', 'deliberate', 'delicious', 'delight', 'delighted', 'delightful', 'delinquent', 'deliver', 'delivered', 'deliveredhotel', 'delivering', 'delivery', 'delk', 'delongerry', 'deltaassist', 'deltanews', 'deltapoints', 'delyd', 'demanded', 'demanding', 'demo', 'demolish', 'demonstration', 'demoted', 'den', 'denairport', 'denbna', 'dencle', 'dendal', 'dendfw', 'denewr', 'dengtyeg', 'denied', 'denise', 'denisejtaylor', 'denphl', 'denphx', 'dentedmissing', 'denver', 'denverairport', 'denverboston', 'deny', 'deoderant', 'deodorant', 'dep', 'depart', 'departed', 'departing', 'department', 'departs', 'departure', 'departuredealing', 'dependable', 'dependent', 'depending', 'depends', 'deplane', 'deplaned', 'deplanes', 'deplaning', 'deplorable', 'deployment', 'depot', 'depressing', 'depression', 'dept', 'derekaustincentury21ca', 'derekc21', 'derrick', 'descending', 'descent', 'describe', 'describing', 'description', 'desert', 'deserve', 'deserved', 'deserves', 'design', 'designated', 'designed', 'designer', 'desirable', 'desire', 'desired', 'desition', 'desk', 'desktop', 'desparately', 'desperate', 'desperately', 'despicable', 'despise', 'despite', 'dest', 'destfeel', 'destin', 'destination', 'destinationdragon', 'destinationdragons', 'destinationrude', 'destn', 'destroy', 'destroyed', 'destroying', 'detail', 'detailed', 'detailsno', 'detailsthat', 'detailsu', 'detective', 'detector', 'deter', 'deteriorating', 'determination', 'determined', 'detroit', 'devaluation', 'devalue', 'devalued', 'devastated', 'develop', 'developer', 'development', 'device', 'devotedyyours', 'devs', 'dfpietra', 'dfw', 'dfwairport', 'dfwclt', 'dfwgtgtmke', 'dfwlax', 'dfwno', 'dfword', 'dgoodspeed', 'dgruber1700', 'dhepburn', 'dia', 'diabetic', 'dial', 'dialing', 'dialogue', 'dialup', 'diamond', 'diane', 'diaper', 'dice', 'dick', 'dickhead', 'dictionary', 'did', 'didflyfi', 'didinteresting', 'didnt', 'die', 'died', 'diego', 'diehardvirgin', 'diet', 'dietcoke', 'diff', 'differ', 'difference', 'different', 'differently', 'difficult', 'difficultieswhat', 'difficulty', 'diffused', 'dig', 'digg', 'digging', 'digit', 'digital', 'dignity', 'dildo', 'dilemma', 'diligent', 'dim', 'dime', 'dimension', 'diminishes', 'dimmed', 'ding', 'dining', 'dinner', 'dinosaur', 'dinosaurplane', 'direct', 'directbag', 'directed', 'directflights', 'directing', 'direction', 'directional', 'directly', 'directs', 'directtv', 'directv', 'dirt', 'dirtiest', 'dirty', 'disability', 'disabled', 'disabledtraveler', 'disallows', 'disappear', 'disappeared', 'disappearing', 'disappears', 'disappoint', 'disappointed', 'disappointedunited', 'disappointing', 'disappointment', 'disappointmentyet', 'disappoints', 'disapptment', 'disaster', 'disaster3345', 'disastertravelingwithsmallkids', 'disastrous', 'disbelief', 'disciplined', 'disclose', 'discnctany', 'discomfort', 'disconnect', 'disconnected', 'disconnectednew', 'disconnecting', 'disconnection', 'discontinue', 'discontinued', 'discount', 'discouraging', 'discourteous', 'discover', 'discovered', 'discovergrenada', 'discrimination', 'discus', 'discussing', 'disgrace', 'disgraceful', 'disgruntled', 'disguised', 'disgusted', 'disgusting', 'disheartening', 'dishonest', 'dishonoring', 'disinfectant', 'dislexia', 'dislike', 'disloyal', 'dismissed', 'disney', 'disneyland', 'disneyprincesshalfmarathon', 'disneyworld', 'disorganised', 'disorganization', 'disorganized', 'dispatch', 'dispatchalerts', 'dispatcher', 'dispatchissue', 'displaced', 'display', 'displayed', 'displeased', 'displeasure', 'disproportionate', 'dispute', 'disputed', 'disregard', 'disrespect', 'disrespected', 'disrespectful', 'disrespectfully', 'disrupted', 'disruption', 'dissapointed', 'dissapointing', 'dissapointment', 'dissaponted', 'dissatisfaction', 'dissatisfied', 'dissatisfiedthanks', 'dissemination', 'disservice', 'disspointed', 'distance', 'distinguish', 'distress', 'distressed', 'distribution', 'distributor', 'disturb', 'disunited', 'disupdates', 'div', 'divadapouch', 'diverged', 'diversion', 'divert', 'diverted', 'diverting', 'divided', 'dividend', 'dividendmiles', 'dividendrewards', 'dividendsmember', 'divident', 'divider', 'dj', 'djevolutionhd', 'djimpact', 'djqkc', 'dkyde6', 'dl', 'dlewis2412', 'dm', 'dmangenvisualclubconceptscom', 'dmb41shows', 'dmcome', 'dmd', 'dmed', 'dming', 'dmoukdarath', 'dmscusairwayscom', 'dmstill', 'dmv', 'dns', 'dnt', 'dnx58v', 'do', 'dobetter', 'dobetterjetblue', 'dobut', 'doc', 'doctor', 'document', 'documentation', 'doe', 'doesnt', 'doesntfeellikestatusyet', 'dog', 'dogbuckeye', 'doi', 'doin', 'doke', 'doll', 'dollar', 'domestic', 'domingo', 'dominican', 'dominick', 'don', 'donaldaroberts1gmailcom', 'donate', 'donatert', 'donation', 'done', 'done0', 'donedeal', 'donkey', 'donna', 'donotflyusair', 'donotflywiththem', 'dont', 'dontchangeathing', 'dontdothistome', 'dontflythem', 'dontflyusairways', 'donthavehighhopes', 'dontmakemebeg', 'dontmakemegooutside', 'donts', 'donut', 'doo', 'doom', 'door', 'doorclose', 'dooronly', 'doorstep', 'dope', 'dorm', 'dorns', 'dosequis', 'dot', 'dothatd', 'dotnetnate', 'double', 'doubled', 'doublestandards', 'doubletriple', 'doubt', 'doubtful', 'doug', 'douglas', 'doumented', 'dounotwantmybusiness', 'down', 'downgrade', 'downgraded', 'downgrading', 'downhill', 'downhow', 'download', 'downloaded', 'downmy', 'downnnnn', 'downright', 'downstairs', 'downthanks', 'downtown', 'doyourjob', 'dozen', 'dpdfpp', 'dpt', 'dpted', 'dr', 'draft', 'drag', 'dragon', 'drain', 'dramatically', 'draw', 'drawing', 'dre', 'dread', 'dreadful', 'dreading', 'dream', 'dreaming', 'dreamliner', 'dreampath', 'drenched', 'dresparkles', 'dress', 'dressed', 'drift', 'drink', 'drinker', 'drinking', 'drinksnack', 'drinkssnacks', 'drive', 'driven', 'driver', 'drivermissed', 'driving', 'drone', 'drop', 'droped', 'dropped', 'droppeditoffyet', 'dropping', 'drove', 'drunk', 'drunkpilots', 'drvrugby', 'drwinston001', 'dry', 'dsearls', 'dsm', 'dtv', 'dtw', 'dtwase', 'dualcam', 'duanenclark', 'dub', 'dubai', 'dubjac', 'dublin', 'dublinairport', 'duck', 'ducttaped', 'dude', 'due', 'duecto', 'duffle', 'duh', 'duke', 'dulles', 'dullesairport', 'dullessucks', 'dullestostatecollege', 'dulleswashington', 'dulleswe', 'dultch97', 'dumas2ttg', 'dumb', 'dump', 'dumped', 'dumping', 'dungeon', 'dunkin', 'dunno', 'duped', 'durango', 'during', 'dust', 'dustyob', 'duty', 'dvr', 'dvt', 'dwell', 'dxb', 'dy', 'dying', 'dynamite', 'e', 'e11', 'e190', 'e2kvm4', 'e36', 'e9', 'ea', 'each', 'eager', 'eagle', 'ear', 'earlier', 'earlieror', 'earliest', 'early', 'earlybird', 'earlybirdmeansnothing', 'earlyconnecting', 'earlyon', 'earn', 'earned', 'earnedmybusiness', 'earning', 'earnings', 'earphone', 'earring', 'earth', 'earthquake', 'earthquakehaiti', 'ease', 'easier', 'easiest', 'easily', 'east', 'easter', 'eastern', 'easy', 'eat', 'eaten', 'eatgregeat', 'eating', 'eatup', 'eb', 'ebhset', 'ebokeers', 'ebola', 'ebook', 'ec', 'ecertificate', 'eco', 'ecom', 'econ', 'economic', 'economy', 'ecuador', 'ed', 'edge', 'edgy', 'edinburgh', 'edit', 'edition', 'edits', 'edplotts', 'edreamsen', 'educate', 'education', 'educational', 'ee', 'effect', 'effective', 'efficencies', 'efficiency', 'efficient', 'efficiently', 'effin', 'effing', 'effort', 'effortless', 'eg', 'ege', 'egregious', 'eh', 'ehsanismpowered', 'eight', 'either', 'ejacqui', 'el', 'elaborate', 'elbow', 'elderly', 'elected', 'electric', 'electrical', 'electronic', 'electronics', 'eleonora7', 'elevate', 'elevategold', 'elevatethey', 'elevator', 'eligible', 'elingeniero', 'elise', 'elite', 'eliz', 'eliza', 'elizabeth', 'ella', 'ellahenderson', 'ellamae', 'ellas', 'elm', 'elmira', 'elp', 'elpaso', 'else', 'elsewhere', 'elwoodblues77', 'em', 'email', 'emailcall', 'emailed', 'emailing', 'emailingcallingdming', 'emailmailtocustomerrelationsusairwayscom', 'emailscalls', 'emailtext', 'emailtextphone', 'emaleesugano', 'emb145', 'embarrassed', 'embarrassing', 'embarrassment', 'embassy', 'embed', 'embody', 'embossed', 'embraersa', 'emer', 'emerald', 'emerg', 'emergency', 'emerging', 'emeyerson', 'emily', 'emilydonneiiy', 'emilylyonss', 'emirate', 'emmaclifford', 'emotional', 'emp', 'empathetic', 'empathize', 'empathizes', 'empathy', 'emphasize', 'empl', 'emplid', 'employ', 'employee', 'employeefaceless', 'employeerelations', 'employeeslack', 'employeeworking', 'employer', 'emptied', 'empty', 'emrey35', 'emv', 'emxlyy', 'en', 'encounter', 'encountered', 'encourage', 'encouraged', 'encouragement', 'end', 'ended', 'ending', 'endless', 'endlessly', 'enemy', 'energy', 'enforce', 'enforcement', 'enforcing', 'engadget', 'engagement', 'engaging', 'engine', 'engineer', 'england', 'english', 'englishspanish', 'enhance', 'enjoy', 'enjoyable', 'enjoyed', 'enjoying', 'enormous', 'enough', 'enoughisenough', 'enquires', 'enraging', 'enroll', 'enrolled', 'enroute', 'ensued', 'ensure', 'ensured', 'ensuring', 'enter', 'entered', 'entering', 'enterprise', 'enters', 'entertain', 'entertained', 'entertaining', 'entertainment', 'entertainmnt', 'entire', 'entirely', 'entitled', 'entrance', 'entree', 'entrusted', 'entry', 'enuf', 'environment', 'envoy', 'enzo', 'eom', 'eould', 'ep', 'epic', 'epicfail', 'epicfailunited', 'epicfailure', 'epipens', 'epitimeoffail', 'eps', 'eqms', 'eqp', 'equal', 'equality', 'equalizer', 'equally', 'equip', 'equipment', 'equipped', 'equivalent', 'er', 'erased', 'erewards', 'eri', 'ericbradleypt', 'erickofiejones', 'erie', 'erieairport', 'eriewr', 'eriord', 'erj145', 'ernievigil', 'err', 'erring', 'error', 'errored', 'erroring', 'erw', 'escalate', 'escape', 'escaping', 'escorted', 'eserviceunitedcom', 'esp', 'especially', 'espinosa', 'espncoachmack', 'essence', 'essential', 'essentially', 'est', 'est4', 'establish', 'established', 'estelle', 'estellevw', 'estimate', 'estimated', 'estplatinumeventually', 'et', 'eta', 'etailwest', 'etc', 'etd', 'eternal', 'eternally', 'eternity', 'ethan', 'ethic', 'ethiopia', 'eticket', 'etihad', 'etiquette', 'eu', 'euro', 'europe', 'european', 'evacuated', 'evaluate', 'evansville', 'evasive', 'evedidnt', 'even', 'evening', 'evenlate', 'evenmorespace', 'evenmoreview', 'evennotified', 'event', 'eventhoughits2degreesathome', 'eventprof', 'eventually', 'ever', 'everglades', 'everleft', 'evermoreroom', 'every', 'everybody', 'everyone', 'everyones', 'everything', 'everythings', 'everythingsgonnabealright', 'everytime', 'everywhere', 'evidence', 'evidently', 'evil', 'evn', 'evolved', 'evoucher', 'evr', 'evry', 'evrytime', 'evv', 'ew', 'ewk', 'ewr', 'ewrbrudel', 'ewrfll', 'ewriad', 'ewrmco', 'ewrord', 'ewrpdx', 'ewrsti', 'ex', 'exacerbates', 'exact', 'exactly', 'exam', 'example', 'exasperating', 'exboyfriend', 'exceed', 'excellence', 'excellent', 'excellentcustomerservice', 'except', 'exception', 'exceptional', 'exceptionally', 'exceptionalservice', 'excess', 'exchange', 'exchangecredit', 'excited', 'excitement', 'exciting', 'exclusive', 'exclusively', 'excruciatingly', 'excusable', 'excuse', 'excusegeez', 'exe', 'exec', 'execplat', 'execution', 'executive', 'executiveplatinummeansnothing', 'exercise', 'exeu', 'exhausted', 'exhausting', 'exhaustion', 'exhibited', 'exhorbitantfees', 'exicted', 'exist', 'existence', 'existent', 'existing', 'exists', 'exit', 'exiting', 'exitrow', 'exp', 'expand', 'expanded', 'expanding', 'expansion', 'expect', 'expectation', 'expected', 'expecting', 'expects', 'expedia', 'expediatheres', 'expedient', 'expedite', 'expedited', 'expeditious', 'expens', 'expense', 'expensive', 'experience', 'experienced', 'experiencing', 'expert', 'expiration', 'expire', 'expired', 'expires', 'expireswhy', 'expiring', 'explain', 'explained', 'explaining', 'explains', 'explanation', 'explore', 'explorer', 'exposed', 'expowest', 'express', 'expressed', 'expressing', 'exps', 'extend', 'extended', 'extending', 'extension', 'extent', 'extenuating', 'extinct', 'extortion', 'extra', 'extraction', 'extralight', 'extraordinaire', 'extraordinary', 'extraspeed', 'extravaganza', 'extreme', 'extremely', 'ey', 'eye', 'eyeglass', 'eyewitness', 'eyw', 'eyyyy', 'ezee', 'ezemanalyst', 'f', 'f1571aus', 'f38ish', 'f3kxb8', 'f5r3zz', 'f6', 'f623', 'f6dk04', 'f8neqm', 'fa', 'faa', 'faaaannntastic', 'faail', 'faanews', 'fab', 'fabrice', 'fabulous', 'face', 'facebook', 'faced', 'facepalm', 'facility', 'facing', 'fact', 'fail', 'failagain', 'failback', 'failed', 'failing', 'failingyourcustomer', 'failover', 'failphone', 'fails', 'failure', 'failurethen', 'faint', 'fair', 'fairbanks', 'faire', 'fairfax', 'fairly', 'fairway', 'faith', 'faithful', 'fake', 'fakeawards', 'fakesincerity', 'fakesnow', 'fall', 'fallen', 'fallflorida', 'falling', 'fallow', 'false', 'falseadvertising', 'fam', 'familiar', 'family', 'familyand', 'familyfriends', 'familywe', 'famous', 'fampampcking', 'fampking', 'fan', 'fancy', 'fantastic', 'fantasy', 'faq', 'far', 'farce', 'fare', 'farecompare', 'farelock', 'fargo', 'fargoairport', 'farm', 'farmington', 'farmy', 'farthanks', 'fashion', 'fashioned', 'fast', 'fastcompanys', 'fasten', 'faster', 'fastest', 'fat', 'fate', 'father', 'fattire', 'fattuesday', 'fault', 'faulty', 'faundation', 'fav', 'fave', 'faves', 'favor', 'favorite', 'favoriteairline', 'fax', 'faxlike', 'fay', 'fb', 'fc', 'fcking', 'fcmostinnovative', 'fcuk', 'fd', 'fe', 'fear', 'fearing', 'feat', 'feature', 'feb', 'february', 'februaryfreezefox17', 'februaryi', 'feces', 'feck', 'fed', 'federal', 'fedex', 'fedexed', 'fedora', 'fedup', 'fee', 'feed', 'feedback', 'feel', 'feelbetter', 'feeling', 'feelingtheluv', 'feelsgood', 'feeltheheat', 'feesbut', 'feeyou', 'fehqne', 'fell', 'fella', 'felt', 'female', 'fend', 'fend4urself', 'fend4yourself', 'fendforyourself', 'fernheinig18', 'ferrissalameh', 'ferry', 'festival', 'festivity', 'fete', 'few', 'fewdirectflights', 'fewer', 'ff', 'ffl', 'ffstatusdontmatter', 'fhk2te', 'fi', 'fiancee', 'fiancé', 'fiancée', 'fiasco', 'fib', 'fiction', 'fidencio', 'fidifamilies', 'field', 'fifth', 'fifty', 'fight', 'figure', 'figured', 'file', 'filed', 'filing', 'fill', 'filled', 'filling', 'film', 'filmcrew', 'filmjobnoequipment', 'filter', 'filthy', 'filthyplane', 'fin', 'final', 'finale', 'finalizing', 'finally', 'finalstretch', 'financial', 'find', 'findanothergate', 'finder', 'finding', 'findurgrip', 'fine', 'finest', 'fing', 'finger', 'fingerscrossed', 'finish', 'finleybklyncfs', 'finnair', 'fioretti2ndward', 'fiousairways', 'fire', 'fired', 'firefighter', 'firefox', 'firevan', 'firing', 'firm', 'first', 'firstboth', 'firstclass', 'firstlove', 'firststari', 'firsttimeflyingwa16mo', 'firstworldproblems', 'fiscal', 'fispahani', 'fist', 'fistfight', 'fit', 'fitbit', 'fitz', 'five', 'fiveword', 'fix', 'fixed', 'fixedcertain', 'fixing', 'fixthis', 'fixyourstuff', 'fjbfsc', 'fkn', 'fl', 'fl1289', 'fl1289sfoewr', 'fl2771', 'fl382', 'fla', 'flagging', 'flailing', 'flamethrower', 'flashlight', 'flat', 'flatiron', 'flattering', 'flavor', 'flaw', 'flawed', 'flawless', 'fleek', 'fleet', 'flew', 'flex', 'flexibility', 'flexibilitycompassion', 'flexible', 'flght', 'flgjt', 'flgt', 'flier', 'flierfriendly', 'flierssomeone', 'flight', 'flight108', 'flight1153', 'flight122', 'flight1407', 'flight16', 'flight1797', 'flight2031', 'flight2149', 'flight293', 'flight353', 'flight417', 'flight424', 'flight4592', 'flight5182', 'flight6831', 'flight7', 'flight838', 'flight850', 'flight911', 'flight919', 'flightamp', 'flightation', 'flightations', 'flightattendant', 'flightaware', 'flightcancelled', 'flightchange', 'flightchecked', 'flightchng', 'flightd', 'flightdelay', 'flighted', 'flightedflight', 'flightedmechprobs', 'flightedrescheduled', 'flightedsent', 'flightedsnow', 'flightedstill', 'flightfail', 'flightflew', 'flightget', 'flightglobal', 'flightgotta', 'flighthis', 'flighting', 'flightingdelaying', 'flightits', 'flightive', 'flightlanding', 'flightlation', 'flightlations', 'flightlationyou', 'flightled', 'flightledcant', 'flightleddelayed', 'flightledflight', 'flightledgonna', 'flightledrebooked', 'flightledthor', 'flightledtried', 'flightline', 'flightling', 'flightly', 'flightmarch', 'flightn', 'flightncy', 'flightness', 'flightnever', 'flightnightmare', 'flightno', 'flightplease', 'flightr', 'flightrcould', 'flightrexcept', 'flightrfor', 'flightrs', 'flights1585and', 'flightsairports', 'flightsdelays', 'flightsmilespoints', 'flightspots', 'flightsrefunds', 'flightst', 'flightstart', 'flightsthis', 'flightstill', 'flightsyearmy', 'flighttherere', 'flighttold', 'flightu', 'flightua1750', 'flightupset', 'flightwouldve', 'fligt', 'fligth', 'fligths', 'flintstone', 'flip', 'flipped', 'flipping', 'flipside', 'flite', 'flite454', 'fll', 'fllairport', 'fllgtsfo', 'fllight', 'floor', 'florida', 'floridavacation', 'flow', 'flowerssmfh', 'flown', 'flt', 'flt1088', 'flt1533', 'flt1727', 'flt1999', 'flt2417', 'flt348', 'flt5127keeping', 'flt635', 'flt803', 'fltnext', 'flts', 'flu', 'fluctuated', 'fluid', 'flustered', 'flutter', 'fly', 'fly130', 'fly2midway', 'fly2ohare', 'flyanaofficial', 'flyaway', 'flybetter', 'flycould', 'flydelta', 'flydeltanexttime', 'flyeia', 'flyer', 'flyerfriendly', 'flyfi', 'flyfrontier', 'flyin', 'flying', 'flyingainteasy', 'flyingflighttravel', 'flyingitforward', 'flyingretro', 'flyingwithus', 'flyitforward', 'flyjetblue', 'flyknoxville', 'flylaxairport', 'flynashville', 'flypbi', 'flypdx', 'flyquiet', 'flyrepublicair', 'flysaa', 'flysfo', 'flysouthwest', 'flysw', 'flyswa', 'flythefriendlyskies', 'flythroughs', 'flytpa', 'flyunited', 'flyus', 'flywere', 'flywhonotblue', 'flyyow', 'fm', 'fmjtyl', 'fml', 'fnd', 'fo', 'focus', 'focused', 'fog', 'foh', 'folder', 'folding', 'foldup', 'folk', 'follow', 'followback', 'followdm', 'followed', 'follower', 'following', 'follows', 'followup', 'fong', 'food', 'foodallergies', 'foodallergy', 'foodnetwork', 'foodnot', 'foodnothing', 'foodso', 'fool', 'foolish', 'foolthats', 'foot', 'footage', 'footrest', 'for', 'for4', 'for40', 'force', 'forced', 'forcedovernight', 'forcing', 'forecast', 'forecasted', 'foreign', 'forelock', 'foresight', 'forever', 'foreveranyone', 'forevercold', 'foreverrrrrr', 'forfeit', 'forfeited', 'forget', 'forgets', 'forgetting', 'forgive', 'forgiven', 'forgot', 'forgotmiahe', 'forgotten', 'form', 'formal', 'formality', 'formally', 'format', 'formed', 'former', 'formsmaddening', 'formula', 'forsythfactor', 'fort', 'forth', 'fortunately', 'fortunemagazine', 'forty', 'foru', 'forum', 'forward', 'forwarding', 'fostering', 'found', 'four', 'fourhour', 'fourth', 'fouryrolds', 'fouty', 'fox8news', 'foxnews', 'fp9m6y', 'fr', 'fr152015', 'fra', 'fracat', 'fraction', 'fraif', 'frame', 'fran', 'france', 'franchise02', 'francisco', 'frank', 'frankfurt', 'frankly', 'frankpostsecretcom', 'franks105', 'frano', 'fransico', 'fransisco', 'fraud', 'freak', 'freaked', 'freakin', 'freaking', 'freaky', 'freberg15', 'fred', 'freddie', 'freddieawards', 'free', 'free5', 'freecomedyshow', 'freeconcert', 'freedrinkcoupons', 'freeflight', 'freejust', 'freeneversucks', 'freeze', 'freezing', 'french', 'freq', 'frequency', 'frequent', 'frequentflyer', 'frequentflyerappreciates', 'frequentflyers', 'frequently', 'fresh', 'fresno', 'freyabevanfund', 'freyasfund', 'fri', 'fricken', 'friday', 'fridge', 'friend', 'friendliest', 'friendly', 'friendlyfriday', 'friendlyskies', 'friendlysky', 'friendlyteam', 'frightening', 'frigid', 'frigidfriday', 'fritz', 'frm', 'fro', 'from', 'fromthefrontseat', 'fron', 'front', 'frontend', 'frontier', 'frontrunner', 'froschtravel', 'froward', 'frown', 'frowny', 'frozen', 'frozentoilet', 'frozenwater', 'fruit', 'frustrated', 'frustrating', 'frustratingit', 'frustratingly', 'frustration', 'fs4ve7', 'fsqthg', 'fsz4yo', 'ft', 'ft1892', 'ftl', 'ftlauderdale', 'ftlauderdalesun', 'ftmyers', 'ftw', 'fu', 'fuccc', 'fuck', 'fucked', 'fucken', 'fuckin', 'fuckinf', 'fucking', 'fuckinlame', 'fuckoff', 'fudgers', 'fudgin', 'fuel', 'fuelamplikely', 'fuelcycle', 'fueled', 'fuk', 'fuking', 'fulfill', 'fulfilled', 'full', 'fulldont', 'fulleven', 'fullfa', 'fullfare', 'fullprice', 'fully', 'fullyear', 'fun', 'func', 'function', 'functional', 'functionality', 'functionally', 'functioning', 'fund', 'funeral', 'funflightattendants', 'funited', 'funny', 'funnycaptain', 'furious', 'furnish', 'furrow', 'furryfiesta', 'further', 'fuselage', 'fustrated', 'fusturated', 'future', 'fuyukaidesuyo', 'fvf9yw', 'fwa', 'fwd', 'fwhei6', 'fwiw', 'fwwe7f', 'fyi', 'fyicall', 'fyvrfn', 'fêroute', 'g', 'g6455c', 'g8', 'g8cvwj', 'ga', 'gabriela', 'gaga', 'gagent', 'gah', 'gain', 'gaincustomers', 'gainesville', 'gal', 'gala', 'galaxy', 'galley', 'game', 'gameboy', 'gang', 'gangway', 'gap', 'garage', 'garbage', 'garcia', 'garcia4chicago', 'gardening', 'gary', 'garywerk', 'gas', 'gassing', 'gastoncounty', 'gate', 'gate4', 'gateagain', 'gatestill', 'gather', 'gatwick', 'gave', 'gay', 'gd', 'gear', 'gee', 'geeeeezzzzz', 'geek', 'geekandahalf', 'geekstiel', 'geez', 'geg', 'gem', 'general', 'generally', 'generated', 'generic', 'geneva', 'genious', 'genius', 'gent', 'gentleman', 'gently', 'genuine', 'genuinely', 'geography', 'george', 'georgia', 'geraghty', 'geraldine', 'germ', 'german', 'germany', 'gerne', 'gerrielliott', 'gesture', 'get', 'get2', 'getaway', 'getconnected', 'getittogether', 'getmartyhome', 'getmehome', 'getmeoffrhisfuckinplane', 'getmeoffthisbird', 'getmeoffthisplane', 'getmeontop', 'getmeouttahere', 'getmorehands', 'getphilz', 'gettin', 'getting', 'gettingbetter', 'gettingimpatient', 'gettingoffplane', 'gettingthirsty', 'getyouracttogether', 'getyourlife', 'gf', 'gfc', 'gg8929', 'ggqzqd', 'ggreenwald', 'ghettofab', 'giannilee', 'giant', 'gif', 'gift', 'gifting', 'gig', 'giggled', 'gill', 'gimme', 'gin', 'girl', 'girlfriend', 'girlsweekend', 'gis2015', 'gist', 'give', 'given', 'givethemraises', 'givethoseladiesraise', 'giving', 'gj', 'gjqx6j', 'gjt', 'glad', 'gladly', 'gladys', 'glamco', 'glance', 'glasgow', 'glass', 'glassdoors', 'glassslipperchallenge', 'glenn', 'glitch', 'glitchy', 'global', 'globalfc', 'globe', 'glove', 'glowing', 'gluten', 'gma', 'gmail', 'gmas', 'gng', 'gnight', 'gnv', 'gnvltltltfsd', 'go', 'goal', 'gobankrupt', 'god', 'goddamn', 'godelta', 'gofundme', 'gogh', 'gogo', 'gohelp', 'goin', 'going', 'going2', 'goingforgreat', 'goingforgreatnessfail', 'goingtovegas', 'gold', 'golden', 'goldentickets', 'goldsapphire', 'goldsspousaldiscriminationangry', 'golf', 'golfbags', 'golfunited', 'golfwithwoody', 'gone', 'gonenow', 'gong', 'gonna', 'gonnabealongnight', 'good', 'goodbye', 'goodcustomerservice', 'goodday', 'goodenoughmother', 'goodenufmother', 'goodflight', 'goodgenes', 'goodgriefpeople', 'goodhumored', 'goodluckamericanair', 'goodness', 'goodnight', 'goodthingscome', 'goodwill', 'google', 'goose', 'goosebayairport', 'gooutofbusiness', 'gopatriots', 'gopro', 'gopuregrenada', 'gorgeous', 'gosh', 'got', 'gotcha', 'goto', 'gotta', 'gotten', 'gottogetbetter', 'gov', 'government', 'governor', 'govt', 'gpu', 'gr8', 'grab', 'grabbed', 'grace', 'gracias', 'gracious', 'grade', 'graded', 'grader', 'graduate', 'graduation', 'gramp', 'grand', 'grandbabies', 'grandcanyon', 'grandcayman', 'grandfather', 'grandkids', 'grandma', 'grandmother', 'grandpa', 'grandparent', 'grant', 'granting', 'graphic', 'gras', 'grasshopper', 'grassy', 'grateful', 'gratitude', 'gray', 'great', 'greatcustomerservice', 'greater', 'greatest', 'greatgranny', 'greati', 'greatjob', 'greatly', 'greatservice', 'greed', 'greedy', 'greeeaat', 'green', 'greenfield', 'greensboro', 'greenville', 'greeted', 'greeting', 'greetingz', 'greg', 'gregm528', 'gregwallace66', 'greyed', 'greyhoundbus', 'grief', 'grievance', 'grinding', 'gripeo', 'grk', 'grk13575m', 'grnd', 'groan', 'gross', 'grossed', 'grossedout', 'grossthe', 'grouchy', 'ground', 'grounded', 'groundoutside', 'groundstill', 'group', 'groupa', 'grouping', 'grow', 'growing', 'grown', 'grp', 'grr', 'grrrr', 'grrrrrr', 'grrrrrrrr', 'grt', 'gru', 'gruber', 'grumpy', 'grumpykim', 'gsa', 'gso', 'gsp', 'gt', 'gt1', 'gt134', 'gt1hr', 'gt2', 'gt250k', 'gt30', 'gt30mins', 'gt40', 'gt60', 'gt70', 'gt90min', 'gtclt', 'gtgt', 'gtgtgt', 'gth239', 'gthour', 'gtsouthwestair', 'gtsvyb', 'guacamole', 'guam', 'guarantee', 'guaranteed', 'guardia', 'guatemala', 'guc', 'guess', 'guessflight', 'guessing', 'guesstimate', 'guessweflyingdelta', 'guest', 'guidance', 'guide', 'guideline', 'guilty', 'guiltypleasures', 'guinea', 'guitar', 'gum', 'gun', 'gunna', 'guru', 'gusty', 'guy', 'guyana', 'guysfor', 'guysi', 'guyyyys', 'gvn', 'h', 'h2o', 'h8', 'ha', 'haa', 'habitrails', 'habitually', 'hack', 'hacked', 'had', 'hadnt', 'hah', 'haha', 'hahah', 'hahaha', 'hahahah', 'hahahaha', 'hahahahaha', 'hahayeah', 'hahnot', 'hail', 'hair', 'haiti', 'half', 'halfthought', 'halfway', 'hall', 'hammer', 'hamster', 'hand', 'handbag', 'handed', 'handedly', 'handicap', 'handicapped', 'handily', 'handing', 'handle', 'handled', 'handler', 'handling', 'handoff', 'handshake', 'handy', 'hang', 'hangar', 'hanged', 'hanger', 'hanging', 'hangup', 'haning', 'hannah', 'hanneslohmann', 'happen', 'happend', 'happened', 'happenedwhat', 'happening', 'happens', 'happier', 'happily', 'happiness', 'happy', 'happy4them', 'happybirthday', 'happycamper', 'happycustomer', 'happyflier', 'happyflight', 'happyfriday', 'happytohelp', 'happytweet', 'harass', 'harbor', 'hard', 'hardcase', 'hardearned', 'harder', 'hardest', 'hardly', 'hardtodo', 'hardworking', 'harf', 'harris', 'harsh', 'hartford', 'hashtag', 'hasnt', 'hasshe', 'hassle', 'hasty', 'hat', 'hatch', 'hate', 'hated', 'hateful', 'hating', 'haul', 'haulba', 'havana', 'have', 'havent', 'havin', 'having', 'havoc', 'hawaii', 'hawaiian', 'hawaiianair', 'haydensteamboat', 'hayes', 'hayleymad', 'hazard', 'hd', 'hdn', 'hdndl11785', 'hdsportsguy', 'he', 'head', 'headache', 'headed', 'headerelevateusernumofpointsavailable', 'heading', 'headline', 'headphone', 'headphonesbut', 'healing', 'health', 'healthbenefitsofplants', 'hear', 'heard', 'hearing', 'heart', 'heartbroken', 'heartlanta', 'heartless', 'heat', 'heated', 'heathrow', 'heathrowairport', 'heathrownewark', 'heattrap', 'heaven', 'heavenlychc9', 'heavily', 'heavy', 'heck', 'heckbooked', 'hectic', 'heel', 'hegshmeg', 'heh', 'heidimacey', 'height', 'heinekenusacorp', 'helacohlc', 'held', 'helene', 'hell', 'hella', 'heller', 'hello', 'helloare', 'hellobrittney', 'hellomy', 'help', 'helpbeen', 'helpcomplaint', 'helpdo', 'helped', 'helped2', 'helper', 'helpfaith', 'helpful', 'helpfulim', 'helpfulness', 'helpgot', 'helpimstuck', 'helpinfo', 'helping', 'helpless', 'helplindsey', 'helpline', 'helpmeplease', 'helpphone', 'helppls', 'helpthanks', 'helpunitedsucks', 'helpva', 'helsinkiairport', 'hemisphere', 'hemispheresmag', 'hemophilia', 'hence', 'henrikwagner73', 'hep', 'hepl', 'her', 'herb', 'herba', 'herbal', 'herded', 'here', 'heretiredcustomer', 'herewhen', 'herman', 'herndon', 'hero', 'hesitant', 'hey', 'heymynameissean', 'heyo', 'heyyyy', 'hfjkto', 'hgeronemus', 'hhagerty', 'hi', 'hiccup', 'hid', 'hidden', 'hide', 'higgs', 'high', 'highbuddyyy', 'higher', 'higherandhigher', 'highest', 'highhopes', 'highlight', 'highly', 'highway', 'hii', 'hike', 'hilarious', 'hill', 'hillaconlin', 'hilo', 'hilton', 'hiltonworldwide', 'him', 'hime', 'himy', 'hindered', 'hint', 'hinted', 'hip', 'hipster', 'hipunis', 'hirasmusbidragi', 'hire', 'hired', 'hiremorepeople', 'hiremorepoeple', 'hiring', 'his', 'historical', 'historically', 'history', 'hit', 'hitawall', 'hitch', 'hitting', 'hizouse', 'hkg', 'hlp', 'hm', 'hmm', 'hmmm', 'hmmmseems', 'hn', 'hnl', 'ho', 'hoagy10', 'hof', 'hog', 'hold', 'hold1', 'holdcan', 'holder', 'holdguess', 'holding', 'holdon', 'holdover', 'holdtime', 'holdup', 'hole', 'holiday', 'holla', 'holler', 'hollow', 'hollymais', 'hollywood', 'holton', 'holy', 'holz', 'home', 'homeandreadyfornexttrip', 'homefamily', 'homegirl', 'homeintentional', 'homeless', 'homeschool', 'hometown', 'homeward', 'homewardbound', 'homosexual', 'hon', 'honalulu', 'honest', 'honestly', 'honesty', 'honey', 'honeymoon', 'honeymooni', 'honolulu', 'honor', 'honorable', 'honored', 'honoring', 'honour', 'honululu', 'hoo', 'hood', 'hoodlum', 'hook', 'hooked', 'hooking', 'hoom', 'hooooo', 'hoop', 'hooray', 'hoot', 'hop', 'hope', 'hoped', 'hopeful', 'hopefully', 'hopeidonotgetsick', 'hopeless', 'hopethegearmakesitintact', 'hopetogetanswersoon', 'hopin', 'hoping', 'hopingpraying', 'hopkins', 'hopped', 'horizon', 'hormonal', 'hormone', 'horrendous', 'horrible', 'horribleattitudes', 'horriblecustomerservice', 'horribleservice', 'horriblewent', 'horribly', 'horrid', 'horrific', 'horror', 'horse', 'hosp3', 'hospice', 'hospital', 'hospitality', 'hostage', 'hostel', 'hostile', 'hosting', 'hot', 'hotel', 'hotelhows', 'hotelliving', 'hotelstonight', 'hotl', 'hotlanta', 'hotline', 'hotspot', 'hotter', 'hotterandlongerthanhell', 'hou', 'hour', 'hour20delay', 'hour9196750985', 'hourandtenminutedelay', 'hourconnected', 'hourdelay', 'hourflight', 'hourhope', 'hournever', 'hournot', 'hoursat', 'hoursgot', 'hoursi', 'hourslove', 'hoursplease', 'hourswhat', 'house', 'housing', 'houston', 'houstonbogota', 'houstonbush', 'houstonjust', 'hover', 'how', 'howabout', 'howdy', 'however', 'howhardcanthatreallybe', 'howisthatpossible', 'hows', 'howwhy', 'hp', 'hpn', 'hr', 'hrl', 'hrsthere', 'hstg', 'hsv', 'html5', 'hts', 'httpstco2pujvcelng', 'httpstco3qyezhjgsb', 'httpstco5on3klzvmt', 'httpstco64kn6geep8', 'httpstco72rmpkogwu', 'httpstco901hlngbtx', 'httpstco9za6xb1h89', 'httpstcoaay5avg99b', 'httpstcoagpb45v8wt', 'httpstcobzwgp7adve', 'httpstcocaf2cx3gfi', 'httpstcocfi1e3kxa9', 'httpstcodbcvepn5qc', 'httpstcodfmvmibh4x', 'httpstcof2lfulcbq7', 'httpstcofwzclbvug4', 'httpstcog4wwr6vbrq', 'httpstcogml7ot3imh', 'httpstcoi9kcgaxxfa', 'httpstcoigkogywksr', 'httpstcoiitojhuikh', 'httpstcoikqbdza7tn', 'httpstcoj4cj0lrf2d', 'httpstcojpd7nsgrt7', 'httpstcoju9rhz4rqc', 'httpstcokaej9g0chd', 'httpstcokdhruf54sw', 'httpstcoktawbiuuro', 'httpstcolarkc8vc4s', 'httpstcolio6ocpteq', 'httpstcomavigetbbw', 'httpstcomwpg7grezp', 'httpstcontgl2wnqvm', 'httpstcooardjjgrrd', 'httpstcoom1vieg74a', 'httpstcooqukso3s2o', 'httpstcoq8vsffrd1u', 'httpstcosoiqrn19aj', 'httpstcoswwhyhen76', 'httpstcotkvmhbkec3', 'httpstcoucvnilmb4x', 'httpstcox5jena7nye', 'httpstcoxcvqxykg49', 'httpstcoxgfs6tjtmo', 'httpstcoybv0xaowkv', 'httpstcoyx1dqjn8nl', 'httpstcoyzxfe7au22', 'httpstcozgoqoxjbqy', 'httpstcozv2pt6trk9', 'httptco01ldxn3qqq', 'httptco04sdytt7zd', 'httptco07xhcacjax', 'httptco0bjnz4eix5', 'httptco0cevy3p42b', 'httptco0ewj7oklji', 'httptco0hmmqczkcf', 'httptco0hxlnvzknp', 'httptco0jjt4x3yxg', 'httptco0jutcdrljl', 'httptco0kn7pjelzl', 'httptco0liwecasoe', 'httptco0pdntgbxc6', 'httptco0prgysvurm', 'httptco0wbjawx7xd', 'httptco10tmthvfdc', 'httptco16c9ex79rk', 'httptco18fmr06mn6', 'httptco1aavvoreph', 'httptco1agr9kncpf', 'httptco1ateafnc6r', 'httptco1esmmnizek', 'httptco1g9rnmyuqe', 'httptco1incncav4n', 'httptco1l9scwphph', 'httptco1m36ntptr8', 'httptco1sywlmtzek', 'httptco1tfh2v0a7z', 'httptco1tzz0vbmbs', 'httptco1xdlbibclp', 'httptco1xzrk66wvq', 'httptco1yln1gx4qx', 'httptco1ywxrfn0gr', 'httptco1zt2kee8up', 'httptco214i0rtih4', 'httptco22ipgeicsm', 'httptco27aitzl6nd', 'httptco2b4bdtldx2', 'httptco2boh2mh3cb', 'httptco2brt0athau', 'httptco2edgc6tbls', 'httptco2hxsdp0ha4', 'httptco2ikbp8gxwi', 'httptco2ir7ynmbdu', 'httptco2npxb6obmr', 'httptco2ny5tuxfqf', 'httptco2nzh3qoazo', 'httptco2qjbcv5jzq', 'httptco2thc9rkurt', 'httptco2trgemtebz', 'httptco2uaicfjrms', 'httptco2xjvun66zz', 'httptco2z3hgqprsg', 'httptco2z3jv73ilw', 'httptco2zm4jkalzl', 'httptco31cfhtk60r', 'httptco38otlzak5d', 'httptco3dcwerz1kr', 'httptco3ddqq0gqni', 'httptco3fhes0lpmu', 'httptco3fq3xelbon', 'httptco3khgjofgpx', 'httptco3kvkd8yrxa', 'httptco3lpvfhky2f', 'httptco3ltx7jkbo9', 'httptco3nsusfsbpv', 'httptco3oq1t4ohjl', 'httptco3ubcoasyws', 'httptco3x9nruovts', 'httptco3zpjr7kwbk', 'httptco3zzkqwwbjz', 'httptco413gial0yl', 'httptco44zhmfdiw6', 'httptco45ktssk18j', 'httptco46am1bsi2g', 'httptco46n9kdcsxu', 'httptco49flbgzzkd', 'httptco49pv3kchnr', 'httptco4g0k0z2rei', 'httptco4gr39s91dl', 'httptco4jdvk8tcqx', 'httptco4kbtzvju3b', 'httptco4kh92mkotz', 'httptco4ki6xr67nk', 'httptco4klfywwmq1', 'httptco4ktk2hsmgy', 'httptco4llwi5oxvo', 'httptco4mqfmxebxt', 'httptco4oje523ptw', 'httptco4ojrsdwpkk', 'httptco4ponj3jide', 'httptco4rl0p5jchb', 'httptco4sfpcbyy9m', 'httptco4urzvbpjko', 'httptco4y78byackc', 'httptco56essfoowt', 'httptco58b7swrpmq', 'httptco58tutgli0d', 'httptco5b2agfd8c4', 'httptco5cdx2roae6', 'httptco5cwh1yfoow', 'httptco5db9esbnzg', 'httptco5fmipw9dhi', 'httptco5hpsqvrjk8', 'httptco5imdckodfx', 'httptco5kshtue6q0', 'httptco5pvg2hjxkp', 'httptco5sdlyn9mss', 'httptco5siczx1oez', 'httptco5t4fpcgrej', 'httptco5txu5tsfkj', 'httptco5xgnyhgafz', 'httptco5xvnnmltiw', 'httptco5z9styuqj3', 'httptco5znmwxdi9u', 'httptco62godfaknb', 'httptco63zaq2lt8f', 'httptco66nxzhbbmt', 'httptco67k4n9eq6e', 'httptco6asuwx3kv0', 'httptco6cgfv02gzb', 'httptco6cpypgfnd6', 'httptco6h5uezh4cv', 'httptco6hjucp694l', 'httptco6kp4m0r1f7', 'httptco6kpyhcka9l', 'httptco6kqlhvap7g', 'httptco6mbk79mdnw', 'httptco6mbvjflpbm', 'httptco6redd3vc73', 'httptco6rlz0ebk2x', 'httptco6ttzejv3hy', 'httptco6tz6imqzlg', 'httptco6uxwpadugs', 'httptco6zj6l2ztua', 'httptco755vpym4mv', 'httptco778aztdaer', 'httptco79wajk7eyt', 'httptco7br5t5qcxk', 'httptco7dm2j8h97m', 'httptco7e5bxwg16t', 'httptco7gb0hgw51t', 'httptco7im9rhivyr', 'httptco7pofsxojsy', 'httptco7stktjxan1', 'httptco7t1rdrcre6', 'httptco7ujt8vtcpa', 'httptco7vee44macm', 'httptco7x9usbj2fv', 'httptco7xmav13g2w', 'httptco7z3gqebfk2', 'httptco826pkiq5hi', 'httptco89gkyuf1qh', 'httptco8dqzlrjo9p', 'httptco8fmzzoltv9', 'httptco8hh0c63tie', 'httptco8jcediky9u', 'httptco8je1h3666w', 'httptco8mwitri9kf', 'httptco8o3scr5efw', 'httptco8qsqmm7kf2', 'httptco8tjuum22dd', 'httptco8vnckgzxl1', 'httptco8wbzorrn3c', 'httptco96apr35qan', 'httptco96ftlzwtvo', 'httptco96sctomh29', 'httptco9bzqzqx8dc', 'httptco9eueyxawcv', 'httptco9gx5mmmubb', 'httptco9meozbo4xl', 'httptco9nivw9ftzw', 'httptco9r9omzqavi', 'httptco9ragncw2bk', 'httptco9rx5homm25', 'httptco9shhtvioti', 'httptco9skrlyrz1o', 'httptco9tbsjquw41', 'httptco9trvfncedl', 'httptco9unxqotzik', 'httptco9v8tmusjvu', 'httptco9vkj9s7jrm', 'httptco9vtfm7knad', 'httptco9xbo5dakak', 'httptco9xkiy0kq2j', 'httptcoa0yosjhzmc', 'httptcoa1choxkpjp', 'httptcoa37n3ohokl', 'httptcoa3ycflalxv', 'httptcoa68d5fulmh', 'httptcoa7nvbj8ipx', 'httptcoaau9mka6zy', 'httptcoac6zwmuoon', 'httptcoacebo6elpa', 'httptcoahlxhhkiyn', 'httptcoai0yzwt8za', 'httptcoaiyc9wv5oq', 'httptcoajm3bhjvaa', 'httptcoam9cuiewo4', 'httptcoaneqxzr4bp', 'httptcoaoeaeszdlx', 'httptcoaprzspxige', 'httptcoaptzpurop4', 'httptcoapy3zlsquu', 'httptcoaqjn4hwnac', 'httptcoaqzwecokk2', 'httptcoar0vaylmfc', 'httptcoasw6qwuf1z', 'httptcoasyqe1tdjp', 'httptcoatd2sm8hf4', 'httptcoatfrkp6goy', 'httptcoatwyifh6zy', 'httptcoaucsykfuhd', 'httptcoaufm4xdaj2', 'httptcoaugjscmolu', 'httptcoaurn07pwd4', 'httptcoav2rffhmcv', 'httptcoavbdstjujs', 'httptcoavrtowtyzk', 'httptcoavyqdmpi1y', 'httptcoawgjkjiiac', 'httptcoaxpn28xiqb', 'httptcoaxryeiwzh0', 'httptcoay1gidcfa4', 'httptcoaygaoeb6uu', 'httptcoaypyaduy6a', 'httptcoazltjhf7lv', 'httptcob2xi4yg5t8', 'httptcob4xhirugzv', 'httptcob5ttno68xu', 'httptcobape6rumne', 'httptcobayepzkmiz', 'httptcobbaonx9txd', 'httptcobbhtlzgh2c', 'httptcobbj6kmtyul', 'httptcobbm6pabort', 'httptcobbzijwfdl3', 'httptcobcwckwtnle', 'httptcobd5tvr3gcy', 'httptcobduauzfhw2', 'httptcobe0b4k1xbt', 'httptcobeqotlnugc', 'httptcobfpfw6eyku', 'httptcobgtjfmneot', 'httptcobhooiyt6zq', 'httptcobkmfey7qol', 'httptcobm2unraoni', 'httptcobm9o2k5x5j', 'httptcobnflhpxtmw', 'httptcobngpli8jt6', 'httptcobrcsjbxg2s', 'httptcobt37kyrbyj', 'httptcobtb4awqtln', 'httptcobttgmyn0a0', 'httptcobtvpxtzju0', 'httptcobuwjtvuwkm', 'httptcobvfaxdubaq', 'httptcoby3vdiosua', 'httptcoc24cefa9pl', 'httptcoc7kzbvf8h8', 'httptcoc7tpdkqulm', 'httptcoc8mqezxvdh', 'httptcoc9p2iosphm', 'httptcocbv7f3kbkx', 'httptcocdzhtyd0ak', 'httptcocehroeurc5', 'httptcocfzdjmn0ui', 'httptcoch0nmjymgh', 'httptcochgy5yrvka', 'httptcoci5cfrlqbe', 'httptcocih1qnllcm', 'httptcocju102xp2k', 'httptcoclob5qwmxr', 'httptcoclu5pdprhp', 'httptcoclvlhfguzw', 'httptcocm4roiypc2', 'httptcocmjriwop7o', 'httptcocnctl7g1ef', 'httptcocpzb285o71', 'httptcocqmm7nue9m', 'httptcocrfrwpc1sx', 'httptcocs1673hrqq', 'httptcocsddccmvbd', 'httptcocsnrpvy9b9', 'httptcocvba4olcbl', 'httptcocxrzhcdtvz', 'httptcocxttxv2lmp', 'httptcocyoonzftdc', 'httptcocyprhe5gok', 'httptcoczor4nyh9n', 'httptcod1ergpdwsj', 'httptcod7pqouatdf', 'httptcodaaa0rqbxw', 'httptcodajwzhlvyu', 'httptcodcobokn7ee', 'httptcodewithpew2', 'httptcodh2rfuijyp', 'httptcodhhomg2kix', 'httptcodiufep8n2q', 'httptcodjhxvjt201', 'httptcodjjjn9slht', 'httptcodkzl57upqi', 'httptcodlh9138hbg', 'httptcodn1if2cgwe', 'httptcodndoepqukz', 'httptcodnmsblzumr', 'httptcodnstitrzwy', 'httptcodocmvotwti', 'httptcodoruxbqla1', 'httptcodphqrgkdoa', 'httptcodplq3mhqgd', 'httptcodpx3yogtej', 'httptcodqjl8vz2h2', 'httptcodqnn0rf1v8', 'httptcodqny4aktg9', 'httptcodr5octp1dy', 'httptcodrw08djhai', 'httptcods22ceeenj', 'httptcodsdebodmel', 'httptcodtheyofxrb', 'httptcodtlguq1kak', 'httptcoduhbj41jhx', 'httptcodvsltqzkmq', 'httptcodw5nf0ibtr', 'httptcodw6vdvqxbb', 'httptcodwese7xidr', 'httptcodxicoyioxf', 'httptcodxn58rxdks', 'httptcodxux6dbfd3', 'httptcodzegapfqw1', 'httptcodzg99jfiik', 'httptcodzkc3auzu9', 'httptcoe09kej9bv1', 'httptcoe0c9bi09cf', 'httptcoe0r0nto4tr', 'httptcoe1eofthgaj', 'httptcoe1mex0t6q5', 'httptcoe2axlqzwvh', 'httptcoe5naxbue4s', 'httptcoebxc94kfjd', 'httptcoeczhcmm5vi', 'httptcoeeqwvammiy', 'httptcoeerekdf9fq', 'httptcoef4p0hishb', 'httptcoegaejtrglb', 'httptcoegkvfokogj', 'httptcoeigajyzcw2', 'httptcoeis9hcnpro', 'httptcoeiw2syb8fu', 'httptcoela7tntcir', 'httptcoelhxuv0uj1', 'httptcoeltboljul9', 'httptcoemrubu4wzd', 'httptcoenh1keuutd', 'httptcoeniqg0buzj', 'httptcoenxv64rkbu', 'httptcoepqqonho2h', 'httptcoeqepkkpsxm', 'httptcoeqqi1nfszh', 'httptcoerzht75kqz', 'httptcoesd3xd5v1r', 'httptcoesuu0hiajm', 'httptcoetfjqiwuvt', 'httptcoeul6sdurbu', 'httptcoewwgi97gdx', 'httptcoewxwxidtfx', 'httptcof1yvaio9ul', 'httptcof4tp0dawbd', 'httptcof5ixyw8xyb', 'httptcof6copx1fvj', 'httptcofa7nygn1ux', 'httptcofbtemfwrsp', 'httptcofd2tnyctrb', 'httptcofd4snvkiem', 'httptcofec4i3vwq7', 'httptcofefhpmfple', 'httptcoffanixjhwh', 'httptcoffc13zygjs', 'httptcofgjbex480d', 'httptcofgrbpazsix', 'httptcofinq5fh6ue', 'httptcofjkvqmbmas', 'httptcoflcnnn2usd', 'httptcoflwmgdahxu', 'httptcofn2qxybt9k', 'httptcofornpf69ky', 'httptcofraqdpkyga', 'httptcofrd0cay6da', 'httptcofrghglmkqf', 'httptcofrhuxib8ii', 'httptcofrrfxccw7z', 'httptcofttfyfmvco', 'httptcoftv2nwwqf1', 'httptcofuchzrzjg5', 'httptcofupf0uayir', 'httptcofvlxirh1f1', 'httptcofvudmh27pf', 'httptcofvyzjldton', 'httptcofw3cy8hgdj', 'httptcofwkj49b1le', 'httptcofx9bijlxat', 'httptcofxnv618b1a', 'httptcofy6f9rzb9k', 'httptcog00saozgtv', 'httptcog12sn5qsqz', 'httptcog3uy6w28qh', 'httptcog4o6yx7tmj', 'httptcog8dka3edhf', 'httptcog97habyep5', 'httptcog9b6e0a2sz', 'httptcoga8pbamu0c', 'httptcogbd5r1olsi', 'httptcogbiw9ugfnm', 'httptcogcwvfuopl2', 'httptcogdzadxzbya', 'httptcogeg4nghmie', 'httptcogguaa1jvdf', 'httptcogguig3t28z', 'httptcoghjbp5gg67', 'httptcogiennyqn22', 'httptcogkgkzlawpr', 'httptcoglxfwp6nqh', 'httptcogn30p75kqb', 'httptcogonmrwem6i', 'httptcogouzrdt7zf', 'httptcogqp69g9zgw', 'httptcogrkbj7bxlk', 'httptcogsb2j3c4gm', 'httptcogt6umhbh43', 'httptcogvgkhbx1rb', 'httptcogx7qbtckbr', 'httptcogxdqortss0', 'httptcogxvfumn3iz', 'httptcogz9gqdt7jj', 'httptcoh11jglw74l', 'httptcoh3k3owohd1', 'httptcoh44uj63cjg', 'httptcoh46ht1oz40', 'httptcoh6ce3mwcqj', 'httptcoh6hn33jjje', 'httptcoh952rdktqy', 'httptcohaj5lkqjw4', 'httptcohap4gbostu', 'httptcohaqc7gdg7c', 'httptcohb799cco0t', 'httptcohbsj2sf17h', 'httptcohcnn0wxqqr', 'httptcohdoxim6nz2', 'httptcohepknpuzwu', 'httptcohez4jk4zsk', 'httptcohf8ajz4ffl', 'httptcohfjyn2vtvj', 'httptcohfof33iyhi', 'httptcohg7veqhghy', 'httptcohhoxqpsuba', 'httptcohi6fl1ax9e', 'httptcohi76boavxy', 'httptcohisc4ndmgz', 'httptcohj5kq82chn', 'httptcohlm2oks6xl', 'httptcohlzahxkdsn', 'httptcohovuaisg16', 'httptcohp9rppcvhx', 'httptcohpgxyzrw8o', 'httptcohpsieaokwh', 'httptcohqdb5iruvg', 'httptcohqdtk6atue', 'httptcohqhdad7fvk', 'httptcohrvuktpvn1', 'httptcohsmpbsf4uf', 'httptcohuclxluv5h', 'httptcohxsnv7fbbh', 'httptcohxvvis0vww', 'httptcohy0vrfhjht', 'httptcohyrao7a4uu', 'httptcoi1sfmi7zat', 'httptcoi5v9wfbtue', 'httptcoi7ut2zvhco', 'httptcoi7vdi9wqsf', 'httptcoi9s86kihge', 'httptcoialiceh2ft', 'httptcoib8kyjbcjm', 'httptcoibvvtzls4e', 'httptcoidra8kenoh', 'httptcoieg2obcepp', 'httptcoifespcbztm', 'httptcoig2dgctt2m', 'httptcoigsvzvrbbn', 'httptcoih5w9nfkz2', 'httptcoiidrblnoox', 'httptcoiimtjxcvlg', 'httptcoij4xl01tkx', 'httptcoilqzmmjiyq', 'httptcoimrlau77ih', 'httptcoimvmpnqxai', 'httptcoin24bpb7dw', 'httptcoinnp0kkyby', 'httptcoipaamzt7z2', 'httptcoiqnvyfpg4p', 'httptcoiqu0ppvq2s', 'httptcoirixaifjjx', 'httptcoiux94rgc83', 'httptcoivgpzsjtkw', 'httptcoiwoigrlhxb', 'httptcoixm3t5mizc', 'httptcoiyuzm2puvs', 'httptcoizfofgjzui', 'httptcoj0mhmkdivl', 'httptcoj6hb4jdver', 'httptcoj6iclv8dts', 'httptcojaskyplwt5', 'httptcojbdkxd6efz', 'httptcojbmvvha63a', 'httptcojbyvmsod29', 'httptcojeu7od3eyj', 'httptcojgdu5us8dz', 'httptcojgor0vdi3s', 'httptcojhau4k48yv', 'httptcojhxwmutx4g', 'httptcoji2pg4gom9', 'httptcoji7xks2jkk', 'httptcojieycat1ek', 'httptcojjdosfyibm', 'httptcojk7qmdfqgf', 'httptcojknwugj778', 'httptcojlhm0x7ukb', 'httptcojloiblnair', 'httptcojm4geyxby5', 'httptcojm8gq1kgrf', 'httptcojmnkj6bmc2', 'httptcojn3v3k3qgv', 'httptcojnqnbk7hut', 'httptcojorescfb4x', 'httptcojqhg4jtm4w', 'httptcojtxyhqhfjj', 'httptcojwl26g6lrw', 'httptcok0mhzrjf6e', 'httptcok66srfnw77', 'httptcok7ubotmr1r', 'httptcokacy2awdbw', 'httptcokbb0b5fxmk', 'httptcokbhym5gkap', 'httptcokcddod7uff', 'httptcokcqebeej7s', 'httptcokcqnwixucm', 'httptcokcvubuyexc', 'httptcokdmq0jps02', 'httptcokdzqczlpyr', 'httptcokek5pdmgif', 'httptcokeyrpflhil', 'httptcokfd4wqrklw', 'httptcokfkjf1ztgi', 'httptcokfuyyokufv', 'httptcokhzrccyp2a', 'httptcokigfkvxxdq', 'httptcokj1iljaebv', 'httptcokjkuvj6cmo', 'httptcokk6eixifp5', 'httptcokkay8xaps1', 'httptcokkedjnrtwo', 'httptcokkwiwi97a4', 'httptcokl9baimes6', 'httptcoklxivnbcyh', 'httptcokmanldqbh4', 'httptcokmquly9g5e', 'httptcoknuvuovhub', 'httptcokqnrrp86a5', 'httptcokumtbger03', 'httptcokvfwajvvid', 'httptcokvxs1lcqlp', 'httptcokwuek1ukbc', 'httptcol0i8fnz3ku', 'httptcol2n0eghdgn', 'httptcol7hsnlgie2', 'httptcol7lwjazioa', 'httptcola397zaoay', 'httptcolaiggef9kj', 'httptcolchvjolidg', 'httptcole4h2gtzxz', 'httptcolednocdqee', 'httptcolenaowfyvu', 'httptcolf69waf5ad', 'httptcolfgr0nifut', 'httptcolfs4pefe6y', 'httptcolft7qd23sy', 'httptcolhwfbkfyni', 'httptcoliqwoblfbt', 'httptcolj2larive0', 'httptcolj2ydkor8q', 'httptcolj2zxzn8kg', 'httptcoljzdthd9bv', 'httptcolkfh9hyhw8', 'httptcolm3opxkxch', 'httptcolo6lghpcdu', 'httptcoloeco4gmvd', 'httptcololuwfci11', 'httptcolqjt2jvoys', 'httptcolsxji0ouvr', 'httptcolsybglf59j', 'httptcolt1pykfvrq', 'httptcoltf2qud3xc', 'httptcoltwhmol1dr', 'httptcolug4mfvwsa', 'httptcolulgnweffh', 'httptcolv9hwqdk9a', 'httptcolvirtdtqly', 'httptcolwotkiekgu', 'httptcolwwdac2khx', 'httptcolxwbsfxfj0', 'httptcolycarltfhl', 'httptcolyoocx5msh', 'httptcolyqrb4hcyu', 'httptcolzfgutxiyn', 'httptcom1yywafkfi', 'httptcom2phoavrxc', 'httptcom2wsg2olgo', 'httptcom4uwcpxtxj', 'httptcom67wnbglxq', 'httptcom7mmq2f5fa', 'httptcom81rv0blxs', 'httptcom9nywr5kbs', 'httptcomaqw2nlniu', 'httptcomarcnocwzn', 'httptcomb0hvfqb1t', 'httptcomb3bjwgoap', 'httptcomb3ipgs8zq', 'httptcombcehcszx3', 'httptcombltalr4bs', 'httptcomcsi0dzpnz', 'httptcomdbdyomrs7', 'httptcomdn5ed58ze', 'httptcomeoalcipdd', 'httptcomf7rabgn8a', 'httptcomfmnkmvotr', 'httptcomfssh2uhue', 'httptcomha3xxaed5', 'httptcomhhs9ruplv', 'httptcomjkpgvxmpc', 'httptcomjtk2sfuhg', 'httptcomkpognntyc', 'httptcoml1jacpmch', 'httptcommcwkqp2gy', 'httptcompi4yuo9jr', 'httptcomplio6dygn', 'httptcomraw3qdw4d', 'httptcomrfbjtepef', 'httptcomt8splm02v', 'httptcomthm9waobu', 'httptcomvyoizrpde', 'httptcomwbk68k0a3', 'httptcomwsoguc33p', 'httptcomy3dnvbzaz', 'httptcomynzitcovn', 'httptcomzzfgqfhu2', 'httptcon2fvelcygz', 'httptcon3bvzty3zi', 'httptcon3lrfo4uay', 'httptcon3suiip0vw', 'httptcon5o43svl8i', 'httptcon7exdbcrhg', 'httptcon7osjz8a59', 'httptcon7psuejdc8', 'httptcon8uvclmada', 'httptcon8winfu6c5', 'httptcon9hmcrjchb', 'httptcon9vge2npib', 'httptcona5g5eakpa', 'httptconbpcjcpew9', 'httptconbz45jcd1r', 'httptconbzkhizf3v', 'httptconc0es6e4lf', 'httptconcb2oncs9i', 'httptconcguzdgdaq', 'httptconcrmqibiwo', 'httptcondtlj15zpu', 'httptconehnsdckty', 'httptconfaqhhr09j', 'httptconfjauw16vzlt', 'httptcongg3n0wiar', 'httptcongxal9oml6', 'httptconh2i9zlzmk', 'httptconj5ga1gds5', 'httptconkafbjyari', 'httptconklozcntto', 'httptconklw9ssvrq', 'httptconlzs1ehnee', 'httptconm4vnnf8kb', 'httptconmbhngnmki', 'httptconofg0tqhyn', 'httptconopq5xisbs', 'httptconrpwmgyv3e', 'httptcons1acfqcdq', 'httptconsjwvttjgo', 'httptcontuix5dbyr', 'httptconuhplnxriq', 'httptconustgpelsf', 'httptconvk3irg4kp', 'httptconvlnglnmgn', 'httptconw7vx7dgmf', 'httptconwf2fka8fy', 'httptconxqijcojnj', 'httptcony6cs7jruv', 'httptconyvv1x3d67', 'httptconzdxrvszwv', 'httptcoo0745apiau', 'httptcoo1u96xc3bo', 'httptcoo3cjsvssqf', 'httptcoo3srl1hfho', 'httptcoo3wlainimy', 'httptcoo4zr27qpcr', 'httptcoo5sifhp4rt', 'httptcooa2drfaoq2', 'httptcooaflfr7wxb', 'httptcooaj5mnucha', 'httptcoobf9jbpc6a', 'httptcoobqiro1buj', 'httptcoocqk0jfxua', 'httptcoodlall5edh', 'httptcoof7pfvqpoy', 'httptcoofw4a8b5ws', 'httptcooh7cfv7dhr', 'httptcooi32uq2ttz', 'httptcooilncfweyg', 'httptcooktukjy92o', 'httptcoonhxhco6bk', 'httptcoooej4d4jop', 'httptcooqz7wc4lla', 'httptcoory89eegek', 'httptcoosc9oflol3', 'httptcoosox9h7fwy', 'httptcootfz7cyguq', 'httptcootty5rymzd', 'httptcooumc1lrxdn', 'httptcoowmaxoyehz', 'httptcoox4w6ktsgi', 'httptcooxm6cwgab7', 'httptcooxsa8btvtb', 'httptcooxy1jnpjm3', 'httptcooylgeao7y8', 'httptcooyllrzqu5m', 'httptcop2hum7lxur', 'httptcop3n2w8jfps', 'httptcop6eef1zwzc', 'httptcop6r5rt5ow5', 'httptcop6ucbvlv5e', 'httptcop7fsluxegw', 'httptcop7skxzve1a', 'httptcop8vcz4xthm', 'httptcop8xfhq4kps', 'httptcopa7dcjxlzl', 'httptcopd3nbaakxh', 'httptcopd7r1ll6re', 'httptcopeq90pqmpp', 'httptcopeuc0bmij9', 'httptcopfsenjk5pw', 'httptcopg96ys9asw', 'httptcopgoeuxnspi', 'httptcopgwukrpmox', 'httptcoph8qjzapkx', 'httptcophi2ifnjit', 'httptcopivxean3jy', 'httptcopkaxunyfn2', 'httptcopkfi9bttzf', 'httptcopky7zhnnrh', 'httptcopl9sop5ihu', 'httptcopnbajfkmhg', 'httptcoppva4rch9f', 'httptcopr3oebc2n2', 'httptcops9q9rpsil', 'httptcoptsbka4cdj', 'httptcopulp4i0w96', 'httptcopw1eudlczg', 'httptcopx8hqoks3r', 'httptcopxdel1nq3l', 'httptcopxexilsjbs', 'httptcopyalebgkjt', 'httptcopyjaoaynx6', 'httptcopzal4wtrez', 'httptcopzgc6jch7n', 'httptcoq16xvwg0l6', 'httptcoq37pown6uv', 'httptcoq4amiw7fsw', 'httptcoq5a7jtki5k', 'httptcoq5sb0davuy', 'httptcoq6xedzvhh9', 'httptcoq9byn9pctf', 'httptcoq9n6nzyspk', 'httptcoqavvlaxlkl', 'httptcoqd2lyuxazg', 'httptcoqdebyahqfm', 'httptcoqdljhsloi5', 'httptcoqdxft9qqt9', 'httptcoqeada92mw6', 'httptcoqefkfwzo7d', 'httptcoqf0oc2hqez', 'httptcoqgmfcb7yt4', 'httptcoqgtcao1j2u', 'httptcoqgwk10dewv', 'httptcoqjkl4abprg', 'httptcoqjlzrywfj2', 'httptcoqkkjdfobos', 'httptcoqkquraggoo', 'httptcoqll48r57ep', 'httptcoqm9dqbai6g', 'httptcoqn5odugfqk', 'httptcoqp6aw3nlip', 'httptcoqqlzk2jkzr', 'httptcoqranzimhtr', 'httptcoqrxvzfrd1z', 'httptcoqrxz0bgbtq', 'httptcoquzvmk2rtr', 'httptcoqw1til96ya', 'httptcoqw2ebeemvg', 'httptcoqwfmoq0dql', 'httptcoqxnoaqtyn8', 'httptcoqxteqzm3yz', 'httptcoqxv45mv0ug', 'httptcoqxww1p09a0', 'httptcoqygxgmd3sn', 'httptcor1oqaveo7i', 'httptcor4xjxqrx1z', 'httptcor7ibqr4cyd', 'httptcor8p2zy3fe4', 'httptcor9zsvzurlw', 'httptcorbn7stuij1', 'httptcorcdh183q1j', 'httptcordj1mwflg1', 'httptcorfxlv1kgdh', 'httptcorgywjbbhm4', 'httptcorhkamx9vf5', 'httptcorhw78ktqfo', 'httptcorinzysk6ki', 'httptcorklqxxawhc', 'httptcorkorhvr9z1', 'httptcorkprxtgvfl', 'httptcorkvczbpdce', 'httptcorkwugmanm9', 'httptcorlwbj80ma5', 'httptcormznivgmg6', 'httptcorpdbpx3wnd', 'httptcorqbpmwettq', 'httptcortqyjcvtq3', 'httptcorvcda2nnme', 'httptcorx8z53m7yy', 'httptcorxmjwoo7qi', 'httptcoryxbplgmnk', 'httptcos3esw5agum', 'httptcosba0aricyq', 'httptcosbehi46bmk', 'httptcosbgbn7ouxy', 'httptcoscqujbvsta', 'httptcosdm2wvr3zr', 'httptcosdylukr7pt', 'httptcose57dmjhiw', 'httptcoseulpvfn95', 'httptcosfjduahx9z', 'httptcosg7iqqfvso', 'httptcosgckbopata', 'httptcosjqemdtqma', 'httptcosjveelween', 'httptcosk6w9xqaqb', 'httptcoskebqktxvx', 'httptcoskkewqhssg', 'httptcosl6bdrxfn8', 'httptcosllyibe2vq', 'httptcosotl8xqsrp', 'httptcosrm13qbrzd', 'httptcossbaujtouw', 'httptcossuvwwkyhh', 'httptcostqy9v8256', 'httptcosuprlfoi8t', 'httptcoswb1gr57cc', 'httptcoswzm2fx3nu', 'httptcosxvagbrtli', 'httptcoszr0pioa21', 'httptcot1rypzebc8', 'httptcot2qbgamfpc', 'httptcot3e4sh5xng', 'httptcot3gnk2n7ld', 'httptcot4gcks2bh5', 'httptcot5mrj5yw6i', 'httptcot6fyybhjhl', 'httptcot78k7abtwf', 'httptcot9jbn9wztq', 'httptcot9s68korsn', 'httptcotefhpuwmdj', 'httptcotejrn09tfw', 'httptcotfanxbh1cf', 'httptcotfjfmsha2k', 'httptcotgsb1dfps3', 'httptcotgsljjn6g0', 'httptcoths10ldy2a', 'httptcotjdzamhpew', 'httptcotk3aopdtsq', 'httptcotkauygcpms', 'httptcotkvcmhbpim', 'httptcotlgoihqkvs', 'httptcotlpbaupik5', 'httptcotmccexyaaq', 'httptcotn5cxcld6m', 'httptcotnkixxrxhb', 'httptcotny9uipha5', 'httptcotopqmvqnjp', 'httptcotpzhjx7hbt', 'httptcotqc96tkci9', 'httptcotrqlpeinzw', 'httptcotsvgbrl15f', 'httptcotsvibtvt8h', 'httptcottbty89ilo', 'httptcottlwzgiyag', 'httptcottxrsynlxr', 'httptcotu9jx2jazn', 'httptcotvb5zbzvhg', 'httptcotvk0pyxqv5', 'httptcotwetpxuppn', 'httptcotxhyj40llg', 'httptcoty9c0gae2o', 'httptcotynchoelac', 'httptcotyxaztmq1u', 'httptcotzzjhuibch', 'httptcou1vieuidf5', 'httptcou390czplhl', 'httptcou5hxri6crx', 'httptcou69fafqhsf', 'httptcou6duw27mde', 'httptcoua6doua34l', 'httptcouaywrr45as', 'httptcoucf0b0bq8r', 'httptcoucveu2hurz', 'httptcouczzp9yphk', 'httptcoudpq0fliqo', 'httptcoueggkn79za', 'httptcoufbdr5axeo', 'httptcoufyxxkisa3', 'httptcougfckermrw', 'httptcouh6uwuosc0', 'httptcouhumaskldv', 'httptcoui9m8ypzh2', 'httptcouiesr3ghho', 'httptcoujfs9zi6kd', 'httptcoukdjjijrow', 'httptcoukm4e99dz0', 'httptcould0hwfkfo', 'httptcouoaryq98pu', 'httptcoupaz1ef3dl', 'httptcoupocmmulun', 'httptcoupp41abxrq', 'httptcouq2oopjpwg', 'httptcouqgw6qsffu', 'httptcour60un86gy', 'httptcourcyfcp2lx', 'httptcout5grrwaaa', 'httptcoutdfqf5wpa', 'httptcoutfdhxa8pu', 'httptcouy28d1uegx', 'httptcouygew2nosr', 'httptcov015pk7dsi', 'httptcov1radykep2', 'httptcov24qnp3doi', 'httptcov4zvugmkjw', 'httptcov5qwkyxsw6', 'httptcov8pvphmtzc', 'httptcov8sb0rbicx', 'httptcovahdekvoke', 'httptcovbfieo2qjc', 'httptcovbuxfpckfa', 'httptcovc6keulg2j', 'httptcovd0tlomtwu', 'httptcovdfdodqvgx', 'httptcovftuyjh45x', 'httptcovglx6ykwqg', 'httptcovgn2x1ckg0', 'httptcovgqoihtrkh', 'httptcovhfjgneozo', 'httptcovhgkitzsaw', 'httptcovhp2gtdwpk', 'httptcovjfv7ksgcq', 'httptcovlci2kv1ip', 'httptcovmquurzupw', 'httptcovn3jjia53o', 'httptcovo3eqsepqh', 'httptcovo61lme5ja', 'httptcovosizh17sl', 'httptcovouufrn4js', 'httptcovoxcghciji', 'httptcovpdrplxj5a', 'httptcovpqem31xuq', 'httptcovqmdmzafuj', 'httptcovqtyza6mzu', 'httptcovr9k180lai', 'httptcovrqdpqepfw', 'httptcovskxyamnom', 'httptcovtqe8m1l3i', 'httptcovu5lbzxtrx', 'httptcovu7xswjkiy', 'httptcovudwjm1lyb', 'httptcovuxf4r4unu', 'httptcovv8cfyhkvb', 'httptcovvzksmfkvw', 'httptcovw2v8gvngq', 'httptcovw4p4t4tlh', 'httptcovx9vbctdlf', 'httptcovxn2j36m7v', 'httptcovyuanh4iqr', 'httptcow0hoaewhws', 'httptcow1aakjumxa', 'httptcow3xs6tvpzg', 'httptcow5nl0ay9bl', 'httptcow8mtmsp2ry', 'httptcow9bqiw0aou', 'httptcowbhbljjks7', 'httptcowbmhrl3bvl', 'httptcowcsazzqpae', 'httptcowdaktmr7mj', 'httptcowdyekvb1ze', 'httptcowe7pf5ll1y', 'httptcowezumdimyf', 'httptcowgyztnjcxm', 'httptcowhagpknnlf', 'httptcowhufmi2ytd', 'httptcowjiigztiwg', 'httptcowjoc9f14su', 'httptcowjyas2d94n', 'httptcowmo6tkqhxp', 'httptcowmx12f33zc', 'httptcowndceo5qlk', 'httptcowny9tzsr8n', 'httptcowowxhpu5qv', 'httptcowqzztiemx0', 'httptcowrwqrublps', 'httptcowsgyckciio', 'httptcowta5px70a5', 'httptcowu3lbcncr9', 'httptcowvgpp3ymz1', 'httptcowxowzhpgfl', 'httptcowznp5q1m0h', 'httptcox1eqyahfvz', 'httptcox4rsvagijn', 'httptcox4tdy84dbh', 'httptcox5zqssjtrb', 'httptcox6syw3mdvu', 'httptcox7ilzqdwe2', 'httptcox9blwgwa68', 'httptcoxaizw2isml', 'httptcoxaspqdsqhe', 'httptcoxatoxbnsfa', 'httptcoxbkvcraokn', 'httptcoxbqqqbrgvf', 'httptcoxc6jq70r7b', 'httptcoxdjzkc34gb', 'httptcoxedeckgmw5', 'httptcoxf9mpnaaje', 'httptcoxfwxsrwkha', 'httptcoxggcntco8m', 'httptcoxgpaayfdwt', 'httptcoxhlc30mtff', 'httptcoxhsuupheze', 'httptcoxijifymvqp', 'httptcoxijyrpslzk', 'httptcoxltv5z6st1', 'httptcoxmaqcucwzl', 'httptcoxmrvr4lgeg', 'httptcoxmz3tf9ix8', 'httptcoxpm98igqjn', 'httptcoxrdtov7nl8', 'httptcoxvbjczlmda', 'httptcoxwjol55flh', 'httptcoxx2m2jxqep', 'httptcoxx5qscjll1', 'httptcoxxppzo88j1', 'httptcoxxsaombdgs', 'httptcoxxy2d2imnp', 'httptcoxz6qeg3nef', 'httptcoxzbajmiekx', 'httptcoxzy7phkfgr', 'httptcoy39yzdpbvu', 'httptcoy3sahvx3zk', 'httptcoy5qe9hcqzt', 'httptcoy7o0unxtqp', 'httptcoy8aormfkac', 'httptcoybmbgs0dhn', 'httptcoyc7v2s0iod', 'httptcoyccitaep3s', 'httptcoyco9dikpt9', 'httptcoyf9nhmwyff', 'httptcoyh1kzkyzrr', 'httptcoyi4wguk5tr', 'httptcoyiwlhqhzgp', 'httptcoymftw1uyhr', 'httptcoymmh9k4cbr', 'httptcoync2zut4zz', 'httptcoyokkhhqcmp', 'httptcoypbkcirbxu', 'httptcoypo7nyprzl', 'httptcoypvpvdltys', 'httptcoyqhk8ljabn', 'httptcoysqbvq6mgb', 'httptcoyxn00pnoav', 'httptcoyxswfq9tgp', 'httptcoyzh4zrqm0i', 'httptcoz5znfwkkwp', 'httptcozcbjyo6lsn', 'httptcozdkxn4ktou', 'httptcozf5wjgtxzt', 'httptcozfqmpgxvs6', 'httptcozfroinpszi', 'httptcozhxok07aqa', 'httptcozik2uoxgnw', 'httptcozira2z3udc', 'httptcozkoe6clgiu', 'httptcozksx79itdn', 'httptcozl4bvexmcj', 'httptcoznsujp86bv', 'httptcozo2iceg4li', 'httptcozofwldqxbe', 'httptcozouowgv3q6', 'httptcozpz78poeon', 'httptcozqutus7epw', 'httptcozsdgzydnde', 'httptcozsuztnaijq', 'httptcoztrdwv0n4l', 'httptcozv6cfpohl5', 'httptcozvfmxnuelj', 'httptcozzps5ywve2', 'hub', 'hubby', 'huffpostbiz', 'hug', 'huge', 'hugeeeee', 'hugely', 'hughes', 'huh', 'human', 'humanity', 'humiliated', 'humiliating', 'humor', 'humour', 'humphrey', 'hundred', 'hung', 'hungary', 'hungry', 'hungupnohelp', 'hunkydory', 'hunt', 'hunting', 'huntsville', 'hurricane', 'hurry', 'hurt', 'hurting', 'hury', 'husain', 'husainhaqqani', 'husband', 'huston', 'hutchinsjim', 'huxleyesque', 'hv', 'hve', 'hyperlinked', 'hypocrisy', 'i', 'i6ep18', 'iad', 'iadore', 'iadsat', 'iah', 'iahdfw', 'iahhnl', 'iahmnl', 'iahwowjust', 'iamtedking', 'iata', 'iatanbul', 'iberia', 'ice', 'icecream', 'iced', 'iceday', 'iceland', 'icelandair', 'ichangedyourdiaper', 'icing', 'icloud', 'iconography', 'icu', 'icy', 'icyflight', 'id', 'idaho', 'idea', 'ideal', 'ideasshe', 'identical', 'ideologias', 'ideserveareward', 'idiot', 'idiotic', 'idk', 'idlovetoask', 'idnumber8569822', 'idol', 'idonotcare', 'idontwannalivewithoutyourlove', 'idontwanttocallback', 'if', 'ifc', 'ife', 'ifeeldumb', 'iflyalot', 'iflyoakland', 'ifthe80sneverstopped', 'igiveup', 'ignorant', 'ignore', 'ignored', 'ignores', 'ignoring', 'igotmonte', 'iha', 'ihatemergers', 'ihop', 'iiiii', 'ijustwanttobeinboston', 'ijustwanttosleep', 'il', 'ilc0hp', 'ill', 'illegal', 'illiterate', 'illness', 'illogical', 'ilm', 'ilookyoung', 'ilovejetblue', 'im', 'image', 'imagine', 'imagined', 'imaginedragons', 'imateacher', 'imdetermined', 'imessage', 'imjustsaying', 'imma', 'immediate', 'immediately', 'immensely', 'imo', 'impact', 'impaired', 'impatience', 'impatient', 'impediment', 'impending', 'impersonal', 'impersonator', 'implement', 'impolite', 'important', 'importantflight', 'impossible', 'impossibly', 'impress', 'impressed', 'impressedand', 'impression', 'impressive', 'improper', 'improve', 'improved', 'improvement', 'improves', 'improvetheprocess', 'improving', 'imranr44', 'imtired', 'in', 'in1st', 'inability', 'inaccessibility', 'inaccurate', 'inaccuratemisleading', 'inactivity', 'inadequate', 'inampdidnt', 'inappropriate', 'inappropriately', 'inbaggage', 'inbound', 'inbox', 'inbrowser', 'inc', 'incapable', 'incase', 'incedentals', 'incentive', 'inch', 'inchecking', 'incident', 'incidental', 'incidentally', 'incl', 'inclement', 'inclemental', 'incls', 'include', 'included', 'includes', 'including', 'inclusion', 'income', 'incoming', 'incompetence', 'incompetenceunderstaffing', 'incompetency', 'incompetent', 'incompetentmanagers', 'incompetentrude', 'incomprehensible', 'inconceivable', 'inconsiderate', 'inconsistent', 'inconvenience', 'inconvenienced', 'inconvenient', 'inconveniently', 'inconvience', 'incorrect', 'incorrectly', 'increase', 'increased', 'increasing', 'incredible', 'incredibly', 'increment', 'incubator', 'incur', 'incurred', 'incurring', 'ind', 'ind43728m', 'indeed', 'indenial', 'independence', 'india', 'indian', 'indianapolis', 'indicate', 'indicated', 'indicates', 'indicating', 'indication', 'indignation', 'individual', 'induce', 'industry', 'indy', 'inebriated', 'inedible', 'ineedabeer', 'ineedcoffee', 'inefficiency', 'inefficient', 'ineligible', 'inept', 'inevitable', 'inexcusable', 'inexpensive', 'inexperienced', 'infant', 'infanttoddler', 'inferior', 'infinite', 'infinity', 'inflatable', 'inflating', 'inflation', 'inflexible', 'inflght', 'inflight', 'influx', 'info', 'infobag', 'infographic', 'inform', 'information', 'informationstill', 'informative', 'informed', 'informing', 'informs', 'infovirginamericacom', 'infrastructure', 'infringement', 'infuriated', 'infuriating', 'ing', 'ingredient', 'inhumane', 'initial', 'initiated', 'initiative', 'injured', 'injury', 'inlaws', 'inline', 'inner', 'innovacion', 'innovation', 'inop', 'inoperable', 'inout', 'inperson', 'inpolite', 'input', 'inputted', 'inquire', 'inquired', 'inquiring', 'inquiry', 'insane', 'insanehelp', 'insanely', 'insanity', 'insensitive', 'inserted', 'inside', 'insider', 'insight', 'insist', 'insisted', 'inspected', 'inspiration', 'inspired', 'inspiring', 'insta', 'instagram', 'installation', 'installed', 'installing', 'instance', 'instant', 'instantly', 'instead', 'institutional', 'instructed', 'instruction', 'instrument', 'insubstantial', 'insufficient', 'insulin', 'insult', 'insulted', 'insulting', 'insurance', 'insure', 'int', 'intact', 'integrate', 'integrating', 'integration', 'integrity', 'intel', 'intelligence', 'intelligent', 'intend', 'intended', 'intent', 'intention', 'intentionally', 'interaction', 'interchangeably', 'intercom', 'intercontinental', 'interest', 'interest3880', 'interested', 'interesting', 'interestingagent', 'interferes', 'interfering', 'interim', 'interior', 'intern', 'internal', 'internally', 'international', 'internationally', 'internet', 'internjohnradio', 'internship', 'interpreting', 'interrogated', 'interrupted', 'interupt', 'interview', 'interviewed', 'intimate', 'intl', 'intraeu', 'intro', 'intrusive', 'intuit', 'intuitlife', 'inv', 'invalid', 'inventory', 'invest', 'investigate', 'investigated', 'investigation', 'investment', 'investor', 'invitation', 'invitational', 'invite', 'invited', 'invoice', 'involuntarily', 'involve', 'involved', 'io', 'iol', 'ionlyflyblue', 'iove', 'iowa', 'ipad', 'ipaddont', 'iphone', 'ipodtouch', 'iraiq', 'irate', 'ireland', 'irene', 'irina', 'irmafromdallas', 'iron', 'irony', 'irregularity', 'irreplaceable', 'irresponsible', 'irritated', 'irritating', 'irrlcd', 'irrops', 'is', 'is9jx1', 'isabelle', 'isdelayed', 'ishouldhavedriven', 'isi', 'isit', 'isitsummeryet', 'isitthegarykellyway', 'island', 'islandexpert', 'isle', 'isnt', 'isolate', 'isp', 'israel', 'issucks', 'issue', 'issuecould', 'issued', 'issuenot', 'issuesmy', 'issuesshe', 'issuing', 'istanbul', 'istead', 'isthisreal', 'isthisyourfirsttry', 'it', 'italian', 'italy', 'itamericanairlines', 'itboarding', 'itd', 'item', 'itenary', 'itfits', 'ithaca', 'ithelpsabit', 'ithica', 'iti', 'itin', 'itinerary', 'itineraryconfirmation', 'itis', 'itll', 'ito', 'itover', 'itpretend', 'itproblems', 'itravelalot', 'itsaaronchriz', 'itscold', 'itscostingmeincome', 'itslaloca', 'itsthelittlethings', 'itthen', 'itthis', 'itunesmusic', 'itwasminttobe', 'itwhy', 'iusedtoloveu', 'iv', 'ive', 'ivebeen', 'ivr', 'iwantcoffee', 'iwantmymoneyback', 'iwas', 'iwoulddoanythingforlove', 'iy', 'j', 'jabevan221', 'jac', 'jack', 'jackass', 'jacked', 'jacket', 'jackkairys', 'jackpot', 'jackson', 'jacksonville', 'jaclax', 'jacqueline', 'jacquelyn', 'jacquie', 'jail', 'jailbreak', 'jaipur', 'jal', 'jam', 'jamaica', 'james', 'jamesasworth', 'jameskraw', 'jameswester', 'jamie', 'jammed', 'jan', 'jana', 'jane', 'janet', 'janna', 'jannasaurusrex', 'january', 'japan', 'jaramillo', 'jason', 'jasonwhitely', 'javascript', 'jax', 'jax2bna', 'jayfranceschi', 'jaynegelman', 'jayvig', 'jb', 'jbeatz247', 'jbi', 'jblu', 'jburg', 'jcolenc', 'jdbwaffles', 'jdhadp', 'jealous', 'jean', 'jeanette', 'jeanine', 'jedediah', 'jedediahbila', 'jeff', 'jeffhofmann', 'jeffsmisek', 'jennifercascinogmailcom', 'jenniferdawnpro', 'jenniferwalshpr', 'jennings', 'jeokoo', 'jeopardy', 'jerk', 'jersey', 'jessicajaymes', 'jesus', 'jet', 'jetbae', 'jetblue', 'jetblueanyone', 'jetblueblues', 'jetbluebos', 'jetbluebruins', 'jetbluecheeps', 'jetbluefail', 'jetbluefame', 'jetblueforever', 'jetbluehatesbtv', 'jetbluejfk', 'jetbluemember', 'jetbluemess', 'jetbluerocks', 'jetblues', 'jetbluesofly', 'jetbluesucks', 'jetbridge', 'jetgreen', 'jetred', 'jetscrew', 'jetsetter', 'jetway', 'jetways', 'jewel', 'jezziegoldz', 'jfk', 'jfkeven', 'jfkgtroc', 'jfkgtsfo', 'jfklas', 'jfklax', 'jfklhr', 'jfkman', 'jfknot', 'jfksea', 'jfksfo', 'jfkyou', 'jh', 'jhamilton2007', 'jhughes1025', 'jilted', 'jim', 'jimcramer', 'jimdaytv', 'jimmy', 'jimtrotternfl', 'jindalcmc', 'jj', 'jk', 'jkf', 'jlhalldc', 'jlittle100', 'jln', 'jmercadomma', 'jms2802', 'joanna', 'joanne', 'job', 'jobfail', 'jobslose', 'jockeying', 'joe', 'john', 'johnnosta', 'johnwayneair', 'join', 'joined', 'joke', 'jokeboston', 'joker', 'jokerunning', 'jokesonus', 'joking', 'jon', 'joni', 'joplin', 'jordnnicole7', 'jorge', 'jose', 'josephtreis', 'journal', 'journalist', 'journey', 'joy', 'joyadventuremom', 'jp', 'jparkermastin', 'jperhi', 'jsom', 'jsumiyasu', 'jt', 'jtrexsocial', 'jua', 'juan', 'juda', 'judeo', 'juice', 'julesdameron', 'julgood1', 'julian', 'juliasinton948', 'julie', 'july', 'jump', 'jumped', 'jumping', 'junction', 'june', 'junkspam', 'jurassic', 'just', 'justdippin', 'justdoit', 'justgetmehome', 'justifiable', 'justify', 'justifythissupport', 'justsayin', 'justsaying', 'justwantmybed', 'justwrong', 'justynmoro', 'jvmchat', 'jvstatus', 'jwa', 'jx4s2t', 'k', 'k13', 'k20', 'kaha58', 'kailua', 'kaneshow', 'kangaroo', 'kanne822', 'kansa', 'kaps12', 'karaax', 'karabuxthomps', 'karajusto', 'karen', 'karinslee', 'karma', 'kat', 'kate', 'kathryn', 'kathrynsotelo', 'katie', 'kauai', 'kax', 'kay', 'kc', 'kci', 'kciairport', 'kconti44', 'kcthanks', 'kdepetro313', 'keambleam', 'keep', 'keepem2', 'keeper', 'keeping', 'keepingit100', 'keepingtraditionsalive', 'keepit100', 'keepitclassy', 'keepitmovin', 'keepitup', 'keepmy', 'keepusguessing', 'keithlaw', 'kelly', 'kelsey', 'kentuckymbb', 'kept', 'kerry', 'ketr', 'kevin', 'kevinswan', 'kevolt', 'kewl', 'key', 'kgonzales89', 'kick', 'kicked', 'kickin', 'kicking', 'kid', 'kidding', 'kidnapped', 'kieranmahan', 'kill', 'killed', 'killeen', 'killin', 'killing', 'kim', 'kin', 'kind', 'kinda', 'kinder', 'kindle', 'kindly', 'kindness', 'king', 'kingscollegelondon', 'kiosk', 'kiosksbag', 'kirkwoodtiger', 'kiss', 'kit', 'kitchen', 'kitty', 'kkwhb', 'kleankanteen', 'kleinerin', 'km', 'kmdw', 'kmm24999563v99860l0km', 'kn', 'knack', 'knee', 'knew', 'knock', 'know', 'knowexpect', 'knowhockey', 'knowing', 'knowledge', 'knowledgeprovide', 'known', 'knownot', 'knoxville', 'koalax', 'koalaxphlord', 'koalaxphxord', 'kooples', 'korea', 'kosher', 'kp', 'kphl', 'kravitz', 'krescate', 'kristicapel', 'kristiesp', 'kristy', 'ksml', 'kta', 'kthxbai', 'ktm', 'ktn', 'kuala', 'kudos', 'kul', 'kung', 'kurt', 'ky', 'kybilc', 'kylecomer', 'kylejudah', 'l', 'l8', 'l8r', 'la', 'labeled', 'labor', 'labrador', 'labyrinth', 'lack', 'lacked', 'lacking', 'lacma', 'ladan', 'lady', 'ladygaga', 'ladyone', 'lag', 'lagging', 'lagos', 'laguardia', 'laguardiaair', 'laguardiadal', 'laish', 'laissez', 'lake', 'lala', 'lame', 'lamp', 'lampf', 'lan', 'land', 'landed', 'landedyou', 'landing', 'landonschott', 'lane', 'language', 'lap', 'lapse', 'laptop', 'laptoplarge', 'large', 'larger', 'largesize', 'largest', 'larry', 'las2buf', 'las2sfo', 'lasairport', 'lasalle', 'lasden', 'lasfllsju', 'last', 'lasted', 'lastella', 'lastflightofthenight', 'lastflightwithyouever', 'lastly', 'lastnight', 'lasttweetaboutthis', 'late', 'latimes', 'latinamerican', 'latrice', 'latte', 'latter', 'lauderdale', 'lauderdalebogotá', 'laugh', 'laughed', 'laughedhard', 'laughing', 'laughter', 'launched', 'launder', 'laundry', 'laura', 'laurasbrown5', 'lauren', 'laurieameacham', 'lavatory', 'lavoratories', 'law', 'lawsuit', 'lawyer', 'lawyerup', 'lax', 'lax29108m', 'laxdub', 'laxewr', 'laxgtjfk', 'laxgtsea', 'laxiad', 'laxjfk', 'laxlas', 'laxmad', 'laxnyc', 'laxnycarea', 'laxogglax', 'laxshe', 'laxsna', 'laxsyd', 'laxwhen', 'lay', 'layout', 'layover', 'lazy', 'lb', 'lbairport', 'lbb', 'lbc', 'lburley11', 'ld', 'le', 'le2v9d', 'lea', 'lead', 'leader', 'leadership', 'leading', 'leaf', 'league', 'leah', 'leak', 'leakingwhats', 'leanin', 'learn', 'learncustomerservice', 'learned', 'learning', 'learnt', 'lease', 'least', 'leastthebeverageswillbecold', 'leather', 'leatherseats', 'leathery', 'leave', 'leaving', 'leavingtomm', 'led', 'leeannhealey', 'leeds', 'leeway', 'left', 'lefteven', 'leg', 'legacy', 'legal', 'legalizes', 'legally', 'legit', 'legitimate', 'legitimately', 'legroom', 'leighemery', 'leinenkugels', 'leisure', 'lekvhg', 'lemme', 'lend', 'length', 'lengthy', 'lens', 'leopoldsic', 'lesliewolfson', 'lessand', 'lessening', 'lessme', 'lesson', 'let', 'letdown', 'letitgo', 'letsgo', 'letsgoalready', 'letsgohome', 'letsworktogether', 'letter', 'letterwent', 'letting', 'level', 'leverage', 'levi', 'lex', 'lexington', 'lft5', 'lfw15', 'lga', 'lgabwi', 'lgacleden', 'lgafllpoor', 'lgagtdal', 'lgaiah', 'lgaord', 'lgasat', 'lgb', 'lgbtcan', 'lgjw7b', 'lh', 'lh7631', 'lhr', 'lhrdfw', 'lhriah', 'lhrord', 'lhrt2', 'liable', 'liar', 'liberty', 'library', 'license', 'lick', 'lie', 'lied', 'lieflat', 'lieslieslies', 'liesstill', 'life', 'lifeisgood', 'lifeline', 'lifeneedsfrosting', 'lifesaver', 'lifestop', 'lifethreatening', 'lifetime', 'lifevests', 'lift', 'liftin', 'lifting', 'light', 'lightbulb', 'lighting', 'lightly', 'lightning', 'lightyears', 'like', 'like12', 'likeagirl', 'liked', 'likelihood', 'likely', 'liking', 'likingyoulessandless', 'lil', 'lile', 'lilly', 'lima', 'limbo', 'limit', 'limited', 'lin', 'lindaswc', 'lindsay', 'lindsey', 'line', 'lined', 'lineoh', 'linesforever', 'lineup', 'lingo', 'lining', 'link', 'linked', 'linkemail', 'linking', 'lip', 'lipstick', 'lisa', 'lisapal', 'list', 'listed', 'listen', 'listened', 'listening', 'listens', 'lister', 'listing', 'listsomeone', 'lit', 'lite', 'literally', 'litter', 'little', 'live', 'liveatfirefly', 'lived', 'lively', 'liveonfox17', 'livepersonplease', 'livery', 'livethelegend', 'livewelltraveled', 'livid', 'living', 'livvyports16', 'liza', 'lizaapproved', 'lizautter', 'll', 'lloyd', 'lly144', 'lmao', 'lmaooo', 'lmaoooo', 'lmfao', 'lmfaooo', 'lmfaooooo', 'lmk', 'lmuschel', 'lnded', 'lo', 'loaaret', 'load', 'loaded', 'loading', 'loan', 'loaned', 'loaner', 'loanr5084773604', 'lobstermac', 'loc', 'local', 'localized', 'locally', 'locate', 'located', 'locating', 'location', 'locator', 'lock', 'locked', 'loctjycqh', 'lodge', 'lodging', 'lodgingfood', 'loft', 'lofty', 'log', 'logan', 'loganairports', 'loganex', 'logged', 'logging', 'logic', 'logical', 'logically', 'login', 'logistically', 'logistics', 'logo', 'logout', 'lol', 'lolol', 'lololololol', 'lolz', 'london', 'londonfashionweek', 'lone', 'loner', 'lonflight', 'long', 'longbeachairport', 'longbeachcity', 'longday', 'longer', 'longing', 'longstanding', 'longterm', 'look', 'looked', 'lookforwardtoflywithaa', 'lookin', 'looking', 'looong', 'loooooong', 'loop', 'looped', 'loose', 'loosing', 'lopezlaymari', 'lord', 'los', 'lose', 'loser', 'loses', 'losing', 'loss', 'lost', 'lostacustomer', 'lostandforgotten', 'lostbags', 'lostfound', 'lostinlove', 'lostluggage', 'lostmybusiness', 'lostrevenue', 'loststolen', 'lostsuitcase', 'lostyou', 'lot', 'lotbut', 'lotttttttt', 'lou', 'loud', 'louder', 'loudly', 'loudspeaker', 'louis', 'louisville', 'lounge', 'louprice13', 'lousy', 'love', 'loved', 'lovedflyingwiththem', 'lovedoll', 'lovedragonss', 'loveeee', 'lovegratitudempower', 'loveisintheair', 'lovejetblue', 'loveloughneagh', 'loveluv', 'lovely', 'lovesongfriday', 'lovesouthwest', 'lovesouthwestair', 'lovetotravel', 'loving', 'low', 'lowdown', 'lower', 'lowercase', 'lowered', 'loweredexpectations', 'lowest', 'lowstandards', 'loyal', 'loyalmosaicmember', 'loyalrrmember', 'loyalty', 'lpalumbo', 'lpdstock', 'lruns4cupcakes', 'lsuquinlanduhon', 'lsusoftball', 'lt', 'lt3', 'lt5', 'lta', 'ltaljx', 'ltltltltlt', 'ltltltltltlt', 'ltltnow', 'ltr', 'lubbock', 'lucas', 'lucia', 'luck', 'luckily', 'lucky', 'lucycat', 'lucymay', 'lufthansa', 'luggage', 'luggagecancelled', 'luggagegate', 'luggagethen', 'lugging', 'lukemcintosh68', 'lukewyckoff', 'lumpur', 'lunch', 'lunchtime', 'lung', 'lusaka', 'luv', 'luvagent', 'luved', 'luvforsw', 'luvin', 'luvintheair', 'luvisbetter', 'luvits', 'luvsw', 'luvswa', 'luvthem', 'luxclark', 'luxuriesaesthetics', 'luxurious', 'luxury', 'luz', 'lvdfw', 'lve', 'lx009', 'lying', 'lynchburg', 'lynn', 'm', 'm13', 'm8', 'maam', 'maarten', 'maatkare67', 'mac', 'macario2', 'machine', 'mad', 'madbee95', 'maddening', 'maddieflood', 'made', 'madeit', 'madhouse', 'madness', 'madnyc', 'madrid', 'maf', 'mag', 'magazine', 'magic', 'magical', 'magically', 'maiden', 'mail', 'mailbox', 'mailing', 'maimi', 'main', 'maine', 'mainline', 'maint', 'maintain', 'maintained', 'maintenance', 'maintenece', 'mait', 'major', 'majority', 'make', 'makechange', 'makeitright', 'makeovertimecustomerserviceplease', 'maker', 'makessense', 'makestoomuchsense', 'makeup', 'making', 'makingloveoutofnothingatall', 'makingthingseasy', 'malaysia', 'malcome', 'male', 'malfunction', 'malfunctioning', 'malhoit', 'malik', 'mall', 'mallowfairy', 'malpensa', 'maltese', 'mammoth', 'man', 'manage', 'managed', 'management', 'manager', 'managing', 'manana', 'manbut', 'manch', 'manchester', 'manchesterbwi', 'mandarinjourney', 'mandatory', 'maneuver', 'manifest', 'manilla', 'manned', 'manner', 'manually', 'manuel', 'manuelc', 'manufactured', 'many', 'map', 'marathon', 'marccopely', 'march', 'marchand', 'marciaveronicaa', 'marcos', 'marcus', 'mardi', 'mardigras', 'mardigras2015', 'margo', 'maria', 'marie', 'marieharf', 'marinadomine', 'mario', 'marisol', 'mark', 'marked', 'market', 'marketing', 'marketwatch', 'markie', 'markiepost', 'marriage', 'married', 'marriott', 'marriottrewards', 'marry', 'marsh', 'marsha', 'marshaled', 'marshall', 'marthas', 'martin', 'marty', 'martysg', 'marvinatorsb', 'marxsterbcow', 'mary', 'maryellagreen', 'maryjo', 'mashing', 'mask', 'mason', 'mass', 'massage', 'massive', 'massivefail', 'master', 'mastercard', 'match', 'matchgot', 'mate', 'math', 'matteboss', 'matter', 'mattersits', 'matthewebel', 'mattthomasnews', 'mauererpower', 'maui', 'maverick', 'max', 'maxabrahms', 'maxfitgirl29', 'maximization', 'may', 'maybe', 'maybeijustlost', 'maybemange', 'maysvillenyc', 'mayweather', 'mayweatherpacquiao', 'mba', 'mbj', 'mbr', 'mc', 'mccaren', 'mccarran', 'mcdonnell', 'mce', 'mcgraw', 'mci', 'mcigtdfw', 'mckinnie', 'mclarrensp', 'mcmullen', 'mco', 'mcogtcmh', 'mcogtdca', 'mcogtiad', 'mcogtjfk', 'mcokeep', 'md', 'md80', 'md80dc10', 'mdbeei', 'mde', 'mdtmy', 'mdw', 'mdw2mci', 'mdwfll', 'mdwgtmem', 'mdwsan', 'me', 'me2make', 'me2sit', 'meagan', 'meal', 'mean', 'meaning', 'meaningful', 'meant', 'meantime', 'meanwhile', 'measles', 'measly', 'measure', 'measured', 'measurement', 'meat', 'mebe', 'mech', 'mechanic', 'mechanical', 'mechanicalissue', 'med', 'medal', 'medallion', 'medical', 'medicalissue', 'medically', 'medication', 'mediocre', 'medium', 'medusafridays', 'meelan', 'meerikangas', 'meet', 'meeting', 'meeting7', 'meetingoutraged', 'meetingsinterviews', 'meetthefleet', 'mega', 'megelizabeth631', 'megentripodi', 'meggersrocks', 'megzezzo', 'meh', 'meit', 'mejia', 'mel', 'melaniespring', 'melbourne', 'melinda', 'melissa', 'melissaafrancis', 'mellani', 'mellie', 'melting', 'mem', 'member', 'membership', 'memgrizz', 'memo', 'memorial', 'memorize', 'memory', 'memphis', 'men', 'menow', 'ment', 'mental', 'mentality', 'mention', 'mentioned', 'mentioning', 'menu', 'mercy', 'mere', 'merge', 'merged', 'mergedbaggage', 'merger', 'mergerdisaster', 'merging', 'meright', 'meseems', 'mess', 'message', 'messaged', 'messaging', 'messcng', 'messed', 'messing', 'met', 'metal', 'metars', 'methe', 'methey', 'method', 'metro', 'mewhat', 'mex', 'mexico', 'mfps', 'mga', 'mgmt', 'mgood', 'mgr', 'mht', 'mhtforlife', 'mhtt', 'mi', 'mia', 'miacur', 'miaewr', 'mialga', 'miami', 'miamii', 'miamiphl', 'miamore', 'miasfo', 'miatoiah', 'miboston', 'michael', 'michaelbcoleman', 'michele', 'michelle', 'microsecond', 'mid', 'midb', 'middle', 'middleeast', 'mideast', 'midght', 'midland', 'midlandflight', 'midnight', 'midnite', 'midoexhibition', 'midterm', 'midtravel', 'midway', 'midwaychicago', 'might', 'mighty', 'miguel', 'mike', 'mikeabramson', 'mikehertz7gmailcom', 'milage', 'milageplus', 'milan', 'mild', 'mile', 'mileage', 'mileageplus', 'mileagerun', 'milehighselfieclub', 'miler', 'milesaaver', 'milesneed', 'milesstatus', 'milesthank', 'milesthe', 'milestone', 'military', 'million', 'milwaukee', 'mimosa', 'min', 'mind', 'mindset', 'mine', 'minefits', 'minenow', 'mini', 'minimal', 'minimum', 'minneapolis', 'minno', 'minnow', 'minor', 'minsampput', 'minsrescue', 'minsthank', 'mint', 'mintalicious', 'mintyfresh', 'minute', 'minutesand', 'minutesi', 'minutessaid', 'minutewere', 'minwow', 'miracle', 'miraculously', 'miranda', 'miriam', 'misbehavior', 'miscalculation', 'miscnx', 'miscommunicated', 'misconnected', 'miscounting', 'miserable', 'miserablemorning', 'miserably', 'misery', 'misfortune', 'misguided', 'mishap', 'misinformation', 'misjudging', 'mislead', 'misleading', 'mismanagement', 'misplace', 'misplaced', 'mispurchase', 'misread', 'miss', 'missed', 'missedconnection', 'missedflight', 'missedupgrades', 'missedwork', 'missin', 'missing', 'missingstollen', 'missingtheoscars', 'mission', 'missmykids', 'misspelled', 'mistake', 'mistakefurious', 'mistaken', 'mistreated', 'mistreatment', 'misunderstanding', 'misunderstood', 'mitchell', 'mitchellairport', 'mitchsunderland', 'mite', 'mix', 'mixtapethough', 'mk', 'mke', 'mkt', 'mktg', 'mkwlkr', 'ml', 'mligtden', 'mllovelace', 'mltple', 'mmm', 'mn', 'mo', 'mo3tvida', 'moar', 'mobay', 'mobil', 'mobile', 'mobileboarding', 'mobility', 'mod', 'model', 'modelodenegocio', 'moderate', 'modification', 'modify', 'moines', 'mojave', 'mold', 'mom', 'moment', 'momentand', 'momma', 'mommy', 'momsgoodeats', 'mon', 'monday', 'monetary', 'money', 'moneyelsewhere', 'moneynotspentonunited', 'moneywhy', 'monfr', 'monica', 'monika', 'monitor', 'monitoring', 'monkey', 'monopoly', 'monsoon', 'montana', 'montego', 'monterey', 'montereyregionalairport', 'month', 'monthly', 'monthwill', 'montreal', 'montrose', 'mood', 'moodlight', 'moodlighting', 'moodlitmonday', 'mooks', 'moon', 'moose', 'mor', 'more', 'moreblacklist', 'morn', 'morning', 'morning1814', 'morninghow', 'moron', 'mortified', 'mosaic', 'mosaiccant', 'mosaicmecrazy', 'mosiac', 'mosiacfail', 'most', 'mostbut', 'mostly', 'mot', 'motel', 'mother', 'motherinlaw', 'motherpollock', 'motion', 'motor', 'motto', 'mountain', 'mouse', 'mouth', 'move', 'moveaboutthecountry', 'moved', 'movement', 'moveup', 'movie', 'moving', 'mp', 'mp3', 'mpagent', 'mphx', 'mpls', 'mpwnc2', 'mqxc64', 'mr', 'mrandyep', 'mrerickv', 'mrjustyn', 'mrn', 'mrobinson', 'mrrenevendez', 'msbgu', 'msg', 'msn', 'msnbc', 'msp', 'msscottwg', 'msy', 'msydca', 'mt', 'mtg', 'mtgs', 'mths', 'mtn', 'mty', 'muc', 'much', 'muchas', 'muchneeded', 'mugged', 'muh', 'multi', 'multibillion', 'multicity', 'multimedia', 'multimillion', 'multinational', 'multiple', 'multipledooropeningandclosing', 'multiplier', 'multix', 'mumbai', 'mumbled', 'mundane', 'munich', 'murdering', 'murdock', 'murphyjulie', 'murraysawchuck', 'muscle', 'music', 'musical', 'musician', 'must', 'mustve', 'muzak', 'mv', 'mvmt', 'mvp', 'mwa', 'mwangbickler', 'mx', 'mxo42', 'mxpjfk', 'my', 'my8yb4', 'mybday', 'myers', 'mypompanobeach', 'myrcltord', 'myrtle', 'myself', 'myselfothers', 'mysterious', 'mysteriously', 'mystery', 'mytimeismoney', 'myvxexperience', 'n', 'n231wn', 'n26902', 'n284wn', 'n33103', 'n33289', 'n351jb', 'n353jb', 'n366sw', 'n559jb', 'n598jb', 'n614sw', 'n615jb', 'n659sw', 'n747uw', 'n76200', 'n775jb', 'n813ma', 'n8325d', 'n8661a', 'n924an', 'na', 'nada', 'nade', 'naders', 'naelah', 'nah', 'naiamiaa', 'nail', 'nailed', 'nakedmeetings', 'name', 'named', 'namemarried', 'namesdallas', 'naming', 'nanceebing', 'nancy', 'nanosmattering', 'nantucket', 'naomicooper', 'nap', 'napkin', 'naples', 'narayanan', 'narita', 'narrow', 'narrower', 'narrowly', 'nasbwi', 'nascar', 'nasdaq', 'nasdaqjblu', 'nashinmypants', 'nashville', 'nashvilledenver', 'nashvilleshould', 'nassau', 'nastiest', 'nasty', 'natca', 'nathankillam', 'nation', 'national', 'nationalairpor', 'nationalized', 'nationwide', 'natl', 'natprodexpo', 'natt', 'natural', 'nature', 'naval', 'navigate', 'navigating', 'navimumbai', 'navy', 'nawww', 'nba', 'nbc', 'nbd', 'nbr', 'nbr1', 'nbsnewsr', 'nburnside26', 'nc', 'nd', 'ne', 'near', 'nearby', 'nearly', 'necessary', 'necessity', 'need', 'need2know', 'needcoffee', 'needed', 'neededwhy', 'needing', 'needlessly', 'needtobehonest', 'needtocatchmynextflight', 'needtogethome', 'negative', 'negativedegrees', 'negatively', 'neglect', 'neglected', 'negligence', 'negligent', 'negotiate', 'negroni', 'neighbor', 'neighboring', 'neither', 'nelsjeff', 'nelson', 'nephew', 'neptune', 'neptunewaivethefee', 'nerd', 'nerdbird', 'nerve', 'nervous', 'net', 'netherlands', 'netneutrality', 'network', 'neuer', 'neurosurgery', 'nev', 'neveind', 'never', 'neveragain', 'neverchange', 'neverfails', 'neverflyaaagain', 'neverflyunited', 'neverflyusairways', 'neverflyvirgin', 'neverflyvirginforbusiness', 'nevergettinghome', 'neverontime', 'nevertakeno', 'nevertoldus', 'neveryamind', 'new', 'newairplanes', 'newamerican', 'newamericanairline', 'newamericanstinks', 'newark', 'newarkbrussels', 'newarklets', 'newarkliberty', 'newarklondon', 'newarktiredandwanttogohome', 'newborn', 'newburg', 'newburgh', 'newest', 'newlifetimecustomer', 'newly', 'neworleans', 'newplanesmell', 'news', 'newsflt', 'newspaper', 'newsvp', 'newyork', 'next', 'nexttime', 'nexttimeiwillflysouthwest', 'nexus', 'nftyconvention', 'nght', 'nh', 'nh10', 'nhl', 'nhlbruins', 'nhlonnbcsports', 'nice', 'nicedismissive', 'nicely', 'nicer', 'nicest', 'nick', 'nickcunningham1', 'nickeled', 'nicole', 'niece', 'nigeria', 'nigga', 'niggaz', 'night', 'nightdeplaned', 'nightlife', 'nightmare', 'nightmarish', 'nightyour', 'nikon', 'ninadavuluri', 'nine', 'nippon', 'nit', 'nite', 'nitenot', 'nitrogen', 'nix', 'nixchangefees', 'nj', 'njv4bp', 'nl', 'nlrphoto', 'nm', 'nm4agoodlife', 'nmaryland', 'nny', 'no', 'no2jetblue', 'no800number', 'noaccountability', 'noah', 'noair', 'noairport', 'noanswer', 'noapology', 'nobackup', 'nobaggagefees', 'nobody', 'noc', 'nocareforcustomers', 'nocharge', 'nochill', 'noclothesnoinfo', 'nocoatcloset', 'nocommunication', 'nocompensation', 'nocrew', 'nocustomerservice', 'nodrinks', 'noenertainmenton6hourflights', 'noexcuses', 'noexcusesaccepted', 'nofee', 'nofilterneeded', 'nofood', 'nofun', 'nofunatall', 'nogate', 'nogearnotraining', 'nogood', 'nohelp', 'nohelponboard', 'nohotel', 'noise', 'nokidhungry', 'nola', 'nolaorlando', 'nolo', 'nolove', 'noloveforsurfers', 'noltnancy', 'noluv', 'nominated', 'nomoaa', 'nomoreaggravation', 'nomorecheckedbags', 'nomorevirgin', 'non', 'nondelayed', 'none', 'nonempty', 'nonenglish', 'noneother', 'nonetheless', 'nonewplanes', 'nonexistent', 'nonperformance', 'nonprofit', 'nonprofitcant', 'nonrefundable', 'nonsense', 'nonservice', 'nonstop', 'nonupgrade', 'nonvegan', 'nonweather', 'noob', 'noodle', 'noon', 'noone', 'noooo', 'nooooo', 'noooooooooooooooooo', 'noooooooooooooooooooooope', 'nooption', 'nope', 'noplacelikehome', 'nor', 'norahm', 'noreimbursement', 'noreplyusairwaysmobilecom', 'norfolk', 'norm', 'norma', 'normal', 'normally', 'norris', 'north', 'northeast', 'northern', 'norush', 'norway', 'nose', 'nosecuritylines', 'nosedived', 'noservice', 'noshadetothedmv', 'noshow', 'nostalgic', 'nosupport', 'not', 'notafanofyourmerger', 'notahappycustomer', 'notanymore', 'notbabysitters', 'notch', 'notcool', 'note', 'noted', 'notevenjv', 'notfair', 'notfriendly', 'notgoodenough', 'nothanks', 'nothappy', 'nothelpful', 'nothin', 'nothing', 'nothing1', 'nothingand', 'nothinghoping', 'nothini', 'notice', 'noticed', 'noticing', 'notification', 'notified', 'notify', 'notifying', 'notimpressed', 'noting', 'notion', 'notmadeofmoney', 'notmy', 'notmyfault', 'notnice', 'notokay', 'notourfaultyoudontuseyourgatesright', 'notpghtimothy', 'notreceive', 'notsatisfied', 'notsurprising', 'nottrue', 'notwheelsup', 'nov', 'novel', 'november', 'novemberdecember', 'now', 'now3', 'nowarmclothes', 'nowfrustrated', 'nowhere', 'nowhereland', 'nowmightmismybrosgraduation', 'noworse', 'noworstairline', 'nowsunshine', 'noxtralegroom', 'nozzle', 'npbhd0', 'nrhodes85', 'nrosenb1', 'nrt', 'nt', 'nthin', 'ntrustopen', 'nudgenudge', 'nullified', 'num', 'number', 'numbered', 'numberphone', 'numberthe', 'numerical', 'numerous', 'nut', 'nutella', 'nutsaboutsouthwest', 'nutsamp', 'nvm', 'nvr', 'nw', 'nwkgtsf', 'nxt', 'ny', 'nyc', 'nycbuenos', 'nycfeltthelove', 'nycgtbos', 'nycgtpdx', 'nycgtpghwish', 'nycjfk', 'nyers', 'nyfw', 'nyjets', 'nynjairports', 'nyt', 'nytimes', 'nzherald', 'o', 'oaaret', 'oahu', 'oak', 'oakgtmsy', 'oakland', 'oatmeal', 'obama', 'obey', 'obj', 'obj3', 'obnoxious', 'obscene', 'observation', 'observe', 'observer', 'obsessed', 'obsolete', 'obtain', 'obvious', 'obviously', 'oc', 'occasion', 'occupied', 'occupy', 'occur', 'occurred', 'occurs', 'ocean', 'oct', 'octavia', 'octaviannightmare', 'october', 'odd', 'odds', 'ods1819', 'of', 'of40i', 'off', 'offcalls', 'offended', 'offender', 'offensive', 'offensively', 'offer', 'offered', 'offering', 'offeringat', 'office', 'officer', 'official', 'officially', 'offline', 'offload', 'offloading', 'offwish', 'often', 'often5', 'ogg', 'oh', 'ohand', 'ohare', 'ohboy', 'ohead', 'ohi', 'ohing', 'ohio', 'ohioprobz', 'ohk', 'ohno', 'oil', 'ok', 'okaaaaay', 'okay', 'okayd', 'okayim', 'okayyyy', 'okc', 'okcdirects', 'okcprofessionals', 'okcthunder', 'okee', 'oki', 'okie', 'okyou', 'olavarria', 'old', 'older', 'oldplanes', 'oldpolicieswaybetter', 'oldseatnocushion', 'olive', 'olive201', 'olympic', 'oma', 'omagtden', 'omaha', 'omg', 'omgee', 'on', 'onafter', 'onall', 'onboad', 'onboard', 'onboardalerted', 'onbrd', 'oncall', 'once', 'ondemand', 'one', 'one24hmissed', 'oneasy', 'onechildfourbags', 'onehouronhold', 'onei', 'onelove', 'onestop', 'oneway', 'oneworld', 'onfleek', 'ongoing', 'onhold', 'onholdfordays', 'onholdforever', 'onholdwith', 'onion', 'online', 'onlineapp', 'onlineis', 'onlinerep', 'onlineuseless', 'onlinewas', 'only', 'onlyblue', 'onlyinamerica', 'onlywaytofly', 'onmultiple', 'onplane', 'ons', 'ont', 'ontario', 'ontarmac', 'ontime', 'onto', 'ooh', 'ooookay', 'oops', 'oopsno', 'op', 'opal', 'opaque', 'open', 'opened', 'openin', 'opening', 'openskies', 'operate', 'operated', 'operating', 'operation', 'operational', 'operator', 'opinion', 'opportunity', 'opposed', 'opposite', 'oprah', 'ops', 'opsec', 'opt', 'optimistic', 'optin', 'option', 'optout', 'or', 'orange', 'orangecounty', 'orbitz', 'ord', 'orddca', 'ordeal', 'ordealsigh', 'order', 'ordered', 'ordering', 'ordewr', 'ordgtcdg', 'ordgtmsy', 'ordlga', 'ordlhr', 'ordnoise', 'ordnrt', 'ordpvg', 'ordseriously', 'ordsfo', 'ordwe', 'ordywg', 'oregon', 'oreo', 'orf', 'org', 'organization', 'organizational', 'organized', 'orig', 'origami', 'origin', 'original', 'originally', 'originating', 'origindestinationdates', 'orl', 'orlando', 'orlandoridiculous', 'orlandosentinel', 'orleans', 'orphan', 'orphanage', 'orthodoc', 'oscar', 'oscarnight', 'oscars2015', 'oscars2016', 'oscars2105', 'oscarscountdown', 'oscarworthy', 'other', 'others', 'otherwise', 'othr', 'otis', 'ots', 'ottawa', 'ou', 'ouch', 'ought', 'oui', 'our', 'ourguest', 'ourprincess', 'oust', 'out', 'outage', 'outbound', 'outbreak', 'outcome', 'outdated', 'outdoor', 'outfit', 'outfitted', 'outgetmeoutofhere', 'outin', 'outlet', 'outline', 'outlook', 'outofbusiness', 'outofdate', 'outoftouchwithreality', 'outpost', 'outrage', 'outrageous', 'outright', 'outside', 'outsource', 'outsourced', 'outsourcing', 'outstanding', 'outta', 'outtage', 'outtoo', 'outward', 'over', 'overall', 'overbk', 'overbook', 'overbooked', 'overbookedgng', 'overcarry', 'overcharge', 'overcharged', 'overchargedampunderserved', 'overcharging', 'overchging', 'overfilled', 'overflight', 'overflow', 'overflowed', 'overhaul', 'overhead', 'overheard', 'overheating', 'overkill', 'overload', 'overloaded', 'overlooking', 'overnight', 'overpriced', 'overreacting', 'overseas', 'overselling', 'oversize', 'oversized', 'oversleeping', 'oversold', 'oversorry', 'overtime', 'overweight', 'overwhelmed', 'overwhelming', 'overzealous', 'oveur', 'ow', 'owe', 'owed', 'owen', 'owes', 'own', 'owner', 'ownerhelp', 'ownership', 'owning', 'oxgen', 'oy', 'oyu', 'ozs', 'p', 'pa', 'pac', 'pace', 'pacific', 'pacificbiznews', 'pacify', 'pack', 'package', 'packed', 'packermama1', 'packing', 'packingayak', 'pacquiao', 'pact', 'pad', 'padresst', 'pafe', 'page', 'paged', 'paid', 'paigeworthy', 'pain', 'painandsuffering', 'painful', 'painfully', 'painless', 'paint', 'painted', 'pair', 'pair3', 'pairing', 'pale', 'palm', 'pamgrout', 'pamper', 'panam', 'panamerican', 'panchojoe', 'pandora', 'pandu', 'panic', 'panicked', 'pant', 'panynj', 'paper', 'paperampsaid', 'paperwork', 'par', 'parachuteguy', 'paradise', 'parameter', 'paranoid', 'parent', 'parentsonboard', 'parentthey', 'parhetic', 'paris', 'parizad', 'park', 'parked', 'parker', 'parking', 'parody', 'parryaftab', 'part', 'partial', 'participate', 'particular', 'particularly', 'partits', 'partly', 'partner', 'partnered', 'partnering', 'partnerrewards', 'partnership', 'party', 'pas', 'pascucci', 'paseengers', 'pasengers', 'paso', 'pass', 'passbook', 'passed', 'passenegers', 'passenger', 'passengerbillofrights', 'passengersarepeople', 'passengersdont', 'passengerslose', 'passengersstranded', 'passing', 'passion', 'passive', 'passngr', 'passport', 'password', 'past', 'pasta', 'paste', 'pasting', 'pastmypatienceexpirationdate', 'pastor', 'pat', 'patch', 'path', 'pathetic', 'patheticcx', 'patience', 'patienceiswearingthin', 'patiencerunningout', 'patient', 'patiently', 'patriarc', 'patrichruben', 'patricia', 'patrick', 'patron', 'patronizing', 'pattern', 'pattonoswalt', 'pattonoswalts', 'paul', 'paulbev1', 'paulgordonbrown', 'paulgordonbrowni', 'paulo', 'paw', 'pax', 'paxex', 'pay', 'paycheck', 'payed', 'paying', 'payment', 'paymytab', 'paypal', 'paypals', 'payton', 'paytontaylor129', 'pbampj', 'pbi', 'pbiboston', 'pbijfk', 'pbpinftworth', 'pdquigley', 'pdw', 'pdx', 'pe', 'pea', 'peace', 'peaches275', 'peak', 'peanut', 'peanutsandtoons', 'peanutsnuts', 'peanutsonaplatter', 'peanuttreenut', 'pearl', 'peculiar', 'pedophile', 'pedro', 'peeled', 'peep', 'peer', 'peeved', 'peggy', 'pek', 'pen', 'penalized', 'penalty', 'pending', 'penguin', 'penny', 'pennypincher', 'pensacola', 'people', 'peopleon', 'pepper', 'pepperidge', 'per', 'percentage', 'pereira', 'perfect', 'perfectly', 'perfectomobile', 'perform', 'performance', 'performing', 'performs', 'perhaps', 'period', 'periolodicly', 'perk', 'permanent', 'permanently', 'permission', 'persistence', 'persisting', 'person', 'personable', 'personal', 'personality', 'personalized', 'personally', 'personallyabout', 'personnel', 'perspective', 'perth', 'pesky', 'pet', 'peterpiatetsky', 'peterstraubmma', 'petition', 'petty', 'pgashow', 'pgatour', 'pgfryz', 'pgh', 'ph', 'ph6rps', 'phantom', 'phdmama', 'phenomenal', 'phew', 'phf', 'phi', 'phil', 'philacarservice', 'philadelphia', 'philippine', 'phillip', 'philly', 'philly1213pm', 'philpete', 'phishing', 'phl', 'phlairport', 'phlbos', 'phlcrw', 'phldfw', 'phlmco', 'phlmia', 'phlord', 'phlsfo', 'phltolas', 'phn', 'pho', 'phoenix', 'phomia', 'phone', 'phone25', 'phonedied', 'phoneeeee', 'phonehung', 'phoneinperson', 'phonenot', 'phoneonline', 'phoneonly', 'phoneridiculous', 'photo', 'photography', 'phrase', 'phrased', 'phx', 'phxfor', 'phxgtdal', 'phxgtord', 'phxphl', 'phxskyharbor', 'physical', 'physically', 'pia', 'pic', 'pick', 'picked', 'picking', 'pickng', 'picture', 'pid', 'pie', 'piece', 'piela', 'pig', 'pigeon', 'piggy', 'pile', 'pillow', 'pilot', 'pilotsamp', 'pilyoc', 'pimentel', 'pin', 'ping', 'pink', 'pipe', 'pir', 'piss', 'pissed', 'pissedvery', 'pissing', 'pistol', 'pit', 'pita', 'pitiad', 'pitt', 'pittsburg', 'pittsburgh', 'pity', 'pivotalcf', 'pizza', 'pjs', 'pkg49', 'place', 'placed', 'placedranked', 'placing', 'plague', 'plain', 'plainly', 'plan', 'planb', 'plane', 'plane4', 'planebroken', 'planefirstclass', 'planehow', 'planelooks', 'planeno', 'planepisspoor', 'planesnot', 'planeso', 'planesplane', 'planestrainsandautomobiles', 'planet', 'planewide', 'planing', 'planned', 'plannedneverflyvirginforbusiness', 'planner', 'planning', 'plant', 'plastic', 'plat', 'plate', 'platinum', 'platinummember', 'platitude', 'platter', 'play', 'playa', 'played', 'player', 'playing', 'playlist', 'playsoon', 'pleading', 'pleads', 'pleasant', 'pleasantly', 'please', 'pleasecan', 'pleasecomeback', 'pleased', 'pleaseeee', 'pleaseeeeee', 'pleasegod', 'pleasehelp', 'pleasehow', 'pleasehurryup', 'pleasemy', 'pleasent', 'pleasure', 'pleasurerelief', 'plebe', 'pleeeease', 'pleeeeease', 'pleeeeeeeease', 'plenty', 'plitt', 'pln', 'plot', 'plough', 'plow', 'plowing', 'pls', 'plse', 'plt', 'plug', 'plumber', 'plundering', 'plus', 'plz', 'pm', 'pmcan', 'pmwe', 'pn', 'pnr', 'pns', 'pnut', 'po', 'poc', 'pocket', 'podium', 'point', 'pointbut', 'pointed', 'pointer', 'pointing', 'pointless', 'pointsme', 'pointsmileage', 'pointy', 'poisoning', 'poisonpill76', 'poker', 'pole', 'police', 'policiescost', 'policy', 'policyfees', 'polite', 'politely', 'pooch', 'pooling', 'poop', 'poor', 'poorcommunication', 'poorcustomerservice', 'poorcustumerservice', 'poorest', 'poorform', 'poorly', 'poorlyhandled', 'poornoncommunication', 'poorplanning', 'poorservice', 'pop', 'popped', 'popping', 'popular', 'populate', 'pordes', 'porn', 'port', 'portable', 'portal', 'portauprince', 'portcolumbuscmh', 'portfolio', 'portion', 'portland', 'portlandjetport', 'portrayed', 'portsmouth', 'position', 'positionhow', 'positive', 'posmia', 'possession', 'possiable', 'possibility', 'possible', 'possible2', 'possibly', 'post', 'postcode', 'posted', 'posting', 'postmaster', 'postpone', 'potable', 'potato', 'poteettj', 'potential', 'potentially', 'potus', 'poughkeepsie', 'pound', 'pounding', 'pouting', 'powder', 'power', 'powered', 'pp', 'ppl', 'pple', 'pqd', 'pqds', 'pqm', 'pqms', 'pr', 'practical', 'practice', 'praise', 'praised', 'prank', 'pray', 'prayerdisappointed', 'praying', 'praywinn', 'prbound', 'prchase', 'prds', 'pre', 'preboard', 'preboarding', 'preboards', 'prebook', 'prebooked', 'precheck', 'prechk', 'preciate', 'preciation', 'precious', 'precioustime', 'precipitation', 'precludes', 'predawn', 'predict', 'predictable', 'predicted', 'predictive', 'preemptive', 'preexisting', 'pref', 'prefer', 'preferably', 'preference', 'preferred', 'prefference', 'preflight', 'prefundiahttptcojrbzlhrw7y', 'pregame', 'preggo', 'pregnant', 'pregnantwithtwins', 'prem', 'premgold', 'premier', 'premier1k', 'premiere', 'premium', 'preoccupied', 'prepaid', 'preparation', 'prepare', 'prepared', 'preparedhonestly', 'preparedness', 'prepares', 'prepurchase', 'prerecorded', 'preregistration', 'prerookie', 'pres', 'presceo', 'prescreen', 'preselect', 'present', 'presentation', 'presented', 'presenting', 'president', 'presidential', 'press', 'pressed', 'pressure', 'pressurecooker', 'pressurization', 'presumably', 'pretend', 'pretending', 'pretsa', 'pretty', 'prettyplease', 'pretzel', 'prev', 'prevent', 'preventable', 'preventative', 'prevented', 'preventing', 'previous', 'previously', 'prfriendly', 'pri', 'price', 'priced', 'pricediscrimination', 'priceless', 'priceline', 'pricewise', 'pricey', 'pricing', 'pricy', 'pride', 'prime', 'prince', 'princess', 'princesshalf', 'principle', 'print', 'printed', 'printer', 'prior', 'prioritize', 'priority', 'prison', 'priv', 'private', 'privilege', 'prize', 'prn', 'pro', 'proactive', 'proactively', 'prob', 'probability', 'probably', 'probablynot', 'problem', 'problematic', 'problemhad', 'problemive', 'problemjust', 'problemsbtwthe', 'problemsolvers', 'probls', 'probs', 'procedure', 'proceed', 'proceeded', 'process', 'processed', 'processing', 'produce', 'produced', 'product', 'productivity', 'prof', 'professional', 'professionalism', 'professionalnice', 'professor', 'professorpaul15', 'proficient', 'profile', 'profit', 'profitability', 'profitable', 'profitbeforepeople', 'profiting', 'profsolutions', 'program', 'programhorrible', 'programmer', 'programming', 'progress', 'progressed', 'prohibits', 'project', 'prolly', 'prolonged', 'prom', 'promise', 'promised', 'promising', 'promo', 'promofly', 'promos', 'promotethatgirl', 'promoting', 'promotion', 'promotionscodes', 'prompt', 'prompted', 'prompting', 'promptly', 'pronounce', 'proof', 'prop', 'proper', 'properly', 'property', 'proportion', 'proposal', 'propositioned', 'prospective', 'protect', 'protected', 'protection', 'protest', 'protocol', 'proud', 'prove', 'provide', 'provided', 'providence', 'providenciales', 'provider', 'provides', 'providing', 'proving', 'provo', 'pseudovoucher', 'psgrs', 'psngrs', 'psp', 'pssgrs', 'pssngrs', 'pst', 'psych', 'psychological', 'pt', 'ptfo', 'pto', 'pty', 'pu', 'public', 'publicity', 'publicly', 'published', 'puerto', 'puj', 'pull', 'pulldown', 'pulled', 'pullin', 'pulling', 'pulse', 'pummeled', 'pump', 'pumped', 'pumping', 'punished', 'punishedforflying', 'punta', 'puppy', 'pura', 'purchase', 'purchased', 'purchaseerrorinvalidloyaltymemberaccountstatus', 'purchasing', 'pure', 'purely', 'purifier', 'purpose', 'purse', 'push', 'pushback', 'pushed', 'pushing', 'pushy', 'put', 'putting', 'pv', 'pvd', 'pvdiad', 'pvr', 'pwm', 'q', 'q2', 'q3', 'q4', 'q4vnmb', 'qantas', 'qd', 'qlyss8', 'qqbmug', 'qro', 'qsvgru', 'quadruple', 'qualification', 'qualified', 'qualifies', 'qualify', 'quality', 'quantas', 'quarter', 'que', 'query', 'question', 'questionare', 'queue', 'queuing', 'quiche', 'quick', 'quicker', 'quickest', 'quickie', 'quickly', 'quiet', 'quietly', 'quintana', 'quirkiness', 'quirky', 'quit', 'quite', 'quito', 'quitting', 'quotation', 'quote', 'quoted', 'quoting', 'r', 'rabbit', 'race', 'rachel', 'rachelle', 'racist', 'rack', 'rad', 'radio', 'radioi', 'radish', 'raeann', 'raft', 'rag', 'ragandisney', 'rage', 'railed', 'rain', 'rainsleet', 'rainy', 'raise', 'raised', 'raisegreat', 'raising', 'rajuchinthala', 'raleigh', 'ralph', 'ram', 'ramada', 'ramp', 'rampers', 'ran', 'random', 'randomactsofcorporategreed', 'randomly', 'rang', 'range', 'ranging', 'ranked', 'rant', 'ranting', 'rantyou', 'rap', 'rapid', 'rapidly', 'rapidrewards', 'rare', 'rarely', 'rat', 'ratchet', 'rate', 'rated', 'ratepolicy', 'rather', 'rating', 'raving', 'ravioli', 'ray', 'rayja9', 'razor', 'rcd', 'rcmoficial', 'rcvd', 'rdu', 'rdui', 'rdureimburse', 're', 'reaccommodation', 'reach', 'reachable', 'reached', 'reaching', 'reachingnewlows', 'react', 'reaction', 'reactivate', 'reactive', 'read', 'readded', 'reader', 'readily', 'reading', 'ready', 'reagan', 'reaganairport', 'real', 'realise', 'realistic', 'realistically', 'reality', 'realize', 'realized', 'realizing', 'really', 'reallytallchris', 'reallythey', 'reallyyou', 'realtime', 'reappeared', 'rear', 'rearrange', 'reason', 'reasonable', 'reasonably', 'reassess', 'reassign', 'reassigned', 'reativation', 'rebecca', 'reboard', 'reboarded', 'reboarding', 'rebook', 'rebooked', 'rebookedarrived', 'rebookplease', 'rebooks', 'reboot', 'rebooting', 'rebuilding', 'rec', 'recap', 'reccewife', 'recd', 'receipt', 'receive', 'received', 'receives', 'receiving', 'recent', 'recently', 'recharging', 'recheck', 'rechecked', 'recheduled', 'recieved', 'reciprocate', 'reckless', 'reclaim', 'reclameaqui', 'recline', 'reclining', 'recognition', 'recognize', 'recognized', 'recommend', 'recommendation', 'recommended', 'reconsider', 'reconsidering', 'record', 'recorded', 'recordi', 'recording', 'recouping', 'recourse', 'recover', 'recovered', 'recovering', 'recovery', 'recruiter', 'recruiting', 'rectified', 'rectify', 'recvd', 'recycle', 'red', 'redcarpet', 'reddit', 'redeem', 'redeemed', 'redeeming', 'redeempoints', 'redemption', 'redesign', 'redeye', 'redheaded', 'redirect', 'redirected', 'redirects', 'redo', 'redreserve', 'redsox', 'reduce', 'reduced', 'reduction', 'redwineisbetter', 'reebok', 'reebooked', 'reek', 'reevaluate', 'ref', 'ref12990176298', 'ref8441639', 'refer', 'reference', 'referencing', 'referral', 'referred', 'referring', 'refers', 'reflect', 'reflection', 'reflight', 'reform', 'refrain', 'refresh', 'refreshed', 'refresher', 'refreshes', 'refreshing', 'refreshment', 'refsd', 'refuel', 'refueled', 'refueling', 'refund', 'refundable', 'refunddm', 'refunded', 'refunding', 'refundplease', 'refundprocedurenottoopainful', 'refurbish', 'refuse', 'refused', 'refusing', 'regains', 'regard', 'regarding', 'regardless', 'regina', 'regional', 'register', 'registered', 'registering', 'registration', 'regrading', 'regret', 'regretting', 'regular', 'regularly', 'regulation', 'rehman', 'reigning', 'reimburse', 'reimbursed', 'reimbursement', 'reinforcement', 'reinstate', 'reinstated', 'reinstating', 'reinterview', 'reinvest', 'reissue', 'reissued', 'reiterate', 'rejected', 'rejecting', 'relate', 'relation', 'relationship', 'relative', 'relax', 'relaxing', 'relay', 'relayed', 'release', 'released', 'releasing', 'relevant', 'reliability', 'reliable', 'reliablefriendly', 'relied', 'relief', 'relieved', 'reload', 'reluctant', 'rely', 'relying', 'rem', 'remain', 'remained', 'remaining', 'remains', 'remark', 'remedy', 'remember', 'remembered', 'remembering', 'remembers', 'remind', 'reminded', 'reminder', 'reminding', 'reminds', 'remorse', 'remote', 'remotely', 'removal', 'remove', 'removed', 'removing', 'renewed', 'renhotels', 'reno', 'renoairport', 'rent', 'rental', 'rented', 'renting', 'renttherunway', 'reopen', 'reopened', 'reopens', 'rep', 'repaid', 'repainted', 'repair', 'repaired', 'repartee', 'repeat', 'repeatably', 'repeated', 'repeatedly', 'repeating', 'repexper', 'replace', 'replaced', 'replacement', 'replacing', 'replicate', 'replied', 'reply', 'replying', 'replyingi', 'replyour', 'report', 'reported', 'reporter', 'reposted', 'reposting', 'repping', 'reprehensible', 'represent', 'representative', 'representing', 'represents', 'reproach', 'republic', 'republican', 'repurchased', 'reputation', 'reqing', 'reqs', 'request', 'requested', 'requesting', 'require', 'required', 'requirement', 'requires', 'requiresshe', 'requiring', 'reread', 'reroute', 'rerouted', 'rerouting', 'resch', 'resched', 'reschedule', 'rescheduled', 'reschedulemyflight', 'reschedulereplane', 'reschedules', 'rescheduling', 'rescue', 'rescued', 'research', 'researching', 'reseated', 'resell', 'resend', 'resending', 'resent', 'reserv', 'reservation', 'reservationchange', 'reservationexplain', 'reservationhelpful', 'reservationwe', 'reserve', 'reserved', 'reset', 'residing', 'resoled', 'resolution', 'resolve', 'resolved', 'resolving', 'resort', 'resorting', 'resource', 'resourcesratings', 'respect', 'respectful', 'respond', 'responded', 'respondi', 'responding', 'respondingmy', 'responds', 'response', 'responseall', 'responsedisappointed', 'responseplease', 'responseservice', 'responsesme', 'responsetough', 'responsibility', 'responsibilityamp', 'responsibilitytoo', 'responsible', 'responsive', 'responsiveness', 'responsivethoughts', 'ressie', 'rest', 'restaff', 'restating', 'resting', 'restless', 'restore', 'restored', 'restr', 'restriction', 'restrm', 'restroom', 'restructured', 'result', 'resulted', 'resulting', 'resume', 'retailbagholder', 'retailer', 'retain', 'retaining', 'retains', 'retard', 'rethink', 'rethinking', 'reticketed', 'retire', 'retired', 'retiring', 'retook', 'retracted', 'retrain', 'retribution', 'retrieve', 'retrieved', 'retrn', 'retroactively', 'rett', 'return', 'returned', 'returning', 'retweet', 'retweeted', 'retweets', 'reunion', 'reunite', 'reunited', 'reuniting', 'reupgrade', 'reuse', 'reuters', 'rev', 'reveal', 'reveals', 'revenue', 'revers', 'reverse', 'reversed', 'reverted', 'revieving', 'review', 'reviewed', 'reviewing', 'revision', 'revisiting', 'revive', 'revue', 'reward', 'reweather', 'rez', 'rhonda', 'ri', 'ric', 'ric2dfw', 'rica', 'ricardo', 'rich', 'richard', 'rick', 'ricky', 'rico', 'ricoh', 'rid', 'ride', 'ridic', 'ridicule', 'ridiculous', 'ridiculously', 'ridiculousness', 'ridiculousor', 'riedel', 'rifle', 'right', 'rigorous', 'rikrik', 'rim', 'ring', 'ringing', 'ringling', 'rio', 'riot', 'rip', 'ripme', 'ripoff', 'ripoffquick', 'ripoffs', 'ripped', 'ripping', 'ripskymall', 'rise', 'rising', 'risk', 'rita', 'ritacomo', 'ritz', 'rival', 'rivet', 'rizzilient', 'rj145s', 'rldelahunty', 'rly', 'rmoug15', 'rn', 'rncahill', 'rnd', 'rndtrp', 'rno', 'rnodfw', 'rnp', 'road', 'roadmap', 'roadtrip', 'roadwarrior', 'roanoke', 'roasted', 'rob', 'robbed', 'robbedexplain', 'robbing', 'robbogart', 'robcnyc', 'robert', 'robertdwyer', 'robertfor39', 'roberto', 'robertsamps1', 'robin', 'robinreda', 'robocalls', 'robot', 'robotic', 'robotweeting', 'robprice', 'robthecameraman', 'robyn', 'roc', 'rocif', 'rock', 'rocked', 'rocker', 'rockies', 'rocking', 'rockingthetweets', 'rockinwellness', 'rockstar', 'rockstars', 'rockys', 'rodeo', 'roger', 'rolemodel', 'roll', 'rollaboard', 'rolled', 'roller', 'rollerboards', 'rollercoaster', 'rolling', 'roo', 'rookie', 'room', 'roomsthat', 'rosetta', 'rotary', 'rotten', 'rough', 'round', 'roundtrip', 'roundtrips', 'route', 'router', 'routine', 'routinely', 'routing', 'row', 'row7', 'roxydigital', 'royal', 'royally', 'rozana', 'rqstd', 'rr', 'rscheduling', 'rsrv', 'rsw', 'rswwebsite', 'rt', 'rtb', 'rtbgtiah', 'rtn', 'rtrn', 'rtw', 'ru', 'rub', 'rubbed', 'rubber', 'rubbish', 'rude', 'rudely', 'rudelyreturning', 'rudeness', 'rudeservice', 'rudest', 'rudestaff', 'ruin', 'ruined', 'ruining', 'ruiningmy', 'rule', 'rulesshouldbend', 'rum', 'rumor', 'run', 'runaround', 'rundisney', 'runner', 'runnin', 'running', 'runningonthreehoursofsleep', 'runway', 'rus', 'rush', 'rushed', 'russell', 'russellswriting', 'russelneiss', 'russia', 'ruth', 'ruthslobodin', 'rwg', 'rwrd', 'rx', 'ryand2285', 'rylietolbert15', 's', 's4', 'sa', 'sabe', 'sabotaging', 'sabre', 'sac', 'sacintlairport', 'sacraig', 'sacramento', 'sad', 'saddened', 'saddening', 'saddens', 'sadie4406', 'sadly', 'safari', 'safe', 'safealone', 'safely', 'safer', 'safety', 'safetyconcerns', 'safetyfirst', 'safetyservice', 'saga', 'sagerooski', 'saharasams', 'saianel', 'said', 'saidi', 'sailed', 'sailor', 'saipan', 'salad', 'sale', 'saleim', 'salisbury', 'sally', 'salt', 'salted', 'salvaged', 'sam', 'samantha', 'samartzis', 'samchampion', 'same', 'sameday', 'sammijon3s', 'samoore10', 'sampgs', 'sample', 'samsonite', 'san', 'san68059m', 'sand', 'sandiego', 'sandra', 'sandwich', 'sanfrancisco', 'sang', 'sanitized', 'sanitizer', 'sanity', 'sansfo', 'santa', 'santo', 'sao', 'sapgtmia', 'sapphire', 'sarah', 'sarahpompei', 'sarahzou', 'sarcasm', 'sarcastic', 'sarcastically', 'sardine', 'sarita', 'sas', 'sat', 'sat2morrow', 'satellite', 'satesq', 'satisfaction', 'satisfactorily', 'satisfactory', 'satisfied', 'satisfy', 'sato', 'saturday', 'sauce', 'sauna', 'sauvignon', 'sav', 'savannah', 'save', 'saved', 'saveface', 'saver', 'savethediagonals', 'savethoseseats', 'saveus', 'saving', 'saviour', 'savr', 'saw', 'saxonandparole', 'say', 'sayas', 'sayget', 'sayin', 'saying', 'saysorrychris', 'sb', 'sb202', 'sb5551', 'sba', 'sbn', 'sby', 'sc', 'scale', 'scalpel', 'scam', 'scan', 'scandal', 'scanned', 'scare', 'scareair', 'scared', 'scareways', 'scarf', 'scary', 'scattered', 'scavenger', 'scenario', 'scene', 'scent', 'sch', 'schd', 'sche', 'sched', 'schedule', 'schedulecontact', 'scheduled', 'scheduling', 'scheme', 'scheming', 'schiphol', 'school', 'schooler', 'schoolgirl', 'science', 'sciencebehindtheexperience', 'scl', 'scm1133', 'scolding', 'scooby', 'scoop', 'scoot', 'scope', 'scotch', 'scott', 'scotthroth', 'scramble', 'scratching', 'screakjmf', 'scream', 'screaming', 'screen', 'screencap', 'screening', 'screensand', 'screenshot', 'screenslousy', 'screw', 'screwed', 'screwing', 'scroll', 'scrum', 'scumbag', 'scvpools', 'sd', 'sdf', 'sdfairport', 'sdq', 'sea', 'seahou', 'seam', 'sean', 'seanmfmadden', 'seanvrose', 'search', 'searched', 'searching', 'season', 'seasonal', 'seat', 'seatac', 'seatarmrest', 'seatback', 'seatbelt', 'seated', 'seating', 'seatmate', 'seatout', 'seatstray', 'seattle', 'seattlebound', 'seau', 'sec', 'second', 'secondary', 'secondly', 'secret', 'section', 'sectionturn', 'sector', 'secure', 'secured', 'securing', 'security', 'sedholm', 'seductive', 'see', 'seeampeter', 'seeing', 'seek', 'seeking', 'seem', 'seemed', 'seemless', 'seems', 'seen', 'seet', 'seetonight', 'seevery', 'seg', 'segment', 'segs', 'seguinej', 'segway', 'select', 'selected', 'selecting', 'selection', 'selectionchange', 'selects', 'self', 'selfcheck', 'selfie', 'selfies', 'selfinterest', 'selfservice', 'selfupgraded', 'sell', 'selling', 'sellmypointssoon', 'sellout', 'semantics', 'semester', 'send', 'sendambien', 'sending', 'sendingposting', 'sends', 'senior', 'sens', 'sense', 'senseless', 'sensitive', 'sent', 'sentierimelinda', 'sentiment', 'sentimental', 'sentinel', 'sep', 'separate', 'separated', 'separately', 'separating', 'sept', 'september', 'ser', 'serenitynow', 'serf', 'series', 'serious', 'seriously', 'seriousness', 'serv', 'serve', 'served', 'server', 'service', 'servicecare', 'serviced', 'servicedog', 'servicefail', 'servicehaving', 'servicelooks', 'servicemost', 'serviceopen', 'servicessomething', 'servicing', 'serving', 'session', 'sests', 'set', 'setorii', 'setting', 'settle', 'settled', 'setup', 'sev', 'seven', 'several', 'severally', 'severe', 'severely', 'sex', 'sexual', 'sexually', 'sexy', 'sf', 'sfo', 'sfo2lax', 'sfodfw', 'sfoewr', 'sfofll', 'sfogtaus', 'sfogtbos', 'sfogtsna', 'sfogtyyz', 'sfojfk', 'sfolax', 'sfolaxsalclo', 'sfonew', 'sfoord', 'sfopdx', 'sfosea', 'sfotobos', 'sfoyyj', 'sgf', 'sh', 'shade', 'shadier', 'shady', 'shafted', 'shaker', 'shaking', 'shaky', 'shall', 'sham', 'shamble', 'shame', 'shameful', 'shameonyou', 'shampoo', 'shanese', 'shanghai', 'shannon', 'shannonbloom', 'shannonwoodward', 'shaquille', 'share', 'shared', 'sharing', 'sharktank', 'sharon', 'sharp', 'shattered', 'shavon', 'shawn', 'she', 'shed', 'sheer', 'sheesh', 'sheila', 'shelf', 'shelleyandmarcrock', 'shenanigan', 'sherocks', 'shes', 'shesaidrun', 'shhhh', 'shift', 'shin', 'shined', 'ship', 'shipped', 'shipping', 'shirt', 'shit', 'shitshow', 'shitting', 'shitty', 'shittydeal', 'shivadelrahim', 'shiver', 'shiz', 'shld', 'shock', 'shocked', 'shocker', 'shocking', 'shoddy', 'shoe', 'shopping', 'short', 'shortage', 'shortcoming', 'shortcut', 'shortly', 'shortlycb', 'shortlyrs', 'shortshorts', 'shortstaffed', 'shot', 'shotwest', 'should', 'shoulda', 'shoulder', 'shouldhavedriven', 'shouldhaveflowndelta', 'shouldhaveflownjetblue', 'shouldigetoutandpush', 'shouldnt', 'shouldve', 'shouldwearmasks', 'shout', 'shoutout', 'show', 'showed', 'showentered', 'shower', 'showexpert', 'showing', 'shown', 'showsomerespect', 'showup', 'shrimp', 'shrinerack', 'shrug', 'shrugging', 'sht', 'shuck', 'shuffle', 'shulemstern', 'shut', 'shutting', 'shuttle', 'shv', 'si', 'siberia', 'sibling', 'sick', 'sickcrew', 'side', 'sided', 'sidewhy', 'sigh', 'sighed', 'sight', 'sign', 'signal', 'signed', 'significant', 'significantly', 'signin', 'signing', 'signon', 'signup', 'sil', 'silence', 'silicon', 'sill', 'silly', 'silver', 'silverairways', 'silverstatus', 'sime', 'similar', 'simonroesner', 'simple', 'simplify', 'simply', 'simultaneously', 'since', 'sincere', 'sincerely', 'sine', 'sing', 'singapore', 'singer', 'singing', 'single', 'sink', 'sinus', 'siouxfalls', 'sir', 'sirius', 'sis', 'sister', 'sisterampbrother', 'sit', 'site', 'siteapp', 'sitecomplicated', 'siting', 'sits', 'sitter', 'sittin', 'sitting', 'sittingontheplane', 'sittingonthetarmac', 'situation', 'situationagain', 'situationsyour', 'sivi', 'six', 'size', 'sized', 'sizer', 'sj', 'sjc', 'sjcgtlax', 'sjo', 'sjoiad', 'sju', 'skateboard', 'sked', 'ski', 'skibootbag', 'skift', 'skiing', 'skill', 'skilled', 'skillful', 'skin', 'skip', 'skiplagged', 'skipper', 'sky', 'skycap', 'skymalls', 'skype', 'skyscanner', 'skyteam', 'skytrax', 'skyw', 'skywest', 'slacksoftuk', 'slammed', 'slapintheface', 'slash', 'slaycancerwithdragons', 'slc', 'slcairport', 'sld', 'sledge', 'sleekmoney', 'sleep', 'sleepbut', 'sleeping', 'sleepless', 'sleepy', 'sleet', 'slept', 'slew', 'sliced', 'slide', 'slight', 'slightly', 'slime', 'slip', 'sliver', 'slog', 'slogan', 'sloooooow', 'sloooowresponses', 'slope', 'sloppy', 'slot', 'slow', 'slowdown', 'slower', 'slowest', 'slowfi', 'slowing', 'slowly', 'slowness', 'sm', 'sma', 'small', 'smaller', 'smallerthinner', 'smallest', 'smart', 'smarter', 'smashed', 'smell', 'smelled', 'smelly', 'smf', 'smh', 'smile', 'smiles1307', 'smiling', 'smisek', 'smith', 'smitten', 'smm', 'smoking', 'smoooothest', 'smooth', 'smoothest', 'smoothflight', 'smoothie', 'smoothly', 'smoothoperation', 'smoothtransition', 'smth', 'smugsmirk', 'smusportmgt', 'smyc88', 'sna', 'sna2ord', 'snack', 'snacksthank', 'snafu', 'snag', 'snagging', 'snap', 'snapchat', 'snapped', 'sneaky', 'snit', 'snobby', 'snoop', 'snow', 'snowballed', 'snowbama', 'snowboard', 'snowbound', 'snowfall', 'snowforce', 'snowice', 'snowing', 'snowstorm', 'snowwillnevermelt', 'snowy', 'snuck', 'so', 'soaked', 'soaking', 'sobbed', 'sobbing', 'sobewff', 'soc', 'social', 'socialtantrum', 'society', 'socketyou', 'soda', 'sodone', 'sofly', 'soft', 'software', 'sohappy', 'sol', 'solar', 'solate', 'sold', 'sole', 'solid', 'solo', 'solution', 'solve', 'solved', 'solves', 'solving', 'sombrons', 'some', 'somebody', 'somehow', 'someone', 'someoneawesome', 'something', 'somethingwhich', 'sometime', 'sometimes', 'somewhat', 'somewhere', 'somthing', 'son', 'sondo', 'song', 'sonyasloanmd', 'soon', 'sooner', 'sooo', 'soooo', 'sooooo', 'soooooo', 'sooooooo', 'sop', 'soreback', 'sorry', 'sorrynotsorry', 'sort', 'sorta', 'sortawe', 'sorted', 'sorting', 'sorude', 'sosmart', 'sotelo', 'sou', 'soul', 'soulandinspiration', 'souljacoy', 'sound', 'sounded', 'sounding', 'soundofmusic', 'sour', 'soured', 'sourhwest', 'south', 'southbendinwhere', 'southern', 'southwestair', 'southwestair4569', 'southwestairgive', 'southwestairlines', 'southwestairs', 'southwestairsouthwest', 'southwestairswadiversity', 'southwestairwasthere', 'southwestfail', 'southwestluv', 'southwestluvsweeps', 'southwestoliver', 'southwestrally', 'southwestrocks', 'southwestsmoothie', 'southwestsucks', 'southwestverity', 'southworst', 'sox', 'sozldj', 'space', 'spaced', 'spade', 'spaghetti', 'spagnuolo', 'spain', 'spam', 'spamjunk', 'span', 'spanish', 'spare', 'sparkled', 'speak', 'speaking', 'speaks', 'spec', 'special', 'specialist', 'specially', 'specialolympics', 'specific', 'specifically', 'specified', 'speciifc', 'spectacular', 'spectacularfed', 'speechless', 'speed', 'speedy', 'spell', 'spelled', 'spelling', 'spend', 'spending', 'spends', 'spent', 'spf', 'spiced', 'spilled', 'spin', 'spirit', 'spiritairlines', 'spiritairpr', 'spirited', 'spite', 'spk', 'split', 'splitting', 'spoil', 'spoiled', 'spoke', 'spoken', 'sponsor', 'sponsorship', 'spontaneously', 'spook', 'sporadically', 'sport', 'sporting', 'sportsbiz', 'spot', 'spotify', 'spotting', 'spotty', 'sprawled', 'spread', 'spreading', 'spreadtheword', 'spring', 'sprinkled', 'sprint', 'sprinted', 'sprinting', 'spruce', 'spur', 'spvsr', 'squared', 'squarely', 'squashed', 'squawked', 'squawking', 'squeak', 'squished', 'sr', 'sre', 'srq', 'srsly', 'srv', 'srvc', 'ssal', 'st', 'stable', 'stacey', 'stacy', 'stacycrossb6', 'staduim', 'staff', 'staffamericanair', 'staffcust', 'staffed', 'staffer', 'staffing', 'stafford', 'stage', 'stagnant', 'stahhppp', 'stahp', 'stain', 'stair', 'stall', 'stamp', 'stand', 'standard', 'standby', 'standbye', 'standbylots', 'standing', 'star', 'staralliance', 'starboard', 'starbucks', 'stare', 'staring', 'starryeyesdev', 'start', 'started', 'starting', 'startingbloc', 'startled', 'startling', 'startup', 'starving', 'stat', 'state', 'stated', 'statement', 'static', 'staticy', 'stating', 'station', 'stationary', 'stats', 'status', 'statusand', 'statusawaiting', 'statusdelays', 'statusmatch', 'statusmatchpaidoff', 'statuswill', 'stay', 'stayed', 'staying', 'stbernard', 'stdby', 'steal', 'stealing', 'steamboat', 'steamed', 'steaming', 'steel', 'steep', 'steered', 'steering', 'stellar', 'stellarservice', 'step', 'stephenrodrick', 'stepitup', 'stepped', 'stepping', 'stepup', 'steve', 'stevelord212', 'stevie', 'steward', 'stewardess', 'stewart', 'sti', 'stick', 'sticker', 'sticking', 'stickingtodelta', 'stiiiil', 'still', 'stillbagless', 'stillbut', 'stilling', 'stillmakingmepoorthough', 'stillnobags', 'stillnotonmyflight', 'stillwaiting', 'stingiest', 'stingy', 'stink', 'stl', 'stl2atl', 'stlaus', 'stlbos', 'stlouis', 'stmt', 'stndby', 'stock', 'stocker', 'stockhouse', 'stocking', 'stoked', 'stole', 'stolen', 'stone', 'stone9956', 'stonewalled', 'stood', 'stop', 'stopclaim', 'stopover', 'stopped', 'stopping', 'storage', 'store', 'storm', 'story', 'stow', 'stowaway', 'stpatricksfoundation', 'straight', 'straighten', 'straightend', 'straightened', 'strand', 'stranded', 'strandedattheairport', 'strandedinnashville', 'strandednyc', 'stranding', 'strandusindenver', 'strange', 'stranger', 'strategy', 'stray', 'strayed', 'straying', 'stream', 'streaming', 'streamline', 'street', 'streetwise', 'strength', 'stress', 'stressed', 'stressful', 'stressor', 'stretch', 'stretching', 'strict', 'strike', 'string', 'strip', 'strive', 'strives', 'stroller', 'strong', 'strongly', 'strtd', 'structure', 'struggle', 'struggling', 'strut', 'stt', 'stubborn', 'stubbornly', 'stuck', 'stucked', 'stuckinmemphis', 'stuckintampa', 'stuckintheloop', 'stuckon', 'stuckonaplane', 'student', 'studying', 'stuff', 'stuffing', 'stuffy', 'stunned', 'stunning', 'stupid', 'stupidity', 'stupidly', 'style', 'stylesheets', 'styling', 'sub', 'submit', 'submits', 'submitted', 'submitting', 'suboptimal', 'suboption', 'subpar', 'subscribe', 'subscription', 'subsequent', 'subsequently', 'substandard', 'substantial', 'substitute', 'subterfuge', 'subtlety', 'success', 'successful', 'such', 'suck', 'sucked', 'sucking', 'sucksi', 'sucksusairwayssucks', 'suckwe', 'sudden', 'suddenintlcheckin', 'suddenly', 'sue', 'suffer', 'suffered', 'suffering', 'sufficiently', 'sugafly', 'sugar', 'suggest', 'suggested', 'suggesting', 'suggestion', 'suggests', 'suicide', 'suit', 'suitcase', 'suite', 'suitshirts', 'sukhdeep', 'sum1', 'summer', 'summit', 'sun', 'sunburn', 'sunday', 'sundayfunday', 'sundown', 'sunglass', 'sunkist', 'sunny', 'sunrise', 'sunscreen', 'sunset', 'sunshine', 'suntimes', 'suntoshi', 'super', 'superb', 'superben', 'superfast', 'superhero', 'superior', 'superstar', 'supertzar85', 'supervisor', 'superyan', 'supp', 'supply', 'support', 'supported', 'supporter', 'supporting', 'suppose', 'supposed', 'supposedly', 'suprise', 'supv', 'supvrs', 'supvsr', 'surat', 'surcharge', 'sure', 'suree', 'sureill', 'surely', 'surf', 'surfboard', 'surfboardbag', 'surfer', 'surgery', 'surgeryhelp', 'surliness', 'surly', 'surname', 'surprise', 'surprised', 'surprisingly', 'surreal', 'surrounding', 'survey', 'surveyemail', 'surveying', 'survive', 'susan', 'suspect', 'suspended', 'suuperg', 'suuuuper', 'sux', 'svc', 'svcs', 'svllindia', 'svu', 'sw', 'sw900001vyil1xklrog24fs918ja', 'swa', 'swa1004', 'swaculture', 'swadiversity', 'swag', 'swagglikebean', 'swair', 'swallowed', 'swamistake', 'swamped', 'swanky', 'swap', 'swapic', 'swapped', 'swapping', 'swas', 'sway', 'swear', 'sweat', 'sweatshirt', 'sweaty', 'sweep', 'sweepstakes', 'sweepstakesit', 'sweet', 'sweetheart', 'sweetingr', 'sweetmel', 'swell', 'swfan', 'swift', 'swimsuit', 'swindle', 'swing', 'swipe', 'swiss', 'switch', 'switch2sbux', 'switched', 'switching', 'switchingboth', 'swivel', 'swooped', 'swrr', 'swu', 'sxm', 'sxmclt', 'sxmgtjfk', 'sxsw', 'sxu', 'syastem', 'sydney', 'sydneyairport', 'sylvie', 'sylvie75015', 'sympathetic', 'sympathize', 'sympathy', 'sync', 'synch', 'synergy', 'synonymous', 'syr', 'syracuse', 'sys', 'syscon', 'system', 'systemic', 'systemsyouareonyourown', 'systemtransferred', 'systemwide', 'sytycd', 'são', 't', 't1', 't24', 't3', 't5', 't5sparrow', 'ta', 'tab', 'tabitha', 'table', 'tablet', 'tacky', 'tactic', 'tad', 'tag', 'tagged', 'tagging', 'tahiti', 'tail', 'tailfin', 'tailfinthursday', 'tailwind', 'taiwan', 'take', 'takemeback', 'takemehome', 'taken', 'takeoff', 'takeresponsibility', 'takerswe', 'taking', 'takingthistothetop', 'takr', 'talent', 'talk', 'talked', 'talking', 'talktoahuman', 'tallahassee', 'taller', 'tamara', 'tammy', 'tampa', 'tan', 'tandoori', 'tank', 'tanked', 'tanpa', 'tap', 'taping', 'tara', 'target', 'targeting', 'tarmac', 'tarmack', 'tarmacthanks', 'tarmat', 'tasha', 'taste', 'tasty', 'tatiana', 'tatianaking', 'tattoo', 'tax', 'taxi', 'taxiing', 'taxing', 'taxiway', 'taylor', 'taylorlumsden', 'taylormdowns', 'tb', 'tbd', 'tbt', 'tbuccherifrnc3e', 'tcf', 'tckt', 'tcmparty', 'tcunningham10', 'tea', 'teaampnot', 'teach', 'teaching', 'team', 'teamagain', 'teamim', 'teamit', 'teamnkh', 'teamspirit', 'teamtreehouse', 'teamusa', 'tear', 'tech', 'techcontd', 'technical', 'technically', 'technology', 'teco', 'ted', 'tedious', 'teeming', 'teen', 'teenager', 'teeth', 'tel', 'telaviv', 'telephone', 'teleportation', 'television', 'tell', 'telleveryone', 'telling', 'tellpurchase', 'tellyourstory', 'temorris2010hotmailcom', 'temp', 'temper', 'temperature', 'template', 'temporary', 'tempting', 'ten', 'tennetexan', 'tennis', 'tense', 'tent', 'tequila', 'term', 'terminal', 'terminology', 'terra', 'terri', 'terrible', 'terriblebeen', 'terriblecommunication', 'terriblecustomerservice', 'terribleno', 'terribleservice', 'terribly', 'terrific', 'terrifyingly', 'terror', 'terry', 'terrybrokebad', 'test', 'testing', 'texarkana', 'texas', 'texasisclosed', 'text', 'texted', 'texting', 'teyana', 'tf', 'tfgreenairport', 'tfw1', 'tgcyalate', 'tgif', 'th', 'thai', 'thaiairways', 'thailand', 'than', 'thank', 'thanked', 'thankful', 'thankfully', 'thankgoodness', 'thanking', 'thankjesus', 'thankme', 'thanks', 'thanksamericanairlines', 'thanksare', 'thanksdave', 'thanksdc', 'thanksjetblue', 'thanksm', 'thanksseat', 'thanksunited', 'thanku', 'thankyou', 'thankyouforeverything', 'thansk', 'thanx', 'that', 'thatbut', 'thatd', 'thatisall', 'thatlol', 'thats', 'thatthis', 'thaw', 'the', 'the15hours', 'the16', 'theacademy', 'theairhelper', 'thebachelor', 'thecandacesmith', 'thee', 'theellenshow', 'theend', 'thefaaonline', 'theflight', 'theft', 'thefutureisweird', 'thehaileytate', 'thehipmunk', 'their', 'thelodge', 'them', 'themagicalstranger', 'themed', 'themenofbusiness', 'themestimated', 'themhence', 'themon', 'then', 'thenatek', 'thenationaluae', 'thenewaa', 'thenewamerican', 'thepoopqueen', 'there', 'therealaviation', 'therefore', 'thereisafirstforeverything', 'therofo', 'these', 'thestarter', 'thetakeover', 'thete', 'thetroubadour', 'theuso', 'thevdt', 'theverge', 'thevery', 'thewayoftheid', 'theworst', 'theworstairline', 'theworstairlineever', 'they', 'theyareallbetter', 'theycouldatleastofferfreebooze', 'theyd', 'theydontanswer', 'theyll', 'theyre', 'theyve', 'thick', 'thickens', 'thief', 'thier', 'thin', 'thing', 'thingsishouldknow', 'thingsthe', 'thingsyoucantmakeup', 'thingunited', 'thingwill', 'think', 'thinkbus', 'thinkdo', 'thinking', 'thinkof', 'third', 'thirty', 'thirtylives', 'this', 'thisgreen', 'thisiscoach', 'thislinehasntmovedforanhour', 'thismosaicnothappy', 'thisor', 'thks', 'thng', 'thnk', 'thnkx', 'thnx', 'tho', 'thomas', 'those', 'though', 'thoughand', 'thought', 'thoughtful', 'thousand', 'thousandth', 'thre', 'thread', 'threat', 'threatened', 'threatening', 'threatens', 'three', 'threehourslate', 'threw', 'thrilled', 'thrombosis', 'throne', 'throug', 'throughout', 'throw', 'throwback', 'thrower', 'throwing', 'thrown', 'thru', 'thrueverything', 'tht', 'thu', 'thur', 'thurs', 'thursday', 'thus', 'thx', 'thxu', 'thy', 'ti2469', 'tia', 'tic', 'tick', 'ticked', 'ticket', 'ticket12', 'ticket12h', 'ticketed', 'ticketeven', 'tickethotel', 'ticketi', 'ticketing', 'ticketits', 'ticketnow', 'tickt', 'tiday', 'tide', 'tied', 'tier', 'tiffany', 'tiffanyandco', 'tifffyhuang', 'tight', 'tightconnection', 'tighter', 'tiks', 'til', 'till', 'till11', 'tilleymonsta', 'tim', 'timbennettg3', 'timbit', 'timco', 'time', 'time2switch', 'timeand', 'timed', 'timedout', 'timehave', 'timei', 'timejust', 'timeliness', 'timely', 'timemoney', 'timenot', 'timerest', 'timesampstill', 'timeseverytime', 'timeshand', 'timesomeone', 'timethatll', 'timezones', 'timieyancey', 'timing', 'tinaisback', 'tinder', 'tinderchamp', 'tindertips', 'tinman2ironman', 'tiny', 'tip', 'tire', 'tired', 'tiredampfrustrated', 'tiredofthis', 'tiredofwaiting', 'tisk', 'tissue', 'title', 'tix', 'tixs', 'tk', 'tke', 'tks', 'tkt', 'tkts', 'tlc', 'tld', 'tlh', 'tmadcle', 'tminus', 'tmm', 'tmobile', 'tmr', 'tmrw', 'tmw', 'tn', 'tnx', 'to', 'to1030', 'to4', 'toarrange', 'toby', 'tock', 'today', 'today12', 'todayall', 'todayat', 'todaychecked', 'todaygiving', 'todayno', 'todayrather', 'todaythis', 'todaytomorrow', 'todaywhats', 'toddler', 'toe', 'tofrom', 'together', 'toilet', 'toiletry', 'tok', 'token', 'tokyo', 'tokyomarathon2015', 'tokyonarita', 'told', 'toledo', 'tolerable', 'toll', 'tollfree', 'tom', 'tomo', 'tomoro', 'tomorro', 'tomorrow', 'tomorrowhelp', 'tomorrowplane', 'tomorrowwhy', 'tomorrowwould', 'tomrw', 'tomvh', 'ton', 'tone', 'tongueincheek', 'tonic', 'tonight', 'tonightgreat', 'tonightnot', 'tonite', 'tonne', 'tonysimsmma', 'too', 'took', 'tool', 'toolittletoolate', 'tooooo', 'toothpaste', 'top', 'topdown', 'topflight', 'toplay', 'topnews', 'tore', 'torileggieri', 'toronto', 'torture', 'tortured', 'tory', 'tos', 'toss', 'tossed', 'total', 'totaled', 'totalfail', 'totally', 'totallyconfused', 'tote', 'touch', 'touchdown', 'touched', 'touching', 'tough', 'toughtomakeplans', 'tour', 'tourist', 'touting', 'tovery', 'toward', 'towards', 'towed', 'tower', 'town', 'toyingwithouremotions', 'tpa', 'tpadfwaus', 'tpadfwlax', 'tpallini', 'trace', 'tracing', 'track', 'tracker', 'tracking', 'trade', 'trading', 'tradition', 'traditionally', 'traffic', 'trafficfuel', 'train', 'trained', 'training', 'transaction', 'transactional', 'transatlantic', 'transcontinental', 'transf', 'transfer', 'transferable', 'transferred', 'transferring', 'transformative', 'transit', 'transition', 'translation', 'transpacific', 'transparency', 'transparent', 'transpired', 'transport', 'transportation', 'transported', 'trap', 'trapped', 'trappedhouston', 'trash', 'trashy', 'travel', 'travelbank', 'traveled', 'traveler', 'travelfail', 'travelhelp', 'traveling', 'travelled', 'traveller', 'travelling', 'travelocity', 'traveloneworld', 'travelpoints', 'travelportland', 'travelproblems', 'travelpulse', 'travelpurchased', 'travelzoo', 'travis', 'travisamex', 'tray', 'trbl', 'treacherous', 'treasure', 'treat', 'treated', 'treating', 'treatment', 'tree', 'tremendous', 'tremendously', 'trend', 'trending', 'triage', 'trial', 'tribute', 'tricities', 'trick', 'trickling', 'tried', 'triedconsiderable', 'triedits', 'triflight', 'trip', 'tripadvisor', 'tripitpro', 'triple', 'tripnever', 'tripofalifetime', 'tripping', 'trite', 'trivia', 'trivialize', 'tropic', 'troubadour', 'trouble', 'troubleshoot', 'troubleshot', 'troubling', 'troy', 'tru', 'trublue', 'truck', 'true', 'trueblue', 'truebluecolors', 'truebluelove', 'truebluemember4life', 'truebluepoints', 'truly', 'trumping', 'trust', 'trusted', 'trustget', 'truth', 'truthful', 'truthh4', 'truutall', 'trvl', 'trvlno', 'trvlove', 'try', 'tryagain', 'tryin', 'trying', 'tryn', 'tryna', 'tryng', 'tsa', 'tsanightmare', 'tsapre', 'tsaprecheck', 'tshirt', 'tsk', 'tt', 'ttinac11', 'tu', 'tucking', 'tucson', 'tue', 'tues', 'tuesday', 'tuftsenergyconf', 'tug', 'tul', 'tuldal', 'tulsa', 'tulsanot', 'tumitravel', 'tummy', 'tuned', 'turbulence', 'turkish', 'turn', 'turnaround', 'turned', 'turning', 'turquoise', 'turrible', 'tus', 'tusdfw', 'tux', 'tv', 'tv4u', 'tvmovie', 'tvsmusic', 'twa', 'tweak', 'tweet', 'tweeted', 'tweeter', 'tweetin', 'tweeting', 'twelve', 'twenty', 'twice', 'twicegot', 'twiiter', 'twin', 'twist', 'twitter', 'twitterdm', 'twitteremailweb', 'twitterhug', 'twitterliterate', 'twitterz', 'two', 'twtr', 'tx', 'txfd', 'txt', 'txtemail', 'txting', 'ty', 'type', 'typical', 'typically', 'typing', 'typo', 'tyr', 'tys', 'tyspent', 'tysvm', 'tyvm', 'tywinter', 'u', 'ua', 'ua1002', 'ua1022', 'ua1023', 'ua1037', 'ua1059', 'ua1069', 'ua1088', 'ua1116', 'ua1118', 'ua1121', 'ua1127', 'ua1130', 'ua1150', 'ua1151', 'ua1157', 'ua1159', 'ua1207', 'ua125', 'ua1260', 'ua1266', 'ua1270', 'ua1297', 'ua14', 'ua1416', 'ua1429', 'ua1459', 'ua1469', 'ua1470', 'ua1481', 'ua1510', 'ua1516', 'ua1523', 'ua1532', 'ua1534', 'ua1543', 'ua1550', 'ua1564', 'ua1565', 'ua1566', 'ua1568', 'ua1589', 'ua1616', 'ua1619', 'ua1641', 'ua1665', 'ua1673', 'ua1724', 'ua1731', 'ua1740', 'ua1745', 'ua1758', 'ua1764', 'ua2066', 'ua22', 'ua23', 'ua230', 'ua246', 'ua252', 'ua26', 'ua276', 'ua304', 'ua3364', 'ua3388', 'ua3417', 'ua3426', 'ua343', 'ua3462', 'ua3466', 'ua3530', 'ua3576', 'ua3645', 'ua3659', 'ua3710', 'ua3728', 'ua3774', 'ua3782', 'ua3785', 'ua3787', 'ua381', 'ua3882', 'ua415', 'ua423', 'ua4232', 'ua4636', 'ua4646', 'ua4689', 'ua469', 'ua4727', 'ua475', 'ua4753', 'ua484', 'ua49', 'ua4904', 'ua4935', 'ua5', 'ua5025', 'ua5029', 'ua5037', 'ua507', 'ua5097', 'ua51', 'ua514', 'ua5168', 'ua5184', 'ua5282', 'ua5396', 'ua5525', 'ua5631', 'ua57', 'ua6', 'ua6002', 'ua6016053916', 'ua6076', 'ua6136', 'ua6194', 'ua6255', 'ua6259', 'ua63', 'ua6318', 'ua6357', 'ua6366', 'ua6465', 'ua647', 'ua649', 'ua688', 'ua748', 'ua761', 'ua768', 'ua795', 'ua7985', 'ua80', 'ua82', 'ua862', 'ua863', 'ua871', 'ua895', 'ua90', 'ua922', 'ua936', 'ua938', 'ua978', 'ua992', 'ua994', 'ual', 'ual212', 'uals', 'uas', 'ubergizmo', 'ubetter', 'uctraveladvisor', 'ud', 'udub', 'uggh', 'ugh', 'uh', 'uhi', 'uhmmm', 'uhuhgroup', 'uk', 'ultimately', 'um', 'umm', 'ummmm', 'umosaicmecrazy', 'ump', 'umpteen', 'un', 'unable', 'unacceptable', 'unacceptablei', 'unaccomidating', 'unaccommodating', 'unaccompanied', 'unaccounted', 'unaccpetable', 'unamerican', 'unamericanairlines', 'unannounced', 'unanswered', 'unansweredquestions', 'unanticipated', 'unapologetic', 'unavailable', 'unavailableto', 'unavoidable', 'unaware', 'unbalanced', 'unbelieavle', 'unbelievable', 'unbelievably', 'uncalled', 'uncaring', 'uncertainty', 'uncharacteristic', 'uncle', 'unclear', 'uncomfortable', 'uncompromising', 'unconscionable', 'uncontrollable', 'uncontrollably', 'uncool', 'uncourteous', 'uncvsduke', 'und', 'undefined', 'undelay', 'undelayed', 'undergoing', 'undermines', 'understaffed', 'understaffing', 'understand', 'understandable', 'understandably', 'understanding', 'understands', 'understatement', 'understood', 'underway', 'underweight', 'undetermined', 'undies', 'undignified', 'undone', 'undrstnd', 'undue', 'uneducated', 'unempathetic', 'unemployment', 'uneventful', 'unexpactable', 'unexpected', 'unexplained', 'unfair', 'unfamiliar', 'unfold', 'unfollow', 'unfollowing', 'unforeseeable', 'unfortunate', 'unfortunately', 'unfriendly', 'unfriendlyskies', 'unhappy', 'unhappycustomer', 'unhappyspend', 'unhappytraveler', 'unheard', 'unhelpful', 'unhelpfulness', 'uniform', 'unimpressed', 'uninformed', 'united13', 'united1k', 'unitedagainstunited', 'unitedairline', 'unitedairlines', 'unitedairlinessuck', 'unitedairlinessucks', 'unitedairlinessux', 'unitedappeals', 'unitedbreaksguitars', 'uniteddo', 'unitedexcited', 'unitedfail', 'unitedfailsworsttripofmylife', 'unitedfirst', 'unitedflyerhd', 'unitedgt', 'unitedhatesusall', 'unitedlies', 'unitedrebooked', 'uniteds', 'unitedsucks', 'unitedsucksdick', 'unitedthats', 'unitedunimpressed', 'unitedvusa', 'unitedwithivy', 'unitedworstever', 'universally', 'universalorl', 'university', 'unknowledgeable', 'unknown', 'unless', 'unlike', 'unlikely', 'unload', 'unloaded', 'unloading', 'unloads', 'unlucky', 'unmanned', 'unmet', 'unmissable', 'unmonitored', 'unmoving', 'unnecessarily', 'unnecessary', 'unnerving', 'unnoticed', 'unobaseball', 'unorganized', 'unplanned', 'unpleasant', 'unpleased', 'unprecedented', 'unpredictable', 'unprepared', 'unproductive', 'unprofessional', 'unprofessionalism', 'unprofessionally', 'unreachable', 'unreal', 'unrealistic', 'unreasonable', 'unrelate', 'unreliable', 'unresolved', 'unrivalled', 'unsafe', 'unsat', 'unscheduled', 'unsecured', 'unserved', 'unserviceable', 'unsettling', 'unsmiling', 'unsolicited', 'unspecified', 'unsuccessful', 'unsuitable', 'unsure', 'unsympathetic', 'unt', 'untd', 'untrained', 'untrue', 'untruthful', 'untz', 'untzlike', 'unusable', 'unused', 'unusual', 'unveils', 'unwilling', 'unwind', 'unwise', 'up', 'upc', 'upcoming', 'update', 'updated', 'updateyourwebsite', 'updating', 'upfare', 'upgd', 'upgrade', 'upgraded', 'upgrademe', 'upgrading', 'upgrd', 'uphelp', 'uphold', 'upholding', 'upin', 'upinairclaire', 'uplink', 'upload', 'upon', 'uppp', 'ups', 'upsellladen', 'upset', 'upsetting', 'upsmh', 'upstate', 'upwherewebelong', 'ur', 'urged', 'urgency', 'urgent', 'urgently', 'urgentlyget', 'us', 'us1562', 'us1765', 'us1799', 'us1937', 'us1951us874do', 'us2065', 'us2118', 'us2146', 'us2218', 'us3645', 'us3825', 'us4485', 'us4551', 'us4623', 'us5235', 'us5268', 'us558', 'us624', 'us626', 'us628', 'us643', 'us651621', 'us728', 'us733', 'us755aa2595', 'us84', 'usa', 'usaa', 'usable', 'usage', 'usair', 'usair4603', 'usaireays', 'usairheads', 'usairsucks', 'usairway', 'usairways', 'usairwayscenter', 'usairwaysfail', 'usairwaysfailscustomers', 'usairwaysfflyer', 'usairwaysssuck', 'usairwayssuck', 'usairwayssucks', 'usairwis', 'usaiways', 'usatoday', 'usatodaytravel', 'usaw', 'usb', 'uschamber', 'usd', 'usdelayways', 'use', 'useable', 'used', 'useful', 'useles', 'useless', 'useopen', 'user', 'username', 'userperceived', 'usexpresspsa', 'using', 'usingthisword', 'usnavy', 'usual', 'usually', 'usuck', 'usurious', 'usvi', 'usxlon', 'utah', 'utdallas', 'ute', 'utevgw', 'utilize', 'utmost', 'utterly', 'uvf', 'uwont', 'ux', 'v', 'va', 'va370', 'vabeatsjblue', 'vaca', 'vacancy', 'vacate', 'vacatime', 'vacatinn', 'vacation', 'vacationing', 'vacay', 'vague', 'vaileagle', 'vainglorygame', 'valentine', 'valentinesday', 'valet', 'valid', 'validity', 'vallarta', 'valley', 'valuable', 'value', 'valued', 'valuing', 'van', 'vancouver', 'vanessaannz', 'vanished', 'vanity', 'vape', 'various', 'vary', 'vastly', 'vcp', 'vday', 'veers', 'veg', 'vega', 'vegan', 'vegaschicago', 'vegecomgirl', 'vegetarian', 'vegetarianproblems', 'veggie', 'vein', 'velcro', 'velour', 'velourlive', 'vendor', 'venetia', 'venezuela', 'vent', 'ventilation', 'venture', 'verbal', 'verbally', 'verbiage', 'verification', 'verified', 'verifies', 'verify', 'verizonwireless', 'vermont', 'versa', 'versace', 'version', 'versus', 'very', 'veryimportantproject', 'veryloyalcustomer', 'vet', 'veteran', 'vetr', 'via', 'viable', 'vibe', 'vibrant', 'vice', 'vicky', 'victim', 'victoria', 'vida', 'video', 'vieques', 'view', 'vile', 'village', 'vincenzolandino', 'vincesviews', 'vindictivetk', 'vineyard', 'vino', 'vinyl', 'vinylvegas', 'violation', 'vip', 'vipliveinthevieyard', 'vipswagbags', 'viracopos', 'viraltech', 'virgin', 'virginamericayouve', 'virginatlantic', 'virginia', 'virtual', 'virtually', 'virus', 'visa', 'visible', 'visibly', 'vision', 'visit', 'visiting', 'visor', 'vital', 'vitaminwater', 'vm', 'vmail', 'vmsgyour', 'vocab', 'vodkatonics', 'voice', 'voicemail', 'voided', 'volkswagen', 'volleyball', 'volt', 'volume', 'volumecan', 'voluntarily', 'volunteer', 'vomit', 'vomited', 'vote', 'voted', 'voucher', 'vouchercompensation', 'voucherconfirmation', 'voucherhotel', 'vouchermiles', 'voucherno', 'vouchersno', 'vow', 'vp', 'vrm', 'vt', 'vuelo24es', 'vuelos24es', 'vulnerable', 'vusaaustralia', 'vx', 'vx358', 'vx363', 'vx399', 'vx413', 'vx919', 'vxsafetydance', 'vía', 'w', 'w19', 'w2', 'w25', 'w3', 'w40', 'w45', 'w4840', 'w8', 'wa', 'waa', 'waaaaaaiting', 'wack', 'wage', 'wager', 'wah', 'waif', 'wailing', 'wait', 'waitabout', 'waited', 'waitin', 'waiting', 'waitingagain', 'waitingcan', 'waitinginphilly', 'waitingonapilot', 'waitingsince', 'waitingso', 'waitingyou', 'waitlisted', 'waitlol', 'waitstill', 'waive', 'waive200fee', 'waived', 'waiver', 'waiverskeep', 'waivethefee', 'waiving', 'wake', 'waking', 'wakinginmemphis', 'waldorf', 'walk', 'walkaround', 'walked', 'walking', 'walkway', 'wall', 'wallet', 'walls29', 'wallstreet', 'wallstslumlord', 'walmart', 'waltdisneyworld', 'walton', 'wamo66', 'wampb', 'wandered', 'wanna', 'wannaa', 'wannagohome', 'want', 'wantcharge', 'wanted', 'wanting', 'wantmymoneyback', 'wantvirginamerica', 'warehouse', 'warm', 'warmer', 'warmest', 'warmth', 'warmweather', 'warn', 'warning', 'warrant', 'warrior', 'wasappreciated', 'washington', 'washingtondc', 'wasnt', 'waspaid', 'waste', 'wasted', 'wastedeffort', 'wastedtime', 'wasteoftime', 'wasting', 'wat', 'watch', 'watched', 'watching', 'water', 'waterbury', 'watered', 'wating', 'watson', 'wave', 'waved', 'way', 'waybig', 'wayi', 'wayne', 'waynot', 'waysilverairwsys', 'wayway', 'wbroken', 'wbuses', 'wc', 'wcancelled', 'wclass', 'wcomm', 'wcompanies', 'wcomputer', 'wconnection', 'wcustomer', 'wcx', 'wd', 'wd40', 'wdeicingthree', 'wdelays', 'wdw', 'we', 'weak', 'weakservice', 'weaktea', 'weappreciateyou', 'wear', 'wearing', 'weary', 'weasel', 'weather', 'weatherbackup', 'weatherbut', 'weathered', 'weatherflight', 'weatherhere', 'weatherless', 'weatherrelate', 'web', 'webbernaturals', 'weblink', 'webpage', 'website', 'wed', 'wedding', 'wednesday', 'wedontcarebecauseyoupaidalready', 'wee', 'week', 'weekampinbound', 'weekday', 'weekend', 'weekly', 'weeklycommuteonaa', 'weekmakes', 'weeksampthose', 'weekthats', 'weepysweetmonty', 'weigh', 'weighed', 'weighing', 'weighs', 'weight', 'weird', 'welcome', 'welcomed', 'welcoming', 'welfare', 'well', 'wellbeing', 'welldone', 'wellen', 'welllllll', 'wellmy', 'wellplayed', 'wellpriced', 'welp', 'wemosaictogether', 'wen', 'wendell', 'wendi', 'went', 'wentook3', 'were', 'werenot', 'werenotincalianymore', 'werent', 'wererunning', 'werin', 'wernicke', 'wervirgin', 'west', 'westagard', 'westchester', 'western', 'westjet', 'westpalmbeach', 'westpalmbeachbound', 'wet', 'wether', 'weve', 'wewantcomps', 'wewanttoknow', 'wewillsee', 'weyburn', 'wfares', 'wflights', 'whacked', 'whammie', 'what', 'whatacluster', 'whatajoke', 'whatcustomerservice', 'whatd', 'whatever', 'whatfrozenpipes', 'whatgives', 'whathappend', 'whats', 'whatsoever', 'whatstatus', 'whatstheholdup', 'whch', 'wheel', 'wheelchair', 'wheelsup', 'wheeze', 'when', 'whenever', 'whenitsnowsitpours', 'whens', 'where', 'whereabouts', 'whereas', 'whereby', 'whereismybag', 'whereisthelove', 'wheres', 'wheresmybag', 'wheresmyrefund', 'wheresthecustomerserviceat', 'wheresthepilot', 'whether', 'which', 'whichever', 'whichisworsedenordfw', 'while', 'whilst', 'whining', 'whiny', 'whiplash', 'whipped', 'whiskey', 'whisper', 'whispering', 'white', 'whitterbug', 'who', 'whoa', 'whod', 'whoever', 'whole', 'wholly', 'whoooo', 'whoot', 'whose', 'whrsthecoach', 'wht', 'why', 'whyabcwhy', 'whyairtravelsucks', 'whyany', 'whyareyouyelling', 'whybeaaff', 'whydidntiflysouthwest', 'whyfly', 'whyisusairalwaysdelayed', 'whyjeff', 'whyso', 'whyyounoloveme', 'whyyy', 'wichita', 'wide', 'wiedersehen', 'wife', 'wifey', 'wifi', 'wifiand', 'wifihotel', 'wifiless', 'wifimissed', 'wig', 'wiggle', 'wiil', 'wikipearl', 'wilco', 'will', 'will1531', 'williams', 'willie', 'willing', 'willl', 'willmake', 'willneverflywithyou', 'willsunday', 'wilmington', 'wilson', 'win', 'winclement', 'wind', 'windchill', 'window', 'windy', 'wine', 'wing', 'wink', 'winkwink', 'winner', 'winning', 'winnipeg', 'winston', 'winstonsalem', 'winter', 'winterops', 'winterstorm', 'winterstorm2015', 'winterweather', 'winwin', 'wipe', 'wiped', 'wire', 'wired', 'wireless', 'wise', 'wiser', 'wish', 'wishing', 'wishmyflightwaslonger', 'wit', 'with', 'withheld', 'within', 'without', 'witness', 'witnessed', 'witty', 'wiyh', 'wjere', 'wk', 'wkhttptcojvj73zza4a', 'wkids', 'wknd', 'wkrb', 'wks', 'wlcm', 'wld', 'wlil', 'wmass', 'wmcactionnews5', 'wmiles', 'wmn4lifehotmailcom', 'wmom', 'wmy', 'wn3946', 'wn4287', 'wno', 'wnonworking', 'wnothing', 'wo', 'woase2015', 'woaw', 'woeful', 'woke', 'woman', 'wonder', 'wondered', 'wonderful', 'wonderfully', 'wondering', 'wonderingirritated', 'wong', 'wonked', 'wont', 'wontflyagainwithyou', 'woo', 'woodland', 'woody', 'woof', 'woohoo', 'wopen', 'word', 'worded', 'wore', 'work', 'workaround', 'worked', 'workednot', 'worker', 'workersinstead', 'workforce', 'workhard', 'workin', 'working', 'workingfamily', 'workng', 'worknogood', 'workout', 'worksnicely', 'world', 'world8', 'worldhungry', 'worldwide', 'worm', 'worn', 'worried', 'worrisome', 'worry', 'worrying', 'worse', 'worseas', 'worseoh', 'worst', 'worst2unitedflightsever', 'worstairline', 'worstairlineever', 'worstairlineinamerica', 'worstcustomerservice', 'worstcustomerserviceever', 'worstcustservice', 'worstever', 'worstflight', 'worstflightever', 'worstflightexperienceever', 'worstnever', 'worstservice', 'worstthingever', 'worsttraveldayever', 'worth', 'worthless', 'worthy', 'wother', 'wothers', 'would', 'woulda', 'wouldbe', 'wouldhow', 'wouldnt', 'wouldt', 'wouldve', 'wounded', 'wour', 'wout', 'woven', 'wow', 'wowd', 'wowthx', 'wpg', 'wproj', 'wrap', 'wrath', 'wreck', 'wrecked', 'wrecking', 'wrench', 'wreservations', 'wresos', 'wrestle', 'wretched', 'write', 'writer', 'writes', 'writing', 'written', 'wrong', 'wronganswer', 'wrongfully', 'wrongiswrong', 'wrote', 'wsj', 'wsjplus', 'wsmall', 'wsomeone', 'wsupervisor', 'wtf', 'wtfodds', 'wth', 'wthat', 'wthe', 'wthem', 'wthis', 'wtop', 'wtw', 'wu', 'wudda', 'wupgrade', 'wut', 'wway', 'wx', 'wylie', 'wyoming', 'wyou', 'x', 'x2', 'xd', 'xfinity', 'xld', 'xm', 'xmas', 'xna', 'xox', 'xoxo', 'xt', 'xtra', 'xw', 'xx', 'xxx', 'xzmscw', 'y', 'ya', 'yaayy', 'yaffasolin', 'yall', 'yard', 'yasss', 'yasssss', 'yay', 'yayayay', 'yday', 'yea', 'yeah', 'year', 'yearly', 'yearround', 'yeehaw', 'yell', 'yelled', 'yelling', 'yellow', 'yeniettelswood', 'yep', 'yepfiled', 'yer', 'yes', 'yeseniahernandez', 'yesnot', 'yessir', 'yesso', 'yest', 'yesterday', 'yesterdayrubber', 'yestwicefor', 'yet', 'yhzewr', 'yield', 'yikes', 'yo', 'yoga', 'yogurt', 'york', 'yorkshire2002', 'you', 'you3860', 'youareonyourown', 'youbag', 'youcandobetter', 'youcouldntmakethis', 'youd', 'youdidit', 'youdo', 'youi', 'youknowyouwantto', 'youll', 'young', 'younger', 'your', 'youragentshavenoclue', 'yourairlinesucks', 'youre', 'youredoingitwrong', 'youretheworst', 'yourlocalnyer', 'yourock', 'yourphonesystemsucks', 'yourstoryhere', 'yousuck', 'yout', 'youth', 'youto', 'youve', 'youyou', 'yow', 'yponthebeat', 'ypu', 'yr', 'ystday', 'ystrdy', 'yuck', 'yucki', 'yulord', 'yuma', 'yummy', 'yup', 'yvonne', 'yvonneokaka', 'yvr', 'yxe', 'yxu', 'yyc', 'yyj', 'yyz', 'yyzua70435', 'z', 'z1', 'zabsonre', 'zackscom', 'zakkohane', 'zambia', 'zcc82u', 'zero', 'zfv', 'zigzagging', 'zip', 'zipper', 'zj76', 'zkatcher', 'zombie', 'zone', 'zoom', 'zrh', 'zrhairport', 'zukes', 'zurich', 'zurichnew', 'ʖ']\n"
     ]
    }
   ],
   "source": [
    "from sklearn.feature_extraction.text import TfidfVectorizer\n",
    "\n",
    "tfidf_vect = TfidfVectorizer(analyzer=clean_text)\n",
    "X_tfidf = tfidf_vect.fit_transform(a['text'])\n",
    "print(X_tfidf.shape)\n",
    "print(tfidf_vect.get_feature_names())"
   ]
  },
  {
   "cell_type": "code",
   "execution_count": 33,
   "metadata": {},
   "outputs": [
    {
     "data": {
      "text/html": [
       "<div>\n",
       "<style scoped>\n",
       "    .dataframe tbody tr th:only-of-type {\n",
       "        vertical-align: middle;\n",
       "    }\n",
       "\n",
       "    .dataframe tbody tr th {\n",
       "        vertical-align: top;\n",
       "    }\n",
       "\n",
       "    .dataframe thead th {\n",
       "        text-align: right;\n",
       "    }\n",
       "</style>\n",
       "<table border=\"1\" class=\"dataframe\">\n",
       "  <thead>\n",
       "    <tr style=\"text-align: right;\">\n",
       "      <th></th>\n",
       "      <th></th>\n",
       "      <th>0</th>\n",
       "      <th>00</th>\n",
       "      <th>0011</th>\n",
       "      <th>0016</th>\n",
       "      <th>006</th>\n",
       "      <th>0162389030167</th>\n",
       "      <th>0162424965446</th>\n",
       "      <th>0162431184663</th>\n",
       "      <th>0167560070877</th>\n",
       "      <th>...</th>\n",
       "      <th>zkatcher</th>\n",
       "      <th>zombie</th>\n",
       "      <th>zone</th>\n",
       "      <th>zoom</th>\n",
       "      <th>zrh</th>\n",
       "      <th>zrhairport</th>\n",
       "      <th>zukes</th>\n",
       "      <th>zurich</th>\n",
       "      <th>zurichnew</th>\n",
       "      <th>ʖ</th>\n",
       "    </tr>\n",
       "  </thead>\n",
       "  <tbody>\n",
       "    <tr>\n",
       "      <th>0</th>\n",
       "      <td>0.0</td>\n",
       "      <td>0.0</td>\n",
       "      <td>0.0</td>\n",
       "      <td>0.0</td>\n",
       "      <td>0.0</td>\n",
       "      <td>0.0</td>\n",
       "      <td>0.0</td>\n",
       "      <td>0.0</td>\n",
       "      <td>0.0</td>\n",
       "      <td>0.0</td>\n",
       "      <td>...</td>\n",
       "      <td>0.0</td>\n",
       "      <td>0.0</td>\n",
       "      <td>0.0</td>\n",
       "      <td>0.0</td>\n",
       "      <td>0.0</td>\n",
       "      <td>0.0</td>\n",
       "      <td>0.0</td>\n",
       "      <td>0.0</td>\n",
       "      <td>0.0</td>\n",
       "      <td>0.0</td>\n",
       "    </tr>\n",
       "    <tr>\n",
       "      <th>1</th>\n",
       "      <td>0.0</td>\n",
       "      <td>0.0</td>\n",
       "      <td>0.0</td>\n",
       "      <td>0.0</td>\n",
       "      <td>0.0</td>\n",
       "      <td>0.0</td>\n",
       "      <td>0.0</td>\n",
       "      <td>0.0</td>\n",
       "      <td>0.0</td>\n",
       "      <td>0.0</td>\n",
       "      <td>...</td>\n",
       "      <td>0.0</td>\n",
       "      <td>0.0</td>\n",
       "      <td>0.0</td>\n",
       "      <td>0.0</td>\n",
       "      <td>0.0</td>\n",
       "      <td>0.0</td>\n",
       "      <td>0.0</td>\n",
       "      <td>0.0</td>\n",
       "      <td>0.0</td>\n",
       "      <td>0.0</td>\n",
       "    </tr>\n",
       "    <tr>\n",
       "      <th>2</th>\n",
       "      <td>0.0</td>\n",
       "      <td>0.0</td>\n",
       "      <td>0.0</td>\n",
       "      <td>0.0</td>\n",
       "      <td>0.0</td>\n",
       "      <td>0.0</td>\n",
       "      <td>0.0</td>\n",
       "      <td>0.0</td>\n",
       "      <td>0.0</td>\n",
       "      <td>0.0</td>\n",
       "      <td>...</td>\n",
       "      <td>0.0</td>\n",
       "      <td>0.0</td>\n",
       "      <td>0.0</td>\n",
       "      <td>0.0</td>\n",
       "      <td>0.0</td>\n",
       "      <td>0.0</td>\n",
       "      <td>0.0</td>\n",
       "      <td>0.0</td>\n",
       "      <td>0.0</td>\n",
       "      <td>0.0</td>\n",
       "    </tr>\n",
       "    <tr>\n",
       "      <th>3</th>\n",
       "      <td>0.0</td>\n",
       "      <td>0.0</td>\n",
       "      <td>0.0</td>\n",
       "      <td>0.0</td>\n",
       "      <td>0.0</td>\n",
       "      <td>0.0</td>\n",
       "      <td>0.0</td>\n",
       "      <td>0.0</td>\n",
       "      <td>0.0</td>\n",
       "      <td>0.0</td>\n",
       "      <td>...</td>\n",
       "      <td>0.0</td>\n",
       "      <td>0.0</td>\n",
       "      <td>0.0</td>\n",
       "      <td>0.0</td>\n",
       "      <td>0.0</td>\n",
       "      <td>0.0</td>\n",
       "      <td>0.0</td>\n",
       "      <td>0.0</td>\n",
       "      <td>0.0</td>\n",
       "      <td>0.0</td>\n",
       "    </tr>\n",
       "    <tr>\n",
       "      <th>4</th>\n",
       "      <td>0.0</td>\n",
       "      <td>0.0</td>\n",
       "      <td>0.0</td>\n",
       "      <td>0.0</td>\n",
       "      <td>0.0</td>\n",
       "      <td>0.0</td>\n",
       "      <td>0.0</td>\n",
       "      <td>0.0</td>\n",
       "      <td>0.0</td>\n",
       "      <td>0.0</td>\n",
       "      <td>...</td>\n",
       "      <td>0.0</td>\n",
       "      <td>0.0</td>\n",
       "      <td>0.0</td>\n",
       "      <td>0.0</td>\n",
       "      <td>0.0</td>\n",
       "      <td>0.0</td>\n",
       "      <td>0.0</td>\n",
       "      <td>0.0</td>\n",
       "      <td>0.0</td>\n",
       "      <td>0.0</td>\n",
       "    </tr>\n",
       "  </tbody>\n",
       "</table>\n",
       "<p>5 rows × 15690 columns</p>\n",
       "</div>"
      ],
      "text/plain": [
       "          0   00  0011  0016  006  0162389030167  0162424965446  \\\n",
       "0  0.0  0.0  0.0   0.0   0.0  0.0            0.0            0.0   \n",
       "1  0.0  0.0  0.0   0.0   0.0  0.0            0.0            0.0   \n",
       "2  0.0  0.0  0.0   0.0   0.0  0.0            0.0            0.0   \n",
       "3  0.0  0.0  0.0   0.0   0.0  0.0            0.0            0.0   \n",
       "4  0.0  0.0  0.0   0.0   0.0  0.0            0.0            0.0   \n",
       "\n",
       "   0162431184663  0167560070877 ...   zkatcher  zombie  zone  zoom  zrh  \\\n",
       "0            0.0            0.0 ...        0.0     0.0   0.0   0.0  0.0   \n",
       "1            0.0            0.0 ...        0.0     0.0   0.0   0.0  0.0   \n",
       "2            0.0            0.0 ...        0.0     0.0   0.0   0.0  0.0   \n",
       "3            0.0            0.0 ...        0.0     0.0   0.0   0.0  0.0   \n",
       "4            0.0            0.0 ...        0.0     0.0   0.0   0.0  0.0   \n",
       "\n",
       "   zrhairport  zukes  zurich  zurichnew    ʖ  \n",
       "0         0.0    0.0     0.0        0.0  0.0  \n",
       "1         0.0    0.0     0.0        0.0  0.0  \n",
       "2         0.0    0.0     0.0        0.0  0.0  \n",
       "3         0.0    0.0     0.0        0.0  0.0  \n",
       "4         0.0    0.0     0.0        0.0  0.0  \n",
       "\n",
       "[5 rows x 15690 columns]"
      ]
     },
     "execution_count": 33,
     "metadata": {},
     "output_type": "execute_result"
    }
   ],
   "source": [
    "X_tfidf_df = pd.DataFrame(X_tfidf.toarray())\n",
    "X_tfidf_df.columns = tfidf_vect.get_feature_names()\n",
    "X_tfidf_df.head()"
   ]
  },
  {
   "cell_type": "code",
   "execution_count": 34,
   "metadata": {},
   "outputs": [],
   "source": [
    "#feature engineering"
   ]
  },
  {
   "cell_type": "code",
   "execution_count": 35,
   "metadata": {},
   "outputs": [
    {
     "data": {
      "text/html": [
       "<div>\n",
       "<style scoped>\n",
       "    .dataframe tbody tr th:only-of-type {\n",
       "        vertical-align: middle;\n",
       "    }\n",
       "\n",
       "    .dataframe tbody tr th {\n",
       "        vertical-align: top;\n",
       "    }\n",
       "\n",
       "    .dataframe thead th {\n",
       "        text-align: right;\n",
       "    }\n",
       "</style>\n",
       "<table border=\"1\" class=\"dataframe\">\n",
       "  <thead>\n",
       "    <tr style=\"text-align: right;\">\n",
       "      <th></th>\n",
       "      <th>airline_sentiment</th>\n",
       "      <th>negativereason</th>\n",
       "      <th>airline</th>\n",
       "      <th>text</th>\n",
       "      <th>tweet_coord</th>\n",
       "      <th>tweet_created</th>\n",
       "      <th>user_timezone</th>\n",
       "      <th>senti_confi</th>\n",
       "      <th>nega_confi</th>\n",
       "      <th>body_len</th>\n",
       "      <th>punct%</th>\n",
       "    </tr>\n",
       "  </thead>\n",
       "  <tbody>\n",
       "    <tr>\n",
       "      <th>0</th>\n",
       "      <td>neutral</td>\n",
       "      <td>NaN</td>\n",
       "      <td>Virgin America</td>\n",
       "      <td>@VirginAmerica What @dhepburn said.</td>\n",
       "      <td>NaN</td>\n",
       "      <td>2015-02-24 11:35:52 -0800</td>\n",
       "      <td>Eastern Time (US &amp; Canada)</td>\n",
       "      <td>high</td>\n",
       "      <td>NaN</td>\n",
       "      <td>32</td>\n",
       "      <td>9.4</td>\n",
       "    </tr>\n",
       "    <tr>\n",
       "      <th>1</th>\n",
       "      <td>positive</td>\n",
       "      <td>NaN</td>\n",
       "      <td>Virgin America</td>\n",
       "      <td>@VirginAmerica plus you've added commercials t...</td>\n",
       "      <td>NaN</td>\n",
       "      <td>2015-02-24 11:15:59 -0800</td>\n",
       "      <td>Pacific Time (US &amp; Canada)</td>\n",
       "      <td>low</td>\n",
       "      <td>NaN</td>\n",
       "      <td>64</td>\n",
       "      <td>9.4</td>\n",
       "    </tr>\n",
       "    <tr>\n",
       "      <th>2</th>\n",
       "      <td>neutral</td>\n",
       "      <td>NaN</td>\n",
       "      <td>Virgin America</td>\n",
       "      <td>@VirginAmerica I didn't today... Must mean I n...</td>\n",
       "      <td>NaN</td>\n",
       "      <td>2015-02-24 11:15:48 -0800</td>\n",
       "      <td>Central Time (US &amp; Canada)</td>\n",
       "      <td>average</td>\n",
       "      <td>NaN</td>\n",
       "      <td>60</td>\n",
       "      <td>10.0</td>\n",
       "    </tr>\n",
       "    <tr>\n",
       "      <th>3</th>\n",
       "      <td>negative</td>\n",
       "      <td>Bad Flight</td>\n",
       "      <td>Virgin America</td>\n",
       "      <td>@VirginAmerica it's really aggressive to blast...</td>\n",
       "      <td>NaN</td>\n",
       "      <td>2015-02-24 11:15:36 -0800</td>\n",
       "      <td>Pacific Time (US &amp; Canada)</td>\n",
       "      <td>high</td>\n",
       "      <td>high</td>\n",
       "      <td>110</td>\n",
       "      <td>6.4</td>\n",
       "    </tr>\n",
       "    <tr>\n",
       "      <th>4</th>\n",
       "      <td>negative</td>\n",
       "      <td>Can't Tell</td>\n",
       "      <td>Virgin America</td>\n",
       "      <td>@VirginAmerica and it's a really big bad thing...</td>\n",
       "      <td>NaN</td>\n",
       "      <td>2015-02-24 11:14:45 -0800</td>\n",
       "      <td>Pacific Time (US &amp; Canada)</td>\n",
       "      <td>high</td>\n",
       "      <td>high</td>\n",
       "      <td>46</td>\n",
       "      <td>4.3</td>\n",
       "    </tr>\n",
       "  </tbody>\n",
       "</table>\n",
       "</div>"
      ],
      "text/plain": [
       "  airline_sentiment negativereason         airline  \\\n",
       "0           neutral            NaN  Virgin America   \n",
       "1          positive            NaN  Virgin America   \n",
       "2           neutral            NaN  Virgin America   \n",
       "3          negative     Bad Flight  Virgin America   \n",
       "4          negative     Can't Tell  Virgin America   \n",
       "\n",
       "                                                text tweet_coord  \\\n",
       "0                @VirginAmerica What @dhepburn said.         NaN   \n",
       "1  @VirginAmerica plus you've added commercials t...         NaN   \n",
       "2  @VirginAmerica I didn't today... Must mean I n...         NaN   \n",
       "3  @VirginAmerica it's really aggressive to blast...         NaN   \n",
       "4  @VirginAmerica and it's a really big bad thing...         NaN   \n",
       "\n",
       "               tweet_created               user_timezone senti_confi  \\\n",
       "0  2015-02-24 11:35:52 -0800  Eastern Time (US & Canada)        high   \n",
       "1  2015-02-24 11:15:59 -0800  Pacific Time (US & Canada)         low   \n",
       "2  2015-02-24 11:15:48 -0800  Central Time (US & Canada)     average   \n",
       "3  2015-02-24 11:15:36 -0800  Pacific Time (US & Canada)        high   \n",
       "4  2015-02-24 11:14:45 -0800  Pacific Time (US & Canada)        high   \n",
       "\n",
       "  nega_confi  body_len  punct%  \n",
       "0        NaN        32     9.4  \n",
       "1        NaN        64     9.4  \n",
       "2        NaN        60    10.0  \n",
       "3       high       110     6.4  \n",
       "4       high        46     4.3  "
      ]
     },
     "execution_count": 35,
     "metadata": {},
     "output_type": "execute_result"
    }
   ],
   "source": [
    "import string\n",
    "\n",
    "def count_punct(text):\n",
    "    count = sum([1 for char in text if char in string.punctuation])\n",
    "    return round(count/(len(text) - text.count(\" \")), 3)*100\n",
    "\n",
    "a['body_len'] = a['text'].apply(lambda x: len(x) - x.count(\" \"))\n",
    "a['punct%'] = a['text'].apply(lambda x: count_punct(x))\n",
    "a.head()"
   ]
  },
  {
   "cell_type": "code",
   "execution_count": 36,
   "metadata": {},
   "outputs": [],
   "source": [
    "from matplotlib import pyplot\n",
    "import numpy as np\n",
    "%matplotlib inline"
   ]
  },
  {
   "cell_type": "code",
   "execution_count": 37,
   "metadata": {},
   "outputs": [
    {
     "data": {
      "image/png": "[encoded data removed]",
      "text/plain": [
       "<Figure size 432x288 with 1 Axes>"
      ]
     },
     "metadata": {},
     "output_type": "display_data"
    }
   ],
   "source": [
    "bins = np.linspace(0, 150, 10)\n",
    "pyplot.hist(a['body_len'], bins)\n",
    "pyplot.title(\"Body Length Distribution\")\n",
    "pyplot.show()"
   ]
  },
  {
   "cell_type": "code",
   "execution_count": 38,
   "metadata": {},
   "outputs": [
    {
     "data": {
      "image/png": "[encoded data removed]",
      "text/plain": [
       "<Figure size 432x288 with 1 Axes>"
      ]
     },
     "metadata": {},
     "output_type": "display_data"
    }
   ],
   "source": [
    "bins = np.linspace(0, 30, 10)\n",
    "\n",
    "pyplot.hist(a['punct%'], bins)\n",
    "pyplot.title(\"Punctuation % Distribution\")\n",
    "pyplot.show()"
   ]
  },
  {
   "cell_type": "code",
   "execution_count": 39,
   "metadata": {},
   "outputs": [
    {
     "data": {
      "text/html": [
       "<div>\n",
       "<style scoped>\n",
       "    .dataframe tbody tr th:only-of-type {\n",
       "        vertical-align: middle;\n",
       "    }\n",
       "\n",
       "    .dataframe tbody tr th {\n",
       "        vertical-align: top;\n",
       "    }\n",
       "\n",
       "    .dataframe thead th {\n",
       "        text-align: right;\n",
       "    }\n",
       "</style>\n",
       "<table border=\"1\" class=\"dataframe\">\n",
       "  <thead>\n",
       "    <tr style=\"text-align: right;\">\n",
       "      <th></th>\n",
       "      <th>punct%</th>\n",
       "      <th>body_len</th>\n",
       "      <th>0</th>\n",
       "      <th>1</th>\n",
       "      <th>2</th>\n",
       "      <th>3</th>\n",
       "      <th>4</th>\n",
       "      <th>5</th>\n",
       "      <th>6</th>\n",
       "      <th>7</th>\n",
       "      <th>...</th>\n",
       "      <th>15680</th>\n",
       "      <th>15681</th>\n",
       "      <th>15682</th>\n",
       "      <th>15683</th>\n",
       "      <th>15684</th>\n",
       "      <th>15685</th>\n",
       "      <th>15686</th>\n",
       "      <th>15687</th>\n",
       "      <th>15688</th>\n",
       "      <th>15689</th>\n",
       "    </tr>\n",
       "  </thead>\n",
       "  <tbody>\n",
       "    <tr>\n",
       "      <th>0</th>\n",
       "      <td>9.4</td>\n",
       "      <td>32</td>\n",
       "      <td>0.0</td>\n",
       "      <td>0.0</td>\n",
       "      <td>0.0</td>\n",
       "      <td>0.0</td>\n",
       "      <td>0.0</td>\n",
       "      <td>0.0</td>\n",
       "      <td>0.0</td>\n",
       "      <td>0.0</td>\n",
       "      <td>...</td>\n",
       "      <td>0.0</td>\n",
       "      <td>0.0</td>\n",
       "      <td>0.0</td>\n",
       "      <td>0.0</td>\n",
       "      <td>0.0</td>\n",
       "      <td>0.0</td>\n",
       "      <td>0.0</td>\n",
       "      <td>0.0</td>\n",
       "      <td>0.0</td>\n",
       "      <td>0.0</td>\n",
       "    </tr>\n",
       "    <tr>\n",
       "      <th>1</th>\n",
       "      <td>9.4</td>\n",
       "      <td>64</td>\n",
       "      <td>0.0</td>\n",
       "      <td>0.0</td>\n",
       "      <td>0.0</td>\n",
       "      <td>0.0</td>\n",
       "      <td>0.0</td>\n",
       "      <td>0.0</td>\n",
       "      <td>0.0</td>\n",
       "      <td>0.0</td>\n",
       "      <td>...</td>\n",
       "      <td>0.0</td>\n",
       "      <td>0.0</td>\n",
       "      <td>0.0</td>\n",
       "      <td>0.0</td>\n",
       "      <td>0.0</td>\n",
       "      <td>0.0</td>\n",
       "      <td>0.0</td>\n",
       "      <td>0.0</td>\n",
       "      <td>0.0</td>\n",
       "      <td>0.0</td>\n",
       "    </tr>\n",
       "    <tr>\n",
       "      <th>2</th>\n",
       "      <td>10.0</td>\n",
       "      <td>60</td>\n",
       "      <td>0.0</td>\n",
       "      <td>0.0</td>\n",
       "      <td>0.0</td>\n",
       "      <td>0.0</td>\n",
       "      <td>0.0</td>\n",
       "      <td>0.0</td>\n",
       "      <td>0.0</td>\n",
       "      <td>0.0</td>\n",
       "      <td>...</td>\n",
       "      <td>0.0</td>\n",
       "      <td>0.0</td>\n",
       "      <td>0.0</td>\n",
       "      <td>0.0</td>\n",
       "      <td>0.0</td>\n",
       "      <td>0.0</td>\n",
       "      <td>0.0</td>\n",
       "      <td>0.0</td>\n",
       "      <td>0.0</td>\n",
       "      <td>0.0</td>\n",
       "    </tr>\n",
       "    <tr>\n",
       "      <th>3</th>\n",
       "      <td>6.4</td>\n",
       "      <td>110</td>\n",
       "      <td>0.0</td>\n",
       "      <td>0.0</td>\n",
       "      <td>0.0</td>\n",
       "      <td>0.0</td>\n",
       "      <td>0.0</td>\n",
       "      <td>0.0</td>\n",
       "      <td>0.0</td>\n",
       "      <td>0.0</td>\n",
       "      <td>...</td>\n",
       "      <td>0.0</td>\n",
       "      <td>0.0</td>\n",
       "      <td>0.0</td>\n",
       "      <td>0.0</td>\n",
       "      <td>0.0</td>\n",
       "      <td>0.0</td>\n",
       "      <td>0.0</td>\n",
       "      <td>0.0</td>\n",
       "      <td>0.0</td>\n",
       "      <td>0.0</td>\n",
       "    </tr>\n",
       "    <tr>\n",
       "      <th>4</th>\n",
       "      <td>4.3</td>\n",
       "      <td>46</td>\n",
       "      <td>0.0</td>\n",
       "      <td>0.0</td>\n",
       "      <td>0.0</td>\n",
       "      <td>0.0</td>\n",
       "      <td>0.0</td>\n",
       "      <td>0.0</td>\n",
       "      <td>0.0</td>\n",
       "      <td>0.0</td>\n",
       "      <td>...</td>\n",
       "      <td>0.0</td>\n",
       "      <td>0.0</td>\n",
       "      <td>0.0</td>\n",
       "      <td>0.0</td>\n",
       "      <td>0.0</td>\n",
       "      <td>0.0</td>\n",
       "      <td>0.0</td>\n",
       "      <td>0.0</td>\n",
       "      <td>0.0</td>\n",
       "      <td>0.0</td>\n",
       "    </tr>\n",
       "  </tbody>\n",
       "</table>\n",
       "<p>5 rows × 15692 columns</p>\n",
       "</div>"
      ],
      "text/plain": [
       "   punct%  body_len    0    1    2    3    4    5    6    7  ...    15680  \\\n",
       "0     9.4        32  0.0  0.0  0.0  0.0  0.0  0.0  0.0  0.0  ...      0.0   \n",
       "1     9.4        64  0.0  0.0  0.0  0.0  0.0  0.0  0.0  0.0  ...      0.0   \n",
       "2    10.0        60  0.0  0.0  0.0  0.0  0.0  0.0  0.0  0.0  ...      0.0   \n",
       "3     6.4       110  0.0  0.0  0.0  0.0  0.0  0.0  0.0  0.0  ...      0.0   \n",
       "4     4.3        46  0.0  0.0  0.0  0.0  0.0  0.0  0.0  0.0  ...      0.0   \n",
       "\n",
       "   15681  15682  15683  15684  15685  15686  15687  15688  15689  \n",
       "0    0.0    0.0    0.0    0.0    0.0    0.0    0.0    0.0    0.0  \n",
       "1    0.0    0.0    0.0    0.0    0.0    0.0    0.0    0.0    0.0  \n",
       "2    0.0    0.0    0.0    0.0    0.0    0.0    0.0    0.0    0.0  \n",
       "3    0.0    0.0    0.0    0.0    0.0    0.0    0.0    0.0    0.0  \n",
       "4    0.0    0.0    0.0    0.0    0.0    0.0    0.0    0.0    0.0  \n",
       "\n",
       "[5 rows x 15692 columns]"
      ]
     },
     "execution_count": 39,
     "metadata": {},
     "output_type": "execute_result"
    }
   ],
   "source": [
    "X_features = pd.concat([a['punct%'],a['body_len'],\n",
    "                        pd.DataFrame(X_tfidf.toarray())], axis=1)\n",
    "X_features.head()"
   ]
  },
  {
   "cell_type": "code",
   "execution_count": 40,
   "metadata": {},
   "outputs": [
    {
     "data": {
      "text/html": [
       "<div>\n",
       "<style scoped>\n",
       "    .dataframe tbody tr th:only-of-type {\n",
       "        vertical-align: middle;\n",
       "    }\n",
       "\n",
       "    .dataframe tbody tr th {\n",
       "        vertical-align: top;\n",
       "    }\n",
       "\n",
       "    .dataframe thead th {\n",
       "        text-align: right;\n",
       "    }\n",
       "</style>\n",
       "<table border=\"1\" class=\"dataframe\">\n",
       "  <thead>\n",
       "    <tr style=\"text-align: right;\">\n",
       "      <th></th>\n",
       "      <th>punct%</th>\n",
       "      <th>body_len</th>\n",
       "      <th>0</th>\n",
       "      <th>1</th>\n",
       "      <th>2</th>\n",
       "      <th>3</th>\n",
       "      <th>4</th>\n",
       "      <th>5</th>\n",
       "      <th>6</th>\n",
       "      <th>7</th>\n",
       "      <th>...</th>\n",
       "      <th>15680</th>\n",
       "      <th>15681</th>\n",
       "      <th>15682</th>\n",
       "      <th>15683</th>\n",
       "      <th>15684</th>\n",
       "      <th>15685</th>\n",
       "      <th>15686</th>\n",
       "      <th>15687</th>\n",
       "      <th>15688</th>\n",
       "      <th>15689</th>\n",
       "    </tr>\n",
       "  </thead>\n",
       "  <tbody>\n",
       "    <tr>\n",
       "      <th>0</th>\n",
       "      <td>9.4</td>\n",
       "      <td>32</td>\n",
       "      <td>0</td>\n",
       "      <td>0</td>\n",
       "      <td>0</td>\n",
       "      <td>0</td>\n",
       "      <td>0</td>\n",
       "      <td>0</td>\n",
       "      <td>0</td>\n",
       "      <td>0</td>\n",
       "      <td>...</td>\n",
       "      <td>0</td>\n",
       "      <td>0</td>\n",
       "      <td>0</td>\n",
       "      <td>0</td>\n",
       "      <td>0</td>\n",
       "      <td>0</td>\n",
       "      <td>0</td>\n",
       "      <td>0</td>\n",
       "      <td>0</td>\n",
       "      <td>0</td>\n",
       "    </tr>\n",
       "    <tr>\n",
       "      <th>1</th>\n",
       "      <td>9.4</td>\n",
       "      <td>64</td>\n",
       "      <td>0</td>\n",
       "      <td>0</td>\n",
       "      <td>0</td>\n",
       "      <td>0</td>\n",
       "      <td>0</td>\n",
       "      <td>0</td>\n",
       "      <td>0</td>\n",
       "      <td>0</td>\n",
       "      <td>...</td>\n",
       "      <td>0</td>\n",
       "      <td>0</td>\n",
       "      <td>0</td>\n",
       "      <td>0</td>\n",
       "      <td>0</td>\n",
       "      <td>0</td>\n",
       "      <td>0</td>\n",
       "      <td>0</td>\n",
       "      <td>0</td>\n",
       "      <td>0</td>\n",
       "    </tr>\n",
       "    <tr>\n",
       "      <th>2</th>\n",
       "      <td>10.0</td>\n",
       "      <td>60</td>\n",
       "      <td>0</td>\n",
       "      <td>0</td>\n",
       "      <td>0</td>\n",
       "      <td>0</td>\n",
       "      <td>0</td>\n",
       "      <td>0</td>\n",
       "      <td>0</td>\n",
       "      <td>0</td>\n",
       "      <td>...</td>\n",
       "      <td>0</td>\n",
       "      <td>0</td>\n",
       "      <td>0</td>\n",
       "      <td>0</td>\n",
       "      <td>0</td>\n",
       "      <td>0</td>\n",
       "      <td>0</td>\n",
       "      <td>0</td>\n",
       "      <td>0</td>\n",
       "      <td>0</td>\n",
       "    </tr>\n",
       "    <tr>\n",
       "      <th>3</th>\n",
       "      <td>6.4</td>\n",
       "      <td>110</td>\n",
       "      <td>0</td>\n",
       "      <td>0</td>\n",
       "      <td>0</td>\n",
       "      <td>0</td>\n",
       "      <td>0</td>\n",
       "      <td>0</td>\n",
       "      <td>0</td>\n",
       "      <td>0</td>\n",
       "      <td>...</td>\n",
       "      <td>0</td>\n",
       "      <td>0</td>\n",
       "      <td>0</td>\n",
       "      <td>0</td>\n",
       "      <td>0</td>\n",
       "      <td>0</td>\n",
       "      <td>0</td>\n",
       "      <td>0</td>\n",
       "      <td>0</td>\n",
       "      <td>0</td>\n",
       "    </tr>\n",
       "    <tr>\n",
       "      <th>4</th>\n",
       "      <td>4.3</td>\n",
       "      <td>46</td>\n",
       "      <td>0</td>\n",
       "      <td>0</td>\n",
       "      <td>0</td>\n",
       "      <td>0</td>\n",
       "      <td>0</td>\n",
       "      <td>0</td>\n",
       "      <td>0</td>\n",
       "      <td>0</td>\n",
       "      <td>...</td>\n",
       "      <td>0</td>\n",
       "      <td>0</td>\n",
       "      <td>0</td>\n",
       "      <td>0</td>\n",
       "      <td>0</td>\n",
       "      <td>0</td>\n",
       "      <td>0</td>\n",
       "      <td>0</td>\n",
       "      <td>0</td>\n",
       "      <td>0</td>\n",
       "    </tr>\n",
       "  </tbody>\n",
       "</table>\n",
       "<p>5 rows × 15692 columns</p>\n",
       "</div>"
      ],
      "text/plain": [
       "   punct%  body_len  0  1  2  3  4  5  6  7  ...    15680  15681  15682  \\\n",
       "0     9.4        32  0  0  0  0  0  0  0  0  ...        0      0      0   \n",
       "1     9.4        64  0  0  0  0  0  0  0  0  ...        0      0      0   \n",
       "2    10.0        60  0  0  0  0  0  0  0  0  ...        0      0      0   \n",
       "3     6.4       110  0  0  0  0  0  0  0  0  ...        0      0      0   \n",
       "4     4.3        46  0  0  0  0  0  0  0  0  ...        0      0      0   \n",
       "\n",
       "   15683  15684  15685  15686  15687  15688  15689  \n",
       "0      0      0      0      0      0      0      0  \n",
       "1      0      0      0      0      0      0      0  \n",
       "2      0      0      0      0      0      0      0  \n",
       "3      0      0      0      0      0      0      0  \n",
       "4      0      0      0      0      0      0      0  \n",
       "\n",
       "[5 rows x 15692 columns]"
      ]
     },
     "execution_count": 40,
     "metadata": {},
     "output_type": "execute_result"
    }
   ],
   "source": [
    "XX_features = pd.concat([a['punct%'],a['body_len'],\n",
    "                        pd.DataFrame(X_counts.toarray())], axis=1)\n",
    "XX_features.head()"
   ]
  },
  {
   "cell_type": "code",
   "execution_count": 41,
   "metadata": {},
   "outputs": [],
   "source": [
    "from sklearn.ensemble import RandomForestClassifier\n",
    "from sklearn.model_selection import KFold, cross_val_score"
   ]
  },
  {
   "cell_type": "code",
   "execution_count": 42,
   "metadata": {},
   "outputs": [
    {
     "data": {
      "text/plain": [
       "array([0.72984973, 0.68579235, 0.61202186, 0.80806011, 0.77971311])"
      ]
     },
     "execution_count": 42,
     "metadata": {},
     "output_type": "execute_result"
    }
   ],
   "source": [
    "rf = RandomForestClassifier(n_jobs=-1)\n",
    "k_fold = KFold(n_splits=5)\n",
    "cross_val_score(rf, X_features, a['airline_sentiment'], cv=k_fold, scoring='accuracy', n_jobs=-1)"
   ]
  },
  {
   "cell_type": "code",
   "execution_count": 43,
   "metadata": {},
   "outputs": [],
   "source": [
    "from sklearn.metrics import precision_recall_fscore_support as score\n",
    "from sklearn.model_selection import train_test_split"
   ]
  },
  {
   "cell_type": "code",
   "execution_count": 44,
   "metadata": {},
   "outputs": [],
   "source": [
    "X_train, X_test, y_train, y_test = train_test_split(X_features, a['airline_sentiment'], test_size=0.2)"
   ]
  },
  {
   "cell_type": "code",
   "execution_count": 45,
   "metadata": {},
   "outputs": [],
   "source": [
    "from sklearn.ensemble import RandomForestClassifier\n",
    "\n",
    "rf = RandomForestClassifier(n_estimators=50, max_depth=15000, n_jobs=-1)\n",
    "rf_model = rf.fit(X_train, y_train)"
   ]
  },
  {
   "cell_type": "code",
   "execution_count": 46,
   "metadata": {},
   "outputs": [
    {
     "data": {
      "text/plain": [
       "[(0.03818679903854401, 'body_len'),\n",
       " (0.03191805921566045, 'punct%'),\n",
       " (0.02570825239217208, 13877),\n",
       " (0.023910742283975436, 13869),\n",
       " (0.014273124749931929, 13200),\n",
       " (0.012425455045185083, 8859),\n",
       " (0.010048712076925204, 14846),\n",
       " (0.009415691989937792, 6588),\n",
       " (0.00923583816336141, 7077),\n",
       " (0.009054777960283427, 8330)]"
      ]
     },
     "execution_count": 46,
     "metadata": {},
     "output_type": "execute_result"
    }
   ],
   "source": [
    "sorted(zip(rf_model.feature_importances_, X_train.columns), reverse=True)[0:10]"
   ]
  },
  {
   "cell_type": "code",
   "execution_count": 47,
   "metadata": {},
   "outputs": [],
   "source": [
    "y_pred = rf_model.predict(X_test)\n",
    "precision, recall, fscore, support = score(y_test, y_pred,labels=['negative'])"
   ]
  },
  {
   "cell_type": "code",
   "execution_count": 48,
   "metadata": {},
   "outputs": [
    {
     "name": "stdout",
     "output_type": "stream",
     "text": [
      "Precision: 0.762 / Recall: 0.955 / Accuracy: 0.752\n"
     ]
    }
   ],
   "source": [
    "print('Precision: {} / Recall: {} / Accuracy: {}'.format(round(precision[0], 3),\n",
    "                                                        round(recall[0], 3),\n",
    "                                                        round((y_pred==y_test).sum() / len(y_pred),3)))"
   ]
  },
  {
   "cell_type": "code",
   "execution_count": 49,
   "metadata": {},
   "outputs": [],
   "source": [
    "def train_RF(n_est, depth):\n",
    "    rf = RandomForestClassifier(n_estimators=n_est, max_depth=depth, n_jobs=-1)\n",
    "    rf_model = rf.fit(X_train, y_train)\n",
    "    y_pred = rf_model.predict(X_test)\n",
    "    precision, recall, fscore, support = score(y_test, y_pred, labels=['negative'])\n",
    "    print('Est: {} / Depth: {} ---- Precision: {} / Recall: {} / Accuracy: {}'.format(\n",
    "        n_est, depth, round(precision[0], 3), round(recall[0], 3),\n",
    "        round((y_pred==y_test).sum() / len(y_pred), 3)))"
   ]
  },
  {
   "cell_type": "code",
   "execution_count": 50,
   "metadata": {},
   "outputs": [
    {
     "name": "stdout",
     "output_type": "stream",
     "text": [
      "Est: 10 / Depth: 5000 ---- Precision: 0.747 / Recall: 0.948 / Accuracy: 0.731\n",
      "Est: 10 / Depth: 10000 ---- Precision: 0.747 / Recall: 0.944 / Accuracy: 0.735\n",
      "Est: 10 / Depth: 15000 ---- Precision: 0.758 / Recall: 0.943 / Accuracy: 0.738\n",
      "Est: 10 / Depth: None ---- Precision: 0.752 / Recall: 0.941 / Accuracy: 0.733\n",
      "Est: 100 / Depth: 5000 ---- Precision: 0.758 / Recall: 0.951 / Accuracy: 0.752\n",
      "Est: 100 / Depth: 10000 ---- Precision: 0.76 / Recall: 0.953 / Accuracy: 0.753\n"
     ]
    },
    {
     "ename": "KeyboardInterrupt",
     "evalue": "",
     "output_type": "error",
     "traceback": [
      "\u001b[0;31m---------------------------------------------------------------------------\u001b[0m",
      "\u001b[0;31mKeyboardInterrupt\u001b[0m                         Traceback (most recent call last)",
      "\u001b[0;32m<ipython-input-50-18fc1ba6cfde>\u001b[0m in \u001b[0;36m<module>\u001b[0;34m()\u001b[0m\n\u001b[1;32m      1\u001b[0m \u001b[0;32mfor\u001b[0m \u001b[0mn_est\u001b[0m \u001b[0;32min\u001b[0m \u001b[0;34m[\u001b[0m\u001b[0;36m10\u001b[0m\u001b[0;34m,\u001b[0m \u001b[0;36m100\u001b[0m\u001b[0;34m,\u001b[0m \u001b[0;36m150\u001b[0m\u001b[0;34m]\u001b[0m\u001b[0;34m:\u001b[0m\u001b[0;34m\u001b[0m\u001b[0m\n\u001b[1;32m      2\u001b[0m     \u001b[0;32mfor\u001b[0m \u001b[0mdepth\u001b[0m \u001b[0;32min\u001b[0m \u001b[0;34m[\u001b[0m\u001b[0;36m5000\u001b[0m\u001b[0;34m,\u001b[0m\u001b[0;36m10000\u001b[0m \u001b[0;34m,\u001b[0m \u001b[0;36m15000\u001b[0m\u001b[0;34m,\u001b[0m \u001b[0;32mNone\u001b[0m\u001b[0;34m]\u001b[0m\u001b[0;34m:\u001b[0m\u001b[0;34m\u001b[0m\u001b[0m\n\u001b[0;32m----> 3\u001b[0;31m         \u001b[0mtrain_RF\u001b[0m\u001b[0;34m(\u001b[0m\u001b[0mn_est\u001b[0m\u001b[0;34m,\u001b[0m \u001b[0mdepth\u001b[0m\u001b[0;34m)\u001b[0m\u001b[0;34m\u001b[0m\u001b[0m\n\u001b[0m",
      "\u001b[0;32m<ipython-input-49-ebfb40f6b77d>\u001b[0m in \u001b[0;36mtrain_RF\u001b[0;34m(n_est, depth)\u001b[0m\n\u001b[1;32m      1\u001b[0m \u001b[0;32mdef\u001b[0m \u001b[0mtrain_RF\u001b[0m\u001b[0;34m(\u001b[0m\u001b[0mn_est\u001b[0m\u001b[0;34m,\u001b[0m \u001b[0mdepth\u001b[0m\u001b[0;34m)\u001b[0m\u001b[0;34m:\u001b[0m\u001b[0;34m\u001b[0m\u001b[0m\n\u001b[1;32m      2\u001b[0m     \u001b[0mrf\u001b[0m \u001b[0;34m=\u001b[0m \u001b[0mRandomForestClassifier\u001b[0m\u001b[0;34m(\u001b[0m\u001b[0mn_estimators\u001b[0m\u001b[0;34m=\u001b[0m\u001b[0mn_est\u001b[0m\u001b[0;34m,\u001b[0m \u001b[0mmax_depth\u001b[0m\u001b[0;34m=\u001b[0m\u001b[0mdepth\u001b[0m\u001b[0;34m,\u001b[0m \u001b[0mn_jobs\u001b[0m\u001b[0;34m=\u001b[0m\u001b[0;34m-\u001b[0m\u001b[0;36m1\u001b[0m\u001b[0;34m)\u001b[0m\u001b[0;34m\u001b[0m\u001b[0m\n\u001b[0;32m----> 3\u001b[0;31m     \u001b[0mrf_model\u001b[0m \u001b[0;34m=\u001b[0m \u001b[0mrf\u001b[0m\u001b[0;34m.\u001b[0m\u001b[0mfit\u001b[0m\u001b[0;34m(\u001b[0m\u001b[0mX_train\u001b[0m\u001b[0;34m,\u001b[0m \u001b[0my_train\u001b[0m\u001b[0;34m)\u001b[0m\u001b[0;34m\u001b[0m\u001b[0m\n\u001b[0m\u001b[1;32m      4\u001b[0m     \u001b[0my_pred\u001b[0m \u001b[0;34m=\u001b[0m \u001b[0mrf_model\u001b[0m\u001b[0;34m.\u001b[0m\u001b[0mpredict\u001b[0m\u001b[0;34m(\u001b[0m\u001b[0mX_test\u001b[0m\u001b[0;34m)\u001b[0m\u001b[0;34m\u001b[0m\u001b[0m\n\u001b[1;32m      5\u001b[0m     \u001b[0mprecision\u001b[0m\u001b[0;34m,\u001b[0m \u001b[0mrecall\u001b[0m\u001b[0;34m,\u001b[0m \u001b[0mfscore\u001b[0m\u001b[0;34m,\u001b[0m \u001b[0msupport\u001b[0m \u001b[0;34m=\u001b[0m \u001b[0mscore\u001b[0m\u001b[0;34m(\u001b[0m\u001b[0my_test\u001b[0m\u001b[0;34m,\u001b[0m \u001b[0my_pred\u001b[0m\u001b[0;34m,\u001b[0m \u001b[0mlabels\u001b[0m\u001b[0;34m=\u001b[0m\u001b[0;34m[\u001b[0m\u001b[0;34m'negative'\u001b[0m\u001b[0;34m]\u001b[0m\u001b[0;34m)\u001b[0m\u001b[0;34m\u001b[0m\u001b[0m\n",
      "\u001b[0;32m/anaconda3/lib/python3.6/site-packages/sklearn/ensemble/forest.py\u001b[0m in \u001b[0;36mfit\u001b[0;34m(self, X, y, sample_weight)\u001b[0m\n\u001b[1;32m    245\u001b[0m         \"\"\"\n\u001b[1;32m    246\u001b[0m         \u001b[0;31m# Validate or convert input data\u001b[0m\u001b[0;34m\u001b[0m\u001b[0;34m\u001b[0m\u001b[0m\n\u001b[0;32m--> 247\u001b[0;31m         \u001b[0mX\u001b[0m \u001b[0;34m=\u001b[0m \u001b[0mcheck_array\u001b[0m\u001b[0;34m(\u001b[0m\u001b[0mX\u001b[0m\u001b[0;34m,\u001b[0m \u001b[0maccept_sparse\u001b[0m\u001b[0;34m=\u001b[0m\u001b[0;34m\"csc\"\u001b[0m\u001b[0;34m,\u001b[0m \u001b[0mdtype\u001b[0m\u001b[0;34m=\u001b[0m\u001b[0mDTYPE\u001b[0m\u001b[0;34m)\u001b[0m\u001b[0;34m\u001b[0m\u001b[0m\n\u001b[0m\u001b[1;32m    248\u001b[0m         \u001b[0my\u001b[0m \u001b[0;34m=\u001b[0m \u001b[0mcheck_array\u001b[0m\u001b[0;34m(\u001b[0m\u001b[0my\u001b[0m\u001b[0;34m,\u001b[0m \u001b[0maccept_sparse\u001b[0m\u001b[0;34m=\u001b[0m\u001b[0;34m'csc'\u001b[0m\u001b[0;34m,\u001b[0m \u001b[0mensure_2d\u001b[0m\u001b[0;34m=\u001b[0m\u001b[0;32mFalse\u001b[0m\u001b[0;34m,\u001b[0m \u001b[0mdtype\u001b[0m\u001b[0;34m=\u001b[0m\u001b[0;32mNone\u001b[0m\u001b[0;34m)\u001b[0m\u001b[0;34m\u001b[0m\u001b[0m\n\u001b[1;32m    249\u001b[0m         \u001b[0;32mif\u001b[0m \u001b[0msample_weight\u001b[0m \u001b[0;32mis\u001b[0m \u001b[0;32mnot\u001b[0m \u001b[0;32mNone\u001b[0m\u001b[0;34m:\u001b[0m\u001b[0;34m\u001b[0m\u001b[0m\n",
      "\u001b[0;32m/anaconda3/lib/python3.6/site-packages/sklearn/utils/validation.py\u001b[0m in \u001b[0;36mcheck_array\u001b[0;34m(array, accept_sparse, dtype, order, copy, force_all_finite, ensure_2d, allow_nd, ensure_min_samples, ensure_min_features, warn_on_dtype, estimator)\u001b[0m\n\u001b[1;32m    431\u001b[0m                                       force_all_finite)\n\u001b[1;32m    432\u001b[0m     \u001b[0;32melse\u001b[0m\u001b[0;34m:\u001b[0m\u001b[0;34m\u001b[0m\u001b[0m\n\u001b[0;32m--> 433\u001b[0;31m         \u001b[0marray\u001b[0m \u001b[0;34m=\u001b[0m \u001b[0mnp\u001b[0m\u001b[0;34m.\u001b[0m\u001b[0marray\u001b[0m\u001b[0;34m(\u001b[0m\u001b[0marray\u001b[0m\u001b[0;34m,\u001b[0m \u001b[0mdtype\u001b[0m\u001b[0;34m=\u001b[0m\u001b[0mdtype\u001b[0m\u001b[0;34m,\u001b[0m \u001b[0morder\u001b[0m\u001b[0;34m=\u001b[0m\u001b[0morder\u001b[0m\u001b[0;34m,\u001b[0m \u001b[0mcopy\u001b[0m\u001b[0;34m=\u001b[0m\u001b[0mcopy\u001b[0m\u001b[0;34m)\u001b[0m\u001b[0;34m\u001b[0m\u001b[0m\n\u001b[0m\u001b[1;32m    434\u001b[0m \u001b[0;34m\u001b[0m\u001b[0m\n\u001b[1;32m    435\u001b[0m         \u001b[0;32mif\u001b[0m \u001b[0mensure_2d\u001b[0m\u001b[0;34m:\u001b[0m\u001b[0;34m\u001b[0m\u001b[0m\n",
      "\u001b[0;32m/anaconda3/lib/python3.6/site-packages/pandas/core/generic.py\u001b[0m in \u001b[0;36m__array__\u001b[0;34m(self, dtype)\u001b[0m\n\u001b[1;32m   1601\u001b[0m \u001b[0;34m\u001b[0m\u001b[0m\n\u001b[1;32m   1602\u001b[0m     \u001b[0;32mdef\u001b[0m \u001b[0m__array__\u001b[0m\u001b[0;34m(\u001b[0m\u001b[0mself\u001b[0m\u001b[0;34m,\u001b[0m \u001b[0mdtype\u001b[0m\u001b[0;34m=\u001b[0m\u001b[0;32mNone\u001b[0m\u001b[0;34m)\u001b[0m\u001b[0;34m:\u001b[0m\u001b[0;34m\u001b[0m\u001b[0m\n\u001b[0;32m-> 1603\u001b[0;31m         \u001b[0;32mreturn\u001b[0m \u001b[0mcom\u001b[0m\u001b[0;34m.\u001b[0m\u001b[0m_values_from_object\u001b[0m\u001b[0;34m(\u001b[0m\u001b[0mself\u001b[0m\u001b[0;34m)\u001b[0m\u001b[0;34m\u001b[0m\u001b[0m\n\u001b[0m\u001b[1;32m   1604\u001b[0m \u001b[0;34m\u001b[0m\u001b[0m\n\u001b[1;32m   1605\u001b[0m     \u001b[0;32mdef\u001b[0m \u001b[0m__array_wrap__\u001b[0m\u001b[0;34m(\u001b[0m\u001b[0mself\u001b[0m\u001b[0;34m,\u001b[0m \u001b[0mresult\u001b[0m\u001b[0;34m,\u001b[0m \u001b[0mcontext\u001b[0m\u001b[0;34m=\u001b[0m\u001b[0;32mNone\u001b[0m\u001b[0;34m)\u001b[0m\u001b[0;34m:\u001b[0m\u001b[0;34m\u001b[0m\u001b[0m\n",
      "\u001b[0;32mpandas/_libs/lib.pyx\u001b[0m in \u001b[0;36mpandas._libs.lib.values_from_object\u001b[0;34m()\u001b[0m\n",
      "\u001b[0;32m/anaconda3/lib/python3.6/site-packages/pandas/core/generic.py\u001b[0m in \u001b[0;36mget_values\u001b[0;34m(self)\u001b[0m\n\u001b[1;32m   4682\u001b[0m                [nan,  3.]])\n\u001b[1;32m   4683\u001b[0m         \"\"\"\n\u001b[0;32m-> 4684\u001b[0;31m         \u001b[0;32mreturn\u001b[0m \u001b[0mself\u001b[0m\u001b[0;34m.\u001b[0m\u001b[0mvalues\u001b[0m\u001b[0;34m\u001b[0m\u001b[0m\n\u001b[0m\u001b[1;32m   4685\u001b[0m \u001b[0;34m\u001b[0m\u001b[0m\n\u001b[1;32m   4686\u001b[0m     \u001b[0;32mdef\u001b[0m \u001b[0mget_dtype_counts\u001b[0m\u001b[0;34m(\u001b[0m\u001b[0mself\u001b[0m\u001b[0;34m)\u001b[0m\u001b[0;34m:\u001b[0m\u001b[0;34m\u001b[0m\u001b[0m\n",
      "\u001b[0;32m/anaconda3/lib/python3.6/site-packages/pandas/core/generic.py\u001b[0m in \u001b[0;36mvalues\u001b[0;34m(self)\u001b[0m\n\u001b[1;32m   4627\u001b[0m         \"\"\"\n\u001b[1;32m   4628\u001b[0m         \u001b[0mself\u001b[0m\u001b[0;34m.\u001b[0m\u001b[0m_consolidate_inplace\u001b[0m\u001b[0;34m(\u001b[0m\u001b[0;34m)\u001b[0m\u001b[0;34m\u001b[0m\u001b[0m\n\u001b[0;32m-> 4629\u001b[0;31m         \u001b[0;32mreturn\u001b[0m \u001b[0mself\u001b[0m\u001b[0;34m.\u001b[0m\u001b[0m_data\u001b[0m\u001b[0;34m.\u001b[0m\u001b[0mas_array\u001b[0m\u001b[0;34m(\u001b[0m\u001b[0mtranspose\u001b[0m\u001b[0;34m=\u001b[0m\u001b[0mself\u001b[0m\u001b[0;34m.\u001b[0m\u001b[0m_AXIS_REVERSED\u001b[0m\u001b[0;34m)\u001b[0m\u001b[0;34m\u001b[0m\u001b[0m\n\u001b[0m\u001b[1;32m   4630\u001b[0m \u001b[0;34m\u001b[0m\u001b[0m\n\u001b[1;32m   4631\u001b[0m     \u001b[0;34m@\u001b[0m\u001b[0mproperty\u001b[0m\u001b[0;34m\u001b[0m\u001b[0m\n",
      "\u001b[0;32m/anaconda3/lib/python3.6/site-packages/pandas/core/internals.py\u001b[0m in \u001b[0;36mas_array\u001b[0;34m(self, transpose, items)\u001b[0m\n\u001b[1;32m   3947\u001b[0m             \u001b[0marr\u001b[0m \u001b[0;34m=\u001b[0m \u001b[0mmgr\u001b[0m\u001b[0;34m.\u001b[0m\u001b[0mblocks\u001b[0m\u001b[0;34m[\u001b[0m\u001b[0;36m0\u001b[0m\u001b[0;34m]\u001b[0m\u001b[0;34m.\u001b[0m\u001b[0mget_values\u001b[0m\u001b[0;34m(\u001b[0m\u001b[0;34m)\u001b[0m\u001b[0;34m\u001b[0m\u001b[0m\n\u001b[1;32m   3948\u001b[0m         \u001b[0;32melse\u001b[0m\u001b[0;34m:\u001b[0m\u001b[0;34m\u001b[0m\u001b[0m\n\u001b[0;32m-> 3949\u001b[0;31m             \u001b[0marr\u001b[0m \u001b[0;34m=\u001b[0m \u001b[0mmgr\u001b[0m\u001b[0;34m.\u001b[0m\u001b[0m_interleave\u001b[0m\u001b[0;34m(\u001b[0m\u001b[0;34m)\u001b[0m\u001b[0;34m\u001b[0m\u001b[0m\n\u001b[0m\u001b[1;32m   3950\u001b[0m \u001b[0;34m\u001b[0m\u001b[0m\n\u001b[1;32m   3951\u001b[0m         \u001b[0;32mreturn\u001b[0m \u001b[0marr\u001b[0m\u001b[0;34m.\u001b[0m\u001b[0mtranspose\u001b[0m\u001b[0;34m(\u001b[0m\u001b[0;34m)\u001b[0m \u001b[0;32mif\u001b[0m \u001b[0mtranspose\u001b[0m \u001b[0;32melse\u001b[0m \u001b[0marr\u001b[0m\u001b[0;34m\u001b[0m\u001b[0m\n",
      "\u001b[0;32m/anaconda3/lib/python3.6/site-packages/pandas/core/internals.py\u001b[0m in \u001b[0;36m_interleave\u001b[0;34m(self)\u001b[0m\n\u001b[1;32m   3976\u001b[0m         \u001b[0;32mfor\u001b[0m \u001b[0mblk\u001b[0m \u001b[0;32min\u001b[0m \u001b[0mself\u001b[0m\u001b[0;34m.\u001b[0m\u001b[0mblocks\u001b[0m\u001b[0;34m:\u001b[0m\u001b[0;34m\u001b[0m\u001b[0m\n\u001b[1;32m   3977\u001b[0m             \u001b[0mrl\u001b[0m \u001b[0;34m=\u001b[0m \u001b[0mblk\u001b[0m\u001b[0;34m.\u001b[0m\u001b[0mmgr_locs\u001b[0m\u001b[0;34m\u001b[0m\u001b[0m\n\u001b[0;32m-> 3978\u001b[0;31m             \u001b[0mresult\u001b[0m\u001b[0;34m[\u001b[0m\u001b[0mrl\u001b[0m\u001b[0;34m.\u001b[0m\u001b[0mindexer\u001b[0m\u001b[0;34m]\u001b[0m \u001b[0;34m=\u001b[0m \u001b[0mblk\u001b[0m\u001b[0;34m.\u001b[0m\u001b[0mget_values\u001b[0m\u001b[0;34m(\u001b[0m\u001b[0mdtype\u001b[0m\u001b[0;34m)\u001b[0m\u001b[0;34m\u001b[0m\u001b[0m\n\u001b[0m\u001b[1;32m   3979\u001b[0m             \u001b[0mitemmask\u001b[0m\u001b[0;34m[\u001b[0m\u001b[0mrl\u001b[0m\u001b[0;34m.\u001b[0m\u001b[0mindexer\u001b[0m\u001b[0;34m]\u001b[0m \u001b[0;34m=\u001b[0m \u001b[0;36m1\u001b[0m\u001b[0;34m\u001b[0m\u001b[0m\n\u001b[1;32m   3980\u001b[0m \u001b[0;34m\u001b[0m\u001b[0m\n",
      "\u001b[0;31mKeyboardInterrupt\u001b[0m: "
     ]
    }
   ],
   "source": [
    "for n_est in [10, 100, 150]:\n",
    "    for depth in [5000,10000 , 15000, None]:\n",
    "        train_RF(n_est, depth)"
   ]
  },
  {
   "cell_type": "code",
   "execution_count": null,
   "metadata": {},
   "outputs": [],
   "source": [
    "import warnings\n",
    "warnings.filterwarnings(\"ignore\", category=DeprecationWarning)\n",
    "from sklearn.ensemble import RandomForestClassifier\n",
    "from sklearn.model_selection import GridSearchCV"
   ]
  },
  {
   "cell_type": "code",
   "execution_count": null,
   "metadata": {},
   "outputs": [],
   "source": [
    "rf = RandomForestClassifier()\n",
    "param = {'n_estimators': [10,20],\n",
    "        'max_depth': [30, 60, 90, None]}\n",
    "\n",
    "gs = GridSearchCV(rf, param, cv=5, n_jobs=-1)\n",
    "gs_fit = gs.fit(X_features, a['airline_sentiment'])\n",
    "pd.DataFrame(gs_fit.cv_results_).sort_values('mean_test_score', ascending=False)[0:5]"
   ]
  },
  {
   "cell_type": "code",
   "execution_count": null,
   "metadata": {},
   "outputs": [],
   "source": [
    "from sklearn.ensemble import GradientBoostingClassifier"
   ]
  },
  {
   "cell_type": "code",
   "execution_count": null,
   "metadata": {},
   "outputs": [],
   "source": [
    "def train_GB(est, max_depth, lr):\n",
    "    gb = GradientBoostingClassifier(n_estimators=est, max_depth=max_depth, learning_rate=lr)\n",
    "    gb_model = gb.fit(X_train, y_train)\n",
    "    y_pred = gb_model.predict(X_test)\n",
    "    precision, recall, fscore, train_support = score(y_test, y_pred,labels=['negative'] )\n",
    "    print('Est: {} / Depth: {} / LR: {} ---- Precision: {} / Recall: {} / Accuracy: {}'.format(\n",
    "        est, max_depth, lr, round(precision[0], 3), round(recall[0], 3), \n",
    "        round((y_pred==y_test).sum()/len(y_pred), 3)))"
   ]
  },
  {
   "cell_type": "code",
   "execution_count": null,
   "metadata": {},
   "outputs": [],
   "source": [
    "for n_est in [10, 100, 150]:\n",
    "    for depth in [5000,10000 , 15000, None]:\n",
    "        train_RF(n_est, depth)"
   ]
  },
  {
   "cell_type": "code",
   "execution_count": null,
   "metadata": {},
   "outputs": [],
   "source": [
    "gb = GradientBoostingClassifier()\n",
    "param = {\n",
    "    'n_estimators': [1, 2], \n",
    "    'max_depth': [7, 11, 15],\n",
    "}\n",
    "\n",
    "clf = GridSearchCV(gb, param, cv=5, n_jobs=-1)\n",
    "cv_fit = clf.fit(X_features, a['airline_sentiment'])\n",
    "pd.DataFrame(cv_fit.cv_results_).sort_values('mean_test_score', ascending=False)[0:5]"
   ]
  },
  {
   "cell_type": "code",
   "execution_count": null,
   "metadata": {},
   "outputs": [],
   "source": [
    "gb = GradientBoostingClassifier()\n",
    "param = {\n",
    "    'n_estimators': [1, 2], \n",
    "    'max_depth': [7, 11, 15],\n",
    "}\n",
    "\n",
    "clf = GridSearchCV(gb, param, cv=5, n_jobs=-1)\n",
    "cv_fit = clf.fit(XX_features, a['airline_sentiment'])\n",
    "pd.DataFrame(cv_fit.cv_results_).sort_values('mean_test_score', ascending=False)[0:5]"
   ]
  },
  {
   "cell_type": "code",
   "execution_count": null,
   "metadata": {},
   "outputs": [],
   "source": [
    "X_train"
   ]
  },
  {
   "cell_type": "code",
   "execution_count": null,
   "metadata": {},
   "outputs": [],
   "source": [
    "tfidf_vect = TfidfVectorizer(analyzer=clean_text)\n",
    "tfidf_vect_fit = tfidf_vect.fit(X_train['text'])\n",
    "\n",
    "tfidf_train = tfidf_vect_fit.transform(X_train['text'])\n",
    "tfidf_test = tfidf_vect_fit.transform(X_test['text'])\n",
    "\n",
    "X_train_vect = pd.concat([X_train[['body_len', 'punct%']].reset_index(drop=True), \n",
    "           pd.DataFrame(tfidf_train.toarray())], axis=1)\n",
    "X_test_vect = pd.concat([X_test[['body_len', 'punct%']].reset_index(drop=True), \n",
    "           pd.DataFrame(tfidf_test.toarray())], axis=1)\n",
    "\n",
    "X_train_vect.head()"
   ]
  },
  {
   "cell_type": "code",
   "execution_count": null,
   "metadata": {},
   "outputs": [],
   "source": [
    "import time"
   ]
  },
  {
   "cell_type": "code",
   "execution_count": null,
   "metadata": {},
   "outputs": [],
   "source": [
    "rf = RandomForestClassifier(n_estimators=150, max_depth=None, n_jobs=-1)\n",
    "\n",
    "start = time.time()\n",
    "rf_model = rf.fit(X_train, y_train)\n",
    "end = time.time()\n",
    "fit_time = (end - start)\n",
    "\n",
    "start = time.time()\n",
    "y_pred = rf_model.predict(X_test)\n",
    "end = time.time()\n",
    "pred_time = (end - start)\n",
    "\n",
    "precision, recall, fscore, train_support = score(y_test, y_pred,labels=['negative'] )\n",
    "print('Fit time: {} / Predict time: {} ---- Precision: {} / Recall: {} / Accuracy: {}'.format(\n",
    "    round(fit_time, 3), round(pred_time, 3), round(precision[0], 3), round(recall[0], 3), round((y_pred==y_test).sum()/len(y_pred), 3)))"
   ]
  },
  {
   "cell_type": "code",
   "execution_count": null,
   "metadata": {},
   "outputs": [],
   "source": [
    "gb = GradientBoostingClassifier(n_estimators=150, max_depth=11)\n",
    "\n",
    "start = time.time()\n",
    "gb_model = gb.fit(X_train, y_train)\n",
    "end = time.time()\n",
    "fit_time = (end - start)\n",
    "\n",
    "start = time.time()\n",
    "y_pred = gb_model.predict(X_test)\n",
    "end = time.time()\n",
    "pred_time = (end - start)\n",
    "\n",
    "precision, recall, fscore, train_support = score(y_test, y_pred, labels=['negative'])\n",
    "print('Fit time: {} / Predict time: {} ---- Precision: {} / Recall: {} / Accuracy: {}'.format(\n",
    "    round(fit_time, 3), round(pred_time, 3), round(precision[0], 3), round(recall[0], 3), round((y_pred==y_test).sum()/len(y_pred), 3)))"
   ]
  },
  {
   "cell_type": "code",
   "execution_count": null,
   "metadata": {},
   "outputs": [],
   "source": []
  }
 ],
 "metadata": {
  "kernelspec": {
   "display_name": "Python 3",
   "language": "python",
   "name": "python3"
  },
  "language_info": {
   "codemirror_mode": {
    "name": "ipython",
    "version": 3
   },
   "file_extension": ".py",
   "mimetype": "text/x-python",
   "name": "python",
   "nbconvert_exporter": "python",
   "pygments_lexer": "ipython3",
   "version": "3.6.5"
  }
 },
 "nbformat": 4,
 "nbformat_minor": 2
}
